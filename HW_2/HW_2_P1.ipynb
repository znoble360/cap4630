{
  "nbformat": 4,
  "nbformat_minor": 0,
  "metadata": {
    "colab": {
      "name": "HW_2_plot_graphs.ipynb",
      "provenance": [],
      "private_outputs": true,
      "collapsed_sections": [],
      "authorship_tag": "ABX9TyM0PSAChzSszDQl+txAot4I",
      "include_colab_link": true
    },
    "kernelspec": {
      "name": "python3",
      "display_name": "Python 3"
    }
  },
  "cells": [
    {
      "cell_type": "markdown",
      "metadata": {
        "id": "view-in-github",
        "colab_type": "text"
      },
      "source": [
        "<a href=\"https://colab.research.google.com/github/znoble360/cap4630/blob/master/HW_2/HW_2_P1.ipynb\" target=\"_parent\"><img src=\"https://colab.research.google.com/assets/colab-badge.svg\" alt=\"Open In Colab\"/></a>"
      ]
    },
    {
      "cell_type": "markdown",
      "metadata": {
        "id": "xdtoA-W11Aqr",
        "colab_type": "text"
      },
      "source": [
        "# Problem 1"
      ]
    },
    {
      "cell_type": "code",
      "metadata": {
        "id": "ohPhanPIx1bg",
        "colab_type": "code",
        "colab": {}
      },
      "source": [
        "%matplotlib inline\n",
        "import numpy as np\n",
        "import matplotlib.pyplot as plt\n",
        "from mpl_toolkits import mplot3d"
      ],
      "execution_count": 0,
      "outputs": []
    },
    {
      "cell_type": "markdown",
      "metadata": {
        "id": "bJPFPJGexknM",
        "colab_type": "text"
      },
      "source": [
        "## f1:\n",
        "\\begin{equation*} \n",
        "f1(x,y) = x^2 + y^2\n",
        "\\end{equation*}\n",
        "\\begin{equation*} \n",
        "p1 = (0,0)\n",
        "\\end{equation*}\n",
        "<br>\n",
        "\n"
      ]
    },
    {
      "cell_type": "code",
      "metadata": {
        "id": "7GKXuQgHUC4l",
        "colab_type": "code",
        "colab": {}
      },
      "source": [
        "# defining the first bivariate function f1\n",
        "def f1(x, y):\n",
        "    return np.power(x, 2) + np.power(y, 2)\n",
        "\n",
        "\n",
        "x = np.linspace(-5, 5)\n",
        "y = np.linspace(-5, 5)\n",
        "\n",
        "X, Y = np.meshgrid(x, y)\n",
        "Z1 = f1(X, Y)"
      ],
      "execution_count": 0,
      "outputs": []
    },
    {
      "cell_type": "markdown",
      "metadata": {
        "id": "8oATuJVcxt5g",
        "colab_type": "text"
      },
      "source": [
        "### three-dimensional plot:"
      ]
    },
    {
      "cell_type": "code",
      "metadata": {
        "id": "lXDtRg78T9h8",
        "colab_type": "code",
        "colab": {}
      },
      "source": [
        "ax = plt.axes(projection='3d')\n",
        "\n",
        "ax.contour3D(X, Y, Z1, 50, cmap='binary')\n",
        "ax.scatter(0, 0, 0)\n",
        "\n",
        "ax.view_init(50)"
      ],
      "execution_count": 0,
      "outputs": []
    },
    {
      "cell_type": "markdown",
      "metadata": {
        "id": "Ji3Aq9YFx2GI",
        "colab_type": "text"
      },
      "source": [
        "### density plot:"
      ]
    },
    {
      "cell_type": "code",
      "metadata": {
        "colab_type": "code",
        "id": "D3OI4esv8B9j",
        "colab": {}
      },
      "source": [
        "plt.contourf(X, Y, Z1, 50, cmap='RdGy')\n",
        "plt.colorbar()\n",
        "plt.scatter(0,0)"
      ],
      "execution_count": 0,
      "outputs": []
    },
    {
      "cell_type": "markdown",
      "metadata": {
        "id": "jFd1fHGnyBwI",
        "colab_type": "text"
      },
      "source": [
        "### contour plot:"
      ]
    },
    {
      "cell_type": "code",
      "metadata": {
        "id": "z2E9DsgOwXPF",
        "colab_type": "code",
        "colab": {}
      },
      "source": [
        "plt.contour(X, Y, Z1, 50, cmap='RdGy')\n",
        "plt.colorbar()\n",
        "plt.scatter(0,0)"
      ],
      "execution_count": 0,
      "outputs": []
    },
    {
      "cell_type": "markdown",
      "metadata": {
        "id": "nZFxtA9Bwc0j",
        "colab_type": "text"
      },
      "source": [
        "## f2:\n",
        "\\begin{equation*} \n",
        "f2(x,y) = \\frac{1}{ln(x^2 + y^2)}\n",
        "\\end{equation*}\n",
        "\\begin{equation*} \n",
        "p2 = (0,0)\n",
        "\\end{equation*}\n",
        "<br>\n"
      ]
    },
    {
      "cell_type": "code",
      "metadata": {
        "id": "2LNMSRuCUJeR",
        "colab_type": "code",
        "colab": {}
      },
      "source": [
        "# defining the second bivariate function f2\n",
        "def f2(x, y):\n",
        "    \n",
        "    temp = np.power(x, 2) + np.power(y, 2)\n",
        "    return -np.power(temp, 0.5)\n",
        "\n",
        "Z2 = f2(X, Y)"
      ],
      "execution_count": 0,
      "outputs": []
    },
    {
      "cell_type": "markdown",
      "metadata": {
        "id": "l9252FodysOP",
        "colab_type": "text"
      },
      "source": [
        "### three-dimensional plot:"
      ]
    },
    {
      "cell_type": "code",
      "metadata": {
        "id": "j5CG-GNYy5Ng",
        "colab_type": "code",
        "colab": {}
      },
      "source": [
        "ax = plt.axes(projection='3d')\n",
        "\n",
        "ax.contour3D(X, Y, Z2, 50, cmap='binary')\n",
        "ax.scatter(0, 0, 0)"
      ],
      "execution_count": 0,
      "outputs": []
    },
    {
      "cell_type": "markdown",
      "metadata": {
        "id": "NLcDAhbMyt4_",
        "colab_type": "text"
      },
      "source": [
        "### density plot:"
      ]
    },
    {
      "cell_type": "code",
      "metadata": {
        "id": "c4BwUREfreQW",
        "colab_type": "code",
        "colab": {}
      },
      "source": [
        "plt.contourf(X, Y, Z2, 50, cmap='RdGy')\n",
        "plt.colorbar()\n",
        "plt.scatter(0,0)"
      ],
      "execution_count": 0,
      "outputs": []
    },
    {
      "cell_type": "markdown",
      "metadata": {
        "id": "11cif_qjyqtB",
        "colab_type": "text"
      },
      "source": [
        "### contour plot:"
      ]
    },
    {
      "cell_type": "code",
      "metadata": {
        "id": "47f8x6lGzL5u",
        "colab_type": "code",
        "colab": {}
      },
      "source": [
        "plt.contour(X, Y, Z2, 50, cmap='RdGy')\n",
        "plt.colorbar()\n",
        "plt.scatter(0,0)"
      ],
      "execution_count": 0,
      "outputs": []
    },
    {
      "cell_type": "markdown",
      "metadata": {
        "id": "DJ1lLnlNwvLj",
        "colab_type": "text"
      },
      "source": [
        "## f3:\n",
        "\n",
        "\\begin{equation*} \n",
        "f3(x,y) = x^3 + y^3\n",
        "\\end{equation*}\n",
        "\\begin{equation*} \n",
        "p3 = (0,0)\n",
        "\\end{equation*}\n",
        "<br>\n"
      ]
    },
    {
      "cell_type": "code",
      "metadata": {
        "id": "o4B5O53TVQES",
        "colab_type": "code",
        "colab": {}
      },
      "source": [
        "# defining the third bivariate function f3\n",
        "def f3(x, y):\n",
        "    return np.power(x, 3) + np.power(y, 3) \n",
        "\n",
        "Z3 = f3(X, Y)"
      ],
      "execution_count": 0,
      "outputs": []
    },
    {
      "cell_type": "markdown",
      "metadata": {
        "id": "BEizD9dpyerL",
        "colab_type": "text"
      },
      "source": [
        "### three-dimensional plot:"
      ]
    },
    {
      "cell_type": "code",
      "metadata": {
        "id": "eDLkXCC9zIhG",
        "colab_type": "code",
        "colab": {}
      },
      "source": [
        "ax = plt.axes(projection='3d')\n",
        "\n",
        "ax.contour3D(X, Y, Z3, 50, cmap='binary')\n",
        "ax.scatter(0, 0, 0)\n",
        "\n",
        "ax.view_init(20, -70)"
      ],
      "execution_count": 0,
      "outputs": []
    },
    {
      "cell_type": "markdown",
      "metadata": {
        "id": "XI68oDj-yiJg",
        "colab_type": "text"
      },
      "source": [
        "### density plot:"
      ]
    },
    {
      "cell_type": "code",
      "metadata": {
        "id": "XlzZQqt-rdy2",
        "colab_type": "code",
        "colab": {}
      },
      "source": [
        "plt.contourf(X, Y, Z3, 50, cmap='RdGy')\n",
        "plt.colorbar()\n",
        "plt.scatter(0,0)"
      ],
      "execution_count": 0,
      "outputs": []
    },
    {
      "cell_type": "markdown",
      "metadata": {
        "id": "bK5QYeuyyftQ",
        "colab_type": "text"
      },
      "source": [
        "### contour plot:"
      ]
    },
    {
      "cell_type": "code",
      "metadata": {
        "id": "w6-2bvDnzG0C",
        "colab_type": "code",
        "colab": {}
      },
      "source": [
        "plt.contour(X, Y, Z3, 50, cmap='RdGy')\n",
        "plt.colorbar()\n",
        "plt.scatter(0,0)"
      ],
      "execution_count": 0,
      "outputs": []
    }
  ]
}