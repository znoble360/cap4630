{
  "nbformat": 4,
  "nbformat_minor": 0,
  "metadata": {
    "colab": {
      "name": "HW_2_P3.ipynb",
      "provenance": [],
      "collapsed_sections": [],
      "authorship_tag": "ABX9TyNjoB/B3k+B0qVGJ24UKiWM",
      "include_colab_link": true
    },
    "kernelspec": {
      "name": "python3",
      "display_name": "Python 3"
    }
  },
  "cells": [
    {
      "cell_type": "markdown",
      "metadata": {
        "id": "view-in-github",
        "colab_type": "text"
      },
      "source": [
        "<a href=\"https://colab.research.google.com/github/znoble360/cap4630/blob/master/HW_2/HW_2_P3.ipynb\" target=\"_parent\"><img src=\"https://colab.research.google.com/assets/colab-badge.svg\" alt=\"Open In Colab\"/></a>"
      ]
    },
    {
      "cell_type": "markdown",
      "metadata": {
        "id": "hNLDRq0zTHKC",
        "colab_type": "text"
      },
      "source": [
        "# Problem 3"
      ]
    },
    {
      "cell_type": "markdown",
      "metadata": {
        "id": "--qPGrGEns4F",
        "colab_type": "text"
      },
      "source": [
        "## Imports"
      ]
    },
    {
      "cell_type": "code",
      "metadata": {
        "id": "XvYBiGqHTG6c",
        "colab_type": "code",
        "colab": {
          "base_uri": "https://localhost:8080/",
          "height": 34
        },
        "outputId": "7eb823fd-12a6-43cd-89e6-32310cb269b5"
      },
      "source": [
        "# Import tensorflow and keras\n",
        "%tensorflow_version 2.x\n",
        "import tensorflow as tf\n",
        "from tensorflow import keras\n",
        "import numpy as np\n",
        "import matplotlib.pyplot as plt\n",
        "\n",
        "# Import tensorflow datasets\n",
        "import tensorflow_datasets as tfds"
      ],
      "execution_count": 1,
      "outputs": [
        {
          "output_type": "stream",
          "text": [
            "TensorFlow 2.x selected.\n"
          ],
          "name": "stdout"
        }
      ]
    },
    {
      "cell_type": "code",
      "metadata": {
        "id": "zfGLcswXiVOJ",
        "colab_type": "code",
        "colab": {}
      },
      "source": [
        "# given array of size 10 \"images\", displays all ten arrays as images.\n",
        "def display_image_array(images):\n",
        "    plt.figure(figsize=(16,16))\n",
        "    for i in range(10):\n",
        "        ax = plt.subplot(4, 4, i + 1)\n",
        "        plt.imshow(image_conglomerate[i])\n",
        "        plt.title(i)\n",
        "        plt.axis('off')"
      ],
      "execution_count": 0,
      "outputs": []
    },
    {
      "cell_type": "code",
      "metadata": {
        "id": "7vkXRCp5TAzi",
        "colab_type": "code",
        "colab": {}
      },
      "source": [
        "# download the dataset mnist\n",
        "(train_images, train_labels), (test_images, test_labels) = tf.keras.datasets.mnist.load_data()"
      ],
      "execution_count": 0,
      "outputs": []
    },
    {
      "cell_type": "markdown",
      "metadata": {
        "id": "pGm9WA5Wqh3R",
        "colab_type": "text"
      },
      "source": [
        "## Find the average image for each digit"
      ]
    },
    {
      "cell_type": "code",
      "metadata": {
        "id": "VZg-NIwRVO_x",
        "colab_type": "code",
        "colab": {}
      },
      "source": [
        "# create empty arrays for storrage later\n",
        "image_conglomerate = np.empty(10, dtype=object)\n",
        "image_average = []\n",
        "num_images = np.zeros(10)\n",
        "\n",
        "# create array of 10 empty 28 by 28 matrices to add each digit image to\n",
        "for i in range(10):\n",
        "    image_conglomerate[i] = np.zeros((28, 28))\n",
        "\n",
        "# add all the images for each digit together\n",
        "for i in range(train_labels.size):\n",
        "\n",
        "    current_number = train_labels[i]\n",
        "\n",
        "    num_images[current_number] += 1\n",
        "    \n",
        "    image_conglomerate[current_number] = np.add(image_conglomerate[current_number], train_images[i])\n",
        "\n",
        "# divide all the images by the number of images that were added together to find \n",
        "# the average pixel value for each digit image\n",
        "for i in range(10):\n",
        "    average = np.divide(image_conglomerate[i], float(num_images[i]))\n",
        "\n",
        "    image_average.append(average)\n",
        "\n"
      ],
      "execution_count": 0,
      "outputs": []
    },
    {
      "cell_type": "markdown",
      "metadata": {
        "id": "FKKT5Gx5qt23",
        "colab_type": "text"
      },
      "source": [
        "## Display the average images for each digit"
      ]
    },
    {
      "cell_type": "code",
      "metadata": {
        "id": "47qdd4VEqrnO",
        "colab_type": "code",
        "colab": {
          "base_uri": "https://localhost:8080/",
          "height": 690
        },
        "outputId": "6dafa06c-2c62-4cf3-e224-301731d7dbd0"
      },
      "source": [
        "# display the average image for each digit\n",
        "display_image_array(image_average)"
      ],
      "execution_count": 5,
      "outputs": [
        {
          "output_type": "display_data",
          "data": {
            "image/png": "[encoded data removed]",
            "text/plain": [
              "<Figure size 1152x1152 with 10 Axes>"
            ]
          },
          "metadata": {
            "tags": []
          }
        }
      ]
    }
  ]
}