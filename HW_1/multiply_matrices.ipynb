{
  "nbformat": 4,
  "nbformat_minor": 0,
  "metadata": {
    "colab": {
      "name": "Untitled0.ipynb",
      "provenance": [],
      "collapsed_sections": [],
      "authorship_tag": "ABX9TyNFFootoIbqLyHyVmEUkw5H",
      "include_colab_link": true
    },
    "kernelspec": {
      "name": "python3",
      "display_name": "Python 3"
    }
  },
  "cells": [
    {
      "cell_type": "markdown",
      "metadata": {
        "id": "view-in-github",
        "colab_type": "text"
      },
      "source": [
        "<a href=\"https://colab.research.google.com/github/znoble360/cap4630/blob/master/HW_1/multiply_matrices.ipynb\" target=\"_parent\"><img src=\"https://colab.research.google.com/assets/colab-badge.svg\" alt=\"Open In Colab\"/></a>"
      ]
    },
    {
      "cell_type": "markdown",
      "metadata": {
        "id": "G6xop4PDAMYT",
        "colab_type": "text"
      },
      "source": [
        "This function takes 2 compatible numpy arrays and outputs their product.\n",
        "Two numpy arrays are compatable when "
      ]
    },
    {
      "cell_type": "code",
      "metadata": {
        "id": "o4bBGC83AJa9",
        "colab_type": "code",
        "colab": {
          "base_uri": "https://localhost:8080/",
          "height": 51
        },
        "outputId": "182cf8d0-8d00-419f-f5f1-860269767e42"
      },
      "source": [
        "val = input(\"enter name: \")\n",
        "print(val)"
      ],
      "execution_count": 1,
      "outputs": [
        {
          "output_type": "stream",
          "text": [
            "enter name: zach\n",
            "zach\n"
          ],
          "name": "stdout"
        }
      ]
    }
  ]
}