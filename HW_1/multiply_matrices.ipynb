{
  "nbformat": 4,
  "nbformat_minor": 0,
  "metadata": {
    "colab": {
      "name": "multiply_matrices.ipynb",
      "provenance": [],
      "collapsed_sections": [],
      "authorship_tag": "ABX9TyMBMx80IWJm0EsewYC21gS6",
      "include_colab_link": true
    },
    "kernelspec": {
      "name": "python3",
      "display_name": "Python 3"
    }
  },
  "cells": [
    {
      "cell_type": "markdown",
      "metadata": {
        "id": "view-in-github",
        "colab_type": "text"
      },
      "source": [
        "<a href=\"https://colab.research.google.com/github/znoble360/cap4630/blob/master/HW_1/multiply_matrices.ipynb\" target=\"_parent\"><img src=\"https://colab.research.google.com/assets/colab-badge.svg\" alt=\"Open In Colab\"/></a>"
      ]
    },
    {
      "cell_type": "markdown",
      "metadata": {
        "id": "G6xop4PDAMYT",
        "colab_type": "text"
      },
      "source": [
        "The function multiply_matrices(array) takes an array of numpy arrays and outputs their product. If the array contains incompatible arrays or is empty, it throws an exception. <br>\n",
        "Two numpy arrays are compatable when the number of columns in the first array is equal to the number of rows in the second array. In this example, matrices A and B are compatable.\n",
        "\n",
        "\\begin{equation*}\n",
        "A = \n",
        "\\begin{pmatrix}\n",
        "1 & 2 \\\\\n",
        "3 & 4 \\\\\n",
        "5 & 6\n",
        "\\end{pmatrix}\n",
        "\\quad\n",
        "B = \n",
        "\\begin{pmatrix}\n",
        "1 & 2 & 3 \\\\\n",
        "4 & 5 & 6\n",
        "\\end{pmatrix}\n",
        "\\end{equation*}\n",
        "<br>\n",
        "In this example, matrices C and D are not compatable.\n",
        "\n",
        "\\begin{equation*}\n",
        "C = \n",
        "\\begin{pmatrix}\n",
        "9 & 8 \\\\\n",
        "7 & 6 \\\\\n",
        "5 & 4\n",
        "\\end{pmatrix}\n",
        "\\quad\n",
        "D = \n",
        "\\begin{pmatrix}\n",
        "1 & 2 & 3 \\\\\n",
        "4 & 5 & 6 \\\\\n",
        "7 & 8 & 9\n",
        "\\end{pmatrix}\n",
        "\\end{equation*}"
      ]
    },
    {
      "cell_type": "code",
      "metadata": {
        "id": "o4bBGC83AJa9",
        "colab_type": "code",
        "colab": {}
      },
      "source": [
        "import numpy as np\n",
        "\n",
        "class Error(Exception) : \n",
        "    \"\"\"Base class for exceptions in this module.\"\"\"\n",
        "\n",
        "class EmptyArrayError(Error) :\n",
        "    \"\"\"Exception raised when expecting a populated array but receiving an empty array\"\"\"\n",
        "    def __init__(self, message):\n",
        "        self.message = message \n",
        "    pass\n",
        "\n",
        "class IncompatibleArraysError(Error) :\n",
        "    \"\"\"Exception raised when trying to multiply 2 incompatible arrays\"\"\"\n",
        "\n",
        "    def __init__(self, message, arrays):\n",
        "        self.message = message\n",
        "        self.arrays = arrays\n",
        "    pass\n",
        "\n",
        "A = np.array([[1,2], [3,4], [5,6]])\n",
        "B = np.array([[1,2,3], [4,5,6]])\n",
        "C = np.array([[9,8], [7,6], [5,4]])\n",
        "D = np.array([[1,2,3], [4,5,6], [7,8,9]])\n",
        "\n",
        "def multiply_matrices(matrices):\n",
        "\n",
        "    if(len(matrices) < 1):\n",
        "        raise EmptyArrayError(\"expected array of size greater than 0\")\n",
        "        return\n",
        "    \n",
        "\n",
        "    result = matrices[0]\n",
        "    for i in range(1, len(matrices)):\n",
        "        try:\n",
        "            result = np.matmul(result, matrices[i])\n",
        "\n",
        "        except ValueError:\n",
        "            raise IncompatibleArraysError(\"these two arrays are incompatible:\", [result, matrices[i]])\n",
        "            return\n",
        "\n",
        "\n",
        "    return result\n"
      ],
      "execution_count": 0,
      "outputs": []
    },
    {
      "cell_type": "code",
      "metadata": {
        "id": "4rCkwjSrOXbi",
        "colab_type": "code",
        "colab": {
          "base_uri": "https://localhost:8080/",
          "height": 238
        },
        "outputId": "5d88911a-d8f8-4274-8947-cee6c636d65b"
      },
      "source": [
        "# test cases that should result in a matrix product\n",
        "print(\"These should work\")\n",
        "print()\n",
        "print(multiply_matrices([A,B,D]))\n",
        "print()\n",
        "print(multiply_matrices([A,B]))\n",
        "print()\n",
        "print(multiply_matrices([B,C]))\n",
        "print()"
      ],
      "execution_count": 27,
      "outputs": [
        {
          "output_type": "stream",
          "text": [
            "These should work\n",
            "\n",
            "[[162 198 234]\n",
            " [354 432 510]\n",
            " [546 666 786]]\n",
            "\n",
            "[[ 9 12 15]\n",
            " [19 26 33]\n",
            " [29 40 51]]\n",
            "\n",
            "[[ 38  32]\n",
            " [101  86]]\n",
            "\n"
          ],
          "name": "stdout"
        }
      ]
    },
    {
      "cell_type": "code",
      "metadata": {
        "id": "RO_6BGfhOYLi",
        "colab_type": "code",
        "colab": {
          "base_uri": "https://localhost:8080/",
          "height": 316
        },
        "outputId": "d807f519-c5ad-4939-f8a3-4d3f58510042"
      },
      "source": [
        "# should raise EmptyArrayError\n",
        "print(\"empty array:\")\n",
        "print(multiply_matrices([]))"
      ],
      "execution_count": 49,
      "outputs": [
        {
          "output_type": "stream",
          "text": [
            "empty array:\n"
          ],
          "name": "stdout"
        },
        {
          "output_type": "error",
          "ename": "EmptyArrayError",
          "evalue": "ignored",
          "traceback": [
            "\u001b[0;31m---------------------------------------------------------------------------\u001b[0m",
            "\u001b[0;31mEmptyArrayError\u001b[0m                           Traceback (most recent call last)",
            "\u001b[0;32m<ipython-input-49-3c53e774e9ef>\u001b[0m in \u001b[0;36m<module>\u001b[0;34m()\u001b[0m\n\u001b[1;32m      1\u001b[0m \u001b[0mprint\u001b[0m\u001b[0;34m(\u001b[0m\u001b[0;34m\"empty array:\"\u001b[0m\u001b[0;34m)\u001b[0m\u001b[0;34m\u001b[0m\u001b[0;34m\u001b[0m\u001b[0m\n\u001b[0;32m----> 2\u001b[0;31m \u001b[0mprint\u001b[0m\u001b[0;34m(\u001b[0m\u001b[0mmultiply_matrices\u001b[0m\u001b[0;34m(\u001b[0m\u001b[0;34m[\u001b[0m\u001b[0;34m]\u001b[0m\u001b[0;34m)\u001b[0m\u001b[0;34m)\u001b[0m\u001b[0;34m\u001b[0m\u001b[0;34m\u001b[0m\u001b[0m\n\u001b[0m",
            "\u001b[0;32m<ipython-input-47-e1d55677b347>\u001b[0m in \u001b[0;36mmultiply_matrices\u001b[0;34m(matrices)\u001b[0m\n\u001b[1;32m     26\u001b[0m \u001b[0;34m\u001b[0m\u001b[0m\n\u001b[1;32m     27\u001b[0m     \u001b[0;32mif\u001b[0m\u001b[0;34m(\u001b[0m\u001b[0mlen\u001b[0m\u001b[0;34m(\u001b[0m\u001b[0mmatrices\u001b[0m\u001b[0;34m)\u001b[0m \u001b[0;34m<\u001b[0m \u001b[0;36m1\u001b[0m\u001b[0;34m)\u001b[0m\u001b[0;34m:\u001b[0m\u001b[0;34m\u001b[0m\u001b[0;34m\u001b[0m\u001b[0m\n\u001b[0;32m---> 28\u001b[0;31m         \u001b[0;32mraise\u001b[0m \u001b[0mEmptyArrayError\u001b[0m\u001b[0;34m(\u001b[0m\u001b[0;34m\"expected array of size greater than 0\"\u001b[0m\u001b[0;34m)\u001b[0m\u001b[0;34m\u001b[0m\u001b[0;34m\u001b[0m\u001b[0m\n\u001b[0m\u001b[1;32m     29\u001b[0m         \u001b[0;32mreturn\u001b[0m\u001b[0;34m\u001b[0m\u001b[0;34m\u001b[0m\u001b[0m\n\u001b[1;32m     30\u001b[0m \u001b[0;34m\u001b[0m\u001b[0m\n",
            "\u001b[0;31mEmptyArrayError\u001b[0m: expected array of size greater than 0"
          ]
        }
      ]
    },
    {
      "cell_type": "code",
      "metadata": {
        "id": "VwKTYFwPOG33",
        "colab_type": "code",
        "colab": {
          "base_uri": "https://localhost:8080/",
          "height": 510
        },
        "outputId": "bcee7d08-8c46-4de3-d375-3256bdac82f1"
      },
      "source": [
        "# should throw IncompatibleArraysError\n",
        "print(\"incompatible array:\")\n",
        "print(multiply_matrices([C,D]))"
      ],
      "execution_count": 48,
      "outputs": [
        {
          "output_type": "stream",
          "text": [
            "incompatible array:\n"
          ],
          "name": "stdout"
        },
        {
          "output_type": "error",
          "ename": "IncompatibleArraysError",
          "evalue": "ignored",
          "traceback": [
            "\u001b[0;31m---------------------------------------------------------------------------\u001b[0m",
            "\u001b[0;31mValueError\u001b[0m                                Traceback (most recent call last)",
            "\u001b[0;32m<ipython-input-47-e1d55677b347>\u001b[0m in \u001b[0;36mmultiply_matrices\u001b[0;34m(matrices)\u001b[0m\n\u001b[1;32m     34\u001b[0m         \u001b[0;32mtry\u001b[0m\u001b[0;34m:\u001b[0m\u001b[0;34m\u001b[0m\u001b[0;34m\u001b[0m\u001b[0m\n\u001b[0;32m---> 35\u001b[0;31m             \u001b[0mresult\u001b[0m \u001b[0;34m=\u001b[0m \u001b[0mnp\u001b[0m\u001b[0;34m.\u001b[0m\u001b[0mmatmul\u001b[0m\u001b[0;34m(\u001b[0m\u001b[0mresult\u001b[0m\u001b[0;34m,\u001b[0m \u001b[0mmatrices\u001b[0m\u001b[0;34m[\u001b[0m\u001b[0mi\u001b[0m\u001b[0;34m]\u001b[0m\u001b[0;34m)\u001b[0m\u001b[0;34m\u001b[0m\u001b[0;34m\u001b[0m\u001b[0m\n\u001b[0m\u001b[1;32m     36\u001b[0m \u001b[0;34m\u001b[0m\u001b[0m\n",
            "\u001b[0;31mValueError\u001b[0m: matmul: Input operand 1 has a mismatch in its core dimension 0, with gufunc signature (n?,k),(k,m?)->(n?,m?) (size 3 is different from 2)",
            "\nDuring handling of the above exception, another exception occurred:\n",
            "\u001b[0;31mIncompatibleArraysError\u001b[0m                   Traceback (most recent call last)",
            "\u001b[0;32m<ipython-input-48-0b7a8c14e2eb>\u001b[0m in \u001b[0;36m<module>\u001b[0;34m()\u001b[0m\n\u001b[1;32m      1\u001b[0m \u001b[0mprint\u001b[0m\u001b[0;34m(\u001b[0m\u001b[0;34m\"incompatible array:\"\u001b[0m\u001b[0;34m)\u001b[0m\u001b[0;34m\u001b[0m\u001b[0;34m\u001b[0m\u001b[0m\n\u001b[0;32m----> 2\u001b[0;31m \u001b[0mprint\u001b[0m\u001b[0;34m(\u001b[0m\u001b[0mmultiply_matrices\u001b[0m\u001b[0;34m(\u001b[0m\u001b[0;34m[\u001b[0m\u001b[0mC\u001b[0m\u001b[0;34m,\u001b[0m\u001b[0mD\u001b[0m\u001b[0;34m]\u001b[0m\u001b[0;34m)\u001b[0m\u001b[0;34m)\u001b[0m\u001b[0;34m\u001b[0m\u001b[0;34m\u001b[0m\u001b[0m\n\u001b[0m",
            "\u001b[0;32m<ipython-input-47-e1d55677b347>\u001b[0m in \u001b[0;36mmultiply_matrices\u001b[0;34m(matrices)\u001b[0m\n\u001b[1;32m     36\u001b[0m \u001b[0;34m\u001b[0m\u001b[0m\n\u001b[1;32m     37\u001b[0m         \u001b[0;32mexcept\u001b[0m \u001b[0mValueError\u001b[0m\u001b[0;34m:\u001b[0m\u001b[0;34m\u001b[0m\u001b[0;34m\u001b[0m\u001b[0m\n\u001b[0;32m---> 38\u001b[0;31m             \u001b[0;32mraise\u001b[0m \u001b[0mIncompatibleArraysError\u001b[0m\u001b[0;34m(\u001b[0m\u001b[0;34m\"these two arrays are incompatible:\"\u001b[0m\u001b[0;34m,\u001b[0m \u001b[0;34m[\u001b[0m\u001b[0mresult\u001b[0m\u001b[0;34m,\u001b[0m \u001b[0mmatrices\u001b[0m\u001b[0;34m[\u001b[0m\u001b[0mi\u001b[0m\u001b[0;34m]\u001b[0m\u001b[0;34m]\u001b[0m\u001b[0;34m)\u001b[0m\u001b[0;34m\u001b[0m\u001b[0;34m\u001b[0m\u001b[0m\n\u001b[0m\u001b[1;32m     39\u001b[0m             \u001b[0;32mreturn\u001b[0m\u001b[0;34m\u001b[0m\u001b[0;34m\u001b[0m\u001b[0m\n\u001b[1;32m     40\u001b[0m \u001b[0;34m\u001b[0m\u001b[0m\n",
            "\u001b[0;31mIncompatibleArraysError\u001b[0m: ('these two arrays are incompatible:', [array([[9, 8],\n       [7, 6],\n       [5, 4]]), array([[1, 2, 3],\n       [4, 5, 6],\n       [7, 8, 9]])])"
          ]
        }
      ]
    }
  ]
}