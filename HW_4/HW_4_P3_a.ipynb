{
  "nbformat": 4,
  "nbformat_minor": 0,
  "metadata": {
    "colab": {
      "name": "HW_4_P3_a.ipynb",
      "provenance": [],
      "collapsed_sections": [],
      "include_colab_link": true
    },
    "kernelspec": {
      "name": "python3",
      "display_name": "Python 3"
    },
    "accelerator": "GPU"
  },
  "cells": [
    {
      "cell_type": "markdown",
      "metadata": {
        "id": "view-in-github",
        "colab_type": "text"
      },
      "source": [
        "<a href=\"https://colab.research.google.com/github/znoble360/cap4630/blob/master/HW_4/HW_4_P3_a.ipynb\" target=\"_parent\"><img src=\"https://colab.research.google.com/assets/colab-badge.svg\" alt=\"Open In Colab\"/></a>"
      ]
    },
    {
      "cell_type": "markdown",
      "metadata": {
        "id": "KSrgMJ5vKFzQ",
        "colab_type": "text"
      },
      "source": [
        "# Fine-tuning Xception "
      ]
    },
    {
      "cell_type": "markdown",
      "metadata": {
        "id": "nsBq__dVo2pj",
        "colab_type": "text"
      },
      "source": [
        "## Feature extraction"
      ]
    },
    {
      "cell_type": "markdown",
      "metadata": {
        "id": "BqIG8QHMLNOn",
        "colab_type": "text"
      },
      "source": [
        "## Download the data"
      ]
    },
    {
      "cell_type": "markdown",
      "metadata": {
        "id": "t3I1jd7cKV6_",
        "colab_type": "text"
      },
      "source": [
        "Download the example data, a zip. of 2,000 JPG pictures of cats and dogs and extract it locally in ```/tmp```.\n",
        "\n"
      ]
    },
    {
      "cell_type": "code",
      "metadata": {
        "id": "JWjprHEXJ5Qi",
        "colab_type": "code",
        "outputId": "1d08ef95-16b0-4b80-d148-a270bf2c6201",
        "colab": {
          "base_uri": "https://localhost:8080/",
          "height": 204
        }
      },
      "source": [
        "!wget --no-check-certificate \\\n",
        "    https://storage.googleapis.com/mledu-datasets/cats_and_dogs_filtered.zip \\\n",
        "    -O /tmp/cats_and_dogs_filtered.zip"
      ],
      "execution_count": 1,
      "outputs": [
        {
          "output_type": "stream",
          "text": [
            "--2020-04-20 04:49:51--  https://storage.googleapis.com/mledu-datasets/cats_and_dogs_filtered.zip\n",
            "Resolving storage.googleapis.com (storage.googleapis.com)... 74.125.195.128, 2607:f8b0:400e:c09::80\n",
            "Connecting to storage.googleapis.com (storage.googleapis.com)|74.125.195.128|:443... connected.\n",
            "HTTP request sent, awaiting response... 200 OK\n",
            "Length: 68606236 (65M) [application/zip]\n",
            "Saving to: ‘/tmp/cats_and_dogs_filtered.zip’\n",
            "\n",
            "/tmp/cats_and_dogs_ 100%[===================>]  65.43M   103MB/s    in 0.6s    \n",
            "\n",
            "2020-04-20 04:49:52 (103 MB/s) - ‘/tmp/cats_and_dogs_filtered.zip’ saved [68606236/68606236]\n",
            "\n"
          ],
          "name": "stdout"
        }
      ]
    },
    {
      "cell_type": "code",
      "metadata": {
        "id": "WvoHtdA-K6Rw",
        "colab_type": "code",
        "colab": {}
      },
      "source": [
        "import os\n",
        "import zipfile\n",
        "\n",
        "local_zip = '/tmp/cats_and_dogs_filtered.zip'\n",
        "zip_ref = zipfile.ZipFile(local_zip, 'r')\n",
        "zip_ref.extractall('/tmp')\n",
        "zip_ref.close()"
      ],
      "execution_count": 0,
      "outputs": []
    },
    {
      "cell_type": "markdown",
      "metadata": {
        "id": "shZiOBnJMyy_",
        "colab_type": "text"
      },
      "source": [
        "Note that the data provided by Google does not have a test set."
      ]
    },
    {
      "cell_type": "code",
      "metadata": {
        "id": "dL8ikM89LlsH",
        "colab_type": "code",
        "colab": {}
      },
      "source": [
        "base_dir = '/tmp/cats_and_dogs_filtered'\n",
        "train_dir = os.path.join(base_dir, 'train')\n",
        "validation_dir = os.path.join(base_dir, 'validation')\n",
        "\n",
        "# Directory with our training cat pictures\n",
        "train_cats_dir = os.path.join(train_dir, 'cats')\n",
        "\n",
        "# Directory with our training dog pictures\n",
        "train_dogs_dir = os.path.join(train_dir, 'dogs')\n",
        "\n",
        "# Directory with our validation cat pictures\n",
        "validation_cats_dir = os.path.join(validation_dir, 'cats')\n",
        "\n",
        "# Directory with our validation dog pictures\n",
        "validation_dogs_dir = os.path.join(validation_dir, 'dogs')"
      ],
      "execution_count": 0,
      "outputs": []
    },
    {
      "cell_type": "markdown",
      "metadata": {
        "id": "inyP8bcdXnn-",
        "colab_type": "text"
      },
      "source": [
        "## Build network with Xception convolution base and custom densely connected layers"
      ]
    },
    {
      "cell_type": "markdown",
      "metadata": {
        "id": "kQ48W5T9rHWu",
        "colab_type": "text"
      },
      "source": [
        "### Load the convolutional base"
      ]
    },
    {
      "cell_type": "code",
      "metadata": {
        "id": "Y0FgtANCXm_H",
        "colab_type": "code",
        "outputId": "e7906a50-3526-4272-fb9b-77dc356f0881",
        "colab": {
          "base_uri": "https://localhost:8080/",
          "height": 34
        }
      },
      "source": [
        "from keras.applications import Xception\n",
        "\n",
        "conv_base = Xception(\n",
        "    weights='imagenet', \n",
        "    include_top=False, \n",
        "    input_shape=(150, 150, 3))"
      ],
      "execution_count": 4,
      "outputs": [
        {
          "output_type": "stream",
          "text": [
            "Using TensorFlow backend.\n"
          ],
          "name": "stderr"
        }
      ]
    },
    {
      "cell_type": "markdown",
      "metadata": {
        "id": "D6OBHOO9q1ou",
        "colab_type": "text"
      },
      "source": [
        "### Freeze the convolutional base"
      ]
    },
    {
      "cell_type": "code",
      "metadata": {
        "id": "UleRo4Dpq6Ld",
        "colab_type": "code",
        "colab": {}
      },
      "source": [
        "conv_base.trainable = False"
      ],
      "execution_count": 0,
      "outputs": []
    },
    {
      "cell_type": "markdown",
      "metadata": {
        "id": "Qfx6PqhPrb7Q",
        "colab_type": "text"
      },
      "source": [
        "### Concatenate the convolutional base and densely connected layers"
      ]
    },
    {
      "cell_type": "code",
      "metadata": {
        "id": "qUpmocDAO3xm",
        "colab_type": "code",
        "colab": {}
      },
      "source": [
        "from keras import layers\n",
        "from keras import models\n",
        "from keras import optimizers\n",
        "\n",
        "model = models.Sequential()\n",
        "model.add(conv_base)\n",
        "model.add(layers.Flatten())\n",
        "model.add(layers.Dense(256, activation='relu'))\n",
        "#model.add(layers.Dropout(0.1))\n",
        "model.add(layers.Dense(1, activation='sigmoid'))"
      ],
      "execution_count": 0,
      "outputs": []
    },
    {
      "cell_type": "code",
      "metadata": {
        "id": "Fh6gZSeAjF7c",
        "colab_type": "code",
        "outputId": "fba29283-64e9-4657-b44f-f06402464218",
        "colab": {
          "base_uri": "https://localhost:8080/",
          "height": 289
        }
      },
      "source": [
        "model.summary()"
      ],
      "execution_count": 7,
      "outputs": [
        {
          "output_type": "stream",
          "text": [
            "Model: \"sequential_1\"\n",
            "_________________________________________________________________\n",
            "Layer (type)                 Output Shape              Param #   \n",
            "=================================================================\n",
            "xception (Model)             (None, 5, 5, 2048)        20861480  \n",
            "_________________________________________________________________\n",
            "flatten_1 (Flatten)          (None, 51200)             0         \n",
            "_________________________________________________________________\n",
            "dense_1 (Dense)              (None, 256)               13107456  \n",
            "_________________________________________________________________\n",
            "dense_2 (Dense)              (None, 1)                 257       \n",
            "=================================================================\n",
            "Total params: 33,969,193\n",
            "Trainable params: 13,107,713\n",
            "Non-trainable params: 20,861,480\n",
            "_________________________________________________________________\n"
          ],
          "name": "stdout"
        }
      ]
    },
    {
      "cell_type": "markdown",
      "metadata": {
        "id": "eZjBiddhi5Qj",
        "colab_type": "text"
      },
      "source": [
        "## Train the model end to end with frozen convolutional base"
      ]
    },
    {
      "cell_type": "code",
      "metadata": {
        "id": "tfAQlC2Oi41L",
        "colab_type": "code",
        "outputId": "150071a7-6fed-461f-9683-12da971e882d",
        "colab": {
          "base_uri": "https://localhost:8080/",
          "height": 1000
        }
      },
      "source": [
        "from keras.preprocessing.image import ImageDataGenerator\n",
        "from keras import optimizers\n",
        "\n",
        "# data augmentation\n",
        "\n",
        "train_datagen = ImageDataGenerator(\n",
        "    rescale=1./255, \n",
        "    rotation_range=40,\n",
        "    width_shift_range=0.2,\n",
        "    height_shift_range=0.2,\n",
        "    shear_range=0.2,\n",
        "    zoom_range=0.2,\n",
        "    horizontal_flip=True,\n",
        "    fill_mode='nearest'\n",
        ")\n",
        "\n",
        "train_generator = train_datagen.flow_from_directory(\n",
        "    train_dir,\n",
        "    target_size=(150, 150),\n",
        "    batch_size=20,\n",
        "    class_mode='binary')\n",
        "\n",
        "validation_datagen = ImageDataGenerator(rescale=1./255)\n",
        "\n",
        "validation_generator = validation_datagen.flow_from_directory(\n",
        "    validation_dir,\n",
        "    target_size=(150, 150),\n",
        "    batch_size=20,\n",
        "    class_mode='binary')\n",
        "\n",
        "# compile model\n",
        "\n",
        "model.compile(\n",
        "    loss='binary_crossentropy', \n",
        "    optimizer=optimizers.RMSprop(lr=2e-5), \n",
        "    metrics=['acc'])\n",
        "\n",
        "# train\n",
        "\n",
        "history = model.fit_generator(\n",
        "    train_generator,\n",
        "    steps_per_epoch=10,\n",
        "    epochs=30,\n",
        "    validation_data=validation_generator,\n",
        "    validation_steps=50\n",
        ")"
      ],
      "execution_count": 8,
      "outputs": [
        {
          "output_type": "stream",
          "text": [
            "Found 2000 images belonging to 2 classes.\n",
            "Found 1000 images belonging to 2 classes.\n",
            "Epoch 1/30\n",
            "10/10 [==============================] - 8s 832ms/step - loss: 0.6748 - acc: 0.6100 - val_loss: 0.0698 - val_acc: 0.9460\n",
            "Epoch 2/30\n",
            "10/10 [==============================] - 4s 409ms/step - loss: 0.4699 - acc: 0.7950 - val_loss: 0.3055 - val_acc: 0.8970\n",
            "Epoch 3/30\n",
            "10/10 [==============================] - 4s 412ms/step - loss: 0.4311 - acc: 0.8100 - val_loss: 0.0601 - val_acc: 0.9540\n",
            "Epoch 4/30\n",
            "10/10 [==============================] - 4s 419ms/step - loss: 0.4355 - acc: 0.7650 - val_loss: 0.0764 - val_acc: 0.9550\n",
            "Epoch 5/30\n",
            "10/10 [==============================] - 4s 415ms/step - loss: 0.4375 - acc: 0.8150 - val_loss: 0.6469 - val_acc: 0.9530\n",
            "Epoch 6/30\n",
            "10/10 [==============================] - 4s 421ms/step - loss: 0.3609 - acc: 0.8450 - val_loss: 0.1022 - val_acc: 0.9440\n",
            "Epoch 7/30\n",
            "10/10 [==============================] - 4s 415ms/step - loss: 0.4757 - acc: 0.7700 - val_loss: 0.0186 - val_acc: 0.9610\n",
            "Epoch 8/30\n",
            "10/10 [==============================] - 4s 416ms/step - loss: 0.3819 - acc: 0.8300 - val_loss: 0.1612 - val_acc: 0.9550\n",
            "Epoch 9/30\n",
            "10/10 [==============================] - 4s 410ms/step - loss: 0.3645 - acc: 0.8350 - val_loss: 0.1294 - val_acc: 0.9590\n",
            "Epoch 10/30\n",
            "10/10 [==============================] - 4s 423ms/step - loss: 0.4958 - acc: 0.7950 - val_loss: 0.0015 - val_acc: 0.9420\n",
            "Epoch 11/30\n",
            "10/10 [==============================] - 4s 417ms/step - loss: 0.3458 - acc: 0.8400 - val_loss: 0.0169 - val_acc: 0.9660\n",
            "Epoch 12/30\n",
            "10/10 [==============================] - 4s 412ms/step - loss: 0.3827 - acc: 0.8450 - val_loss: 0.0471 - val_acc: 0.9640\n",
            "Epoch 13/30\n",
            "10/10 [==============================] - 4s 415ms/step - loss: 0.3907 - acc: 0.8000 - val_loss: 0.2365 - val_acc: 0.9580\n",
            "Epoch 14/30\n",
            "10/10 [==============================] - 4s 414ms/step - loss: 0.3234 - acc: 0.8250 - val_loss: 0.1739 - val_acc: 0.9610\n",
            "Epoch 15/30\n",
            "10/10 [==============================] - 4s 415ms/step - loss: 0.3225 - acc: 0.8350 - val_loss: 0.2990 - val_acc: 0.9570\n",
            "Epoch 16/30\n",
            "10/10 [==============================] - 4s 415ms/step - loss: 0.3603 - acc: 0.8350 - val_loss: 0.0046 - val_acc: 0.9640\n",
            "Epoch 17/30\n",
            "10/10 [==============================] - 4s 416ms/step - loss: 0.3043 - acc: 0.8550 - val_loss: 0.0441 - val_acc: 0.9580\n",
            "Epoch 18/30\n",
            "10/10 [==============================] - 4s 416ms/step - loss: 0.4109 - acc: 0.7950 - val_loss: 0.0671 - val_acc: 0.9660\n",
            "Epoch 19/30\n",
            "10/10 [==============================] - 4s 412ms/step - loss: 0.3317 - acc: 0.8400 - val_loss: 7.5359e-04 - val_acc: 0.9420\n",
            "Epoch 20/30\n",
            "10/10 [==============================] - 4s 426ms/step - loss: 0.2810 - acc: 0.8700 - val_loss: 0.2362 - val_acc: 0.9600\n",
            "Epoch 21/30\n",
            "10/10 [==============================] - 4s 405ms/step - loss: 0.3071 - acc: 0.8750 - val_loss: 0.1036 - val_acc: 0.9610\n",
            "Epoch 22/30\n",
            "10/10 [==============================] - 4s 406ms/step - loss: 0.3587 - acc: 0.8350 - val_loss: 0.2658 - val_acc: 0.9650\n",
            "Epoch 23/30\n",
            "10/10 [==============================] - 4s 401ms/step - loss: 0.3599 - acc: 0.8100 - val_loss: 0.0024 - val_acc: 0.9680\n",
            "Epoch 24/30\n",
            "10/10 [==============================] - 4s 403ms/step - loss: 0.3855 - acc: 0.8150 - val_loss: 0.0042 - val_acc: 0.9660\n",
            "Epoch 25/30\n",
            "10/10 [==============================] - 4s 400ms/step - loss: 0.3773 - acc: 0.8350 - val_loss: 9.9591e-04 - val_acc: 0.9670\n",
            "Epoch 26/30\n",
            "10/10 [==============================] - 4s 406ms/step - loss: 0.2501 - acc: 0.8650 - val_loss: 0.1486 - val_acc: 0.9670\n",
            "Epoch 27/30\n",
            "10/10 [==============================] - 4s 406ms/step - loss: 0.3729 - acc: 0.8600 - val_loss: 0.0817 - val_acc: 0.9680\n",
            "Epoch 28/30\n",
            "10/10 [==============================] - 4s 402ms/step - loss: 0.3277 - acc: 0.8500 - val_loss: 0.0604 - val_acc: 0.9660\n",
            "Epoch 29/30\n",
            "10/10 [==============================] - 4s 398ms/step - loss: 0.4301 - acc: 0.7850 - val_loss: 0.1404 - val_acc: 0.9620\n",
            "Epoch 30/30\n",
            "10/10 [==============================] - 4s 416ms/step - loss: 0.3554 - acc: 0.8200 - val_loss: 0.1996 - val_acc: 0.9520\n"
          ],
          "name": "stdout"
        }
      ]
    },
    {
      "cell_type": "markdown",
      "metadata": {
        "id": "xqRc_vHKc92U",
        "colab_type": "text"
      },
      "source": [
        "## Display curves of loss and accuracy during training"
      ]
    },
    {
      "cell_type": "code",
      "metadata": {
        "id": "ybWwdzz9bwuQ",
        "colab_type": "code",
        "outputId": "f4d98d58-8ef5-48ff-9380-eb9589f49650",
        "colab": {
          "base_uri": "https://localhost:8080/",
          "height": 545
        }
      },
      "source": [
        "%matplotlib inline\n",
        "\n",
        "import matplotlib.pyplot as plt\n",
        "\n",
        "acc = history.history['acc']\n",
        "val_acc = history.history['val_acc']\n",
        "\n",
        "loss = history.history['loss']\n",
        "val_loss = history.history['val_loss']\n",
        "\n",
        "epochs = range(1, len(acc) + 1)\n",
        "\n",
        "# training and validation accuracy\n",
        "\n",
        "plt.plot(epochs, acc, 'bo', label='training acc')\n",
        "plt.plot(epochs, val_acc, 'b', label='validation acc')\n",
        "plt.title('training and validation accuracy')\n",
        "plt.legend()\n",
        "\n",
        "plt.figure()\n",
        "\n",
        "# training and validation loss\n",
        "\n",
        "plt.plot(epochs, loss, 'bo', label='training loss')\n",
        "plt.plot(epochs, val_loss, 'b', label='validation loss')\n",
        "plt.title('training and validation loss')\n",
        "plt.legend()\n",
        "\n",
        "plt.show()"
      ],
      "execution_count": 9,
      "outputs": [
        {
          "output_type": "display_data",
          "data": {
            "image/png": "[encoded data removed]",
            "text/plain": [
              "<Figure size 432x288 with 1 Axes>"
            ]
          },
          "metadata": {
            "tags": [],
            "needs_background": "light"
          }
        },
        {
          "output_type": "display_data",
          "data": {
            "image/png": "[encoded data removed]",
            "text/plain": [
              "<Figure size 432x288 with 1 Axes>"
            ]
          },
          "metadata": {
            "tags": [],
            "needs_background": "light"
          }
        }
      ]
    },
    {
      "cell_type": "markdown",
      "metadata": {
        "id": "lOWsxpey8lN0",
        "colab_type": "text"
      },
      "source": [
        "## Fine-tuning"
      ]
    },
    {
      "cell_type": "code",
      "metadata": {
        "id": "PwkVMx8N8qMw",
        "colab_type": "code",
        "colab": {}
      },
      "source": [
        "conv_base.trainable = True\n",
        "\n",
        "set_trainable = False\n",
        "for layer in conv_base.layers:\n",
        "  if layer.name == 'block5_conv1':\n",
        "    set_trainable = True\n",
        "  if set_trainable:\n",
        "    layer.trainable = True\n",
        "  else:\n",
        "    layer.trainable = False"
      ],
      "execution_count": 0,
      "outputs": []
    },
    {
      "cell_type": "code",
      "metadata": {
        "id": "DyN-J7rs9cvo",
        "colab_type": "code",
        "outputId": "2e8362a1-36c9-4132-9caf-b3dd4a19e0a5",
        "colab": {
          "base_uri": "https://localhost:8080/",
          "height": 1000
        }
      },
      "source": [
        "# compile model\n",
        "\n",
        "model.compile(\n",
        "    loss='binary_crossentropy',\n",
        "    #\n",
        "    # choose a smaller learning rate\n",
        "    #\n",
        "    optimizer=optimizers.RMSprop(lr=1e-5), \n",
        "    metrics=['acc'])\n",
        "\n",
        "# train\n",
        "\n",
        "history = model.fit_generator(\n",
        "    train_generator,\n",
        "    steps_per_epoch=10,\n",
        "    epochs=100,\n",
        "    validation_data=validation_generator,\n",
        "    validation_steps=50)"
      ],
      "execution_count": 11,
      "outputs": [
        {
          "output_type": "stream",
          "text": [
            "Epoch 1/100\n",
            "10/10 [==============================] - 7s 716ms/step - loss: 0.2742 - acc: 0.8750 - val_loss: 0.0467 - val_acc: 0.9660\n",
            "Epoch 2/100\n",
            "10/10 [==============================] - 4s 413ms/step - loss: 0.3397 - acc: 0.8250 - val_loss: 0.4231 - val_acc: 0.9620\n",
            "Epoch 3/100\n",
            "10/10 [==============================] - 4s 414ms/step - loss: 0.2488 - acc: 0.9100 - val_loss: 0.0069 - val_acc: 0.9450\n",
            "Epoch 4/100\n",
            "10/10 [==============================] - 4s 422ms/step - loss: 0.3918 - acc: 0.8300 - val_loss: 0.0894 - val_acc: 0.9510\n",
            "Epoch 5/100\n",
            "10/10 [==============================] - 4s 419ms/step - loss: 0.3316 - acc: 0.8450 - val_loss: 0.0211 - val_acc: 0.9520\n",
            "Epoch 6/100\n",
            "10/10 [==============================] - 4s 414ms/step - loss: 0.2936 - acc: 0.8550 - val_loss: 0.0620 - val_acc: 0.9380\n",
            "Epoch 7/100\n",
            "10/10 [==============================] - 4s 416ms/step - loss: 0.3156 - acc: 0.8600 - val_loss: 0.0064 - val_acc: 0.9430\n",
            "Epoch 8/100\n",
            "10/10 [==============================] - 4s 409ms/step - loss: 0.3084 - acc: 0.8550 - val_loss: 0.0635 - val_acc: 0.9260\n",
            "Epoch 9/100\n",
            "10/10 [==============================] - 4s 405ms/step - loss: 0.2710 - acc: 0.8950 - val_loss: 0.0035 - val_acc: 0.9580\n",
            "Epoch 10/100\n",
            "10/10 [==============================] - 4s 415ms/step - loss: 0.4130 - acc: 0.7950 - val_loss: 0.0636 - val_acc: 0.9540\n",
            "Epoch 11/100\n",
            "10/10 [==============================] - 4s 409ms/step - loss: 0.2091 - acc: 0.9200 - val_loss: 0.5188 - val_acc: 0.9430\n",
            "Epoch 12/100\n",
            "10/10 [==============================] - 4s 423ms/step - loss: 0.3394 - acc: 0.8450 - val_loss: 0.0364 - val_acc: 0.9470\n",
            "Epoch 13/100\n",
            "10/10 [==============================] - 4s 404ms/step - loss: 0.3339 - acc: 0.8400 - val_loss: 0.0593 - val_acc: 0.9440\n",
            "Epoch 14/100\n",
            "10/10 [==============================] - 4s 413ms/step - loss: 0.3391 - acc: 0.8150 - val_loss: 0.0564 - val_acc: 0.9210\n",
            "Epoch 15/100\n",
            "10/10 [==============================] - 4s 411ms/step - loss: 0.3395 - acc: 0.8550 - val_loss: 0.0295 - val_acc: 0.9260\n",
            "Epoch 16/100\n",
            "10/10 [==============================] - 4s 407ms/step - loss: 0.3150 - acc: 0.8500 - val_loss: 0.0801 - val_acc: 0.9140\n",
            "Epoch 17/100\n",
            "10/10 [==============================] - 4s 412ms/step - loss: 0.3340 - acc: 0.8350 - val_loss: 0.3038 - val_acc: 0.9480\n",
            "Epoch 18/100\n",
            "10/10 [==============================] - 4s 425ms/step - loss: 0.2901 - acc: 0.8650 - val_loss: 0.0985 - val_acc: 0.9310\n",
            "Epoch 19/100\n",
            "10/10 [==============================] - 4s 402ms/step - loss: 0.2866 - acc: 0.8700 - val_loss: 0.0287 - val_acc: 0.9510\n",
            "Epoch 20/100\n",
            "10/10 [==============================] - 4s 418ms/step - loss: 0.3059 - acc: 0.8550 - val_loss: 0.0194 - val_acc: 0.9180\n",
            "Epoch 21/100\n",
            "10/10 [==============================] - 4s 418ms/step - loss: 0.2947 - acc: 0.8600 - val_loss: 0.0468 - val_acc: 0.9310\n",
            "Epoch 22/100\n",
            "10/10 [==============================] - 4s 412ms/step - loss: 0.3141 - acc: 0.8450 - val_loss: 0.1140 - val_acc: 0.9360\n",
            "Epoch 23/100\n",
            "10/10 [==============================] - 4s 417ms/step - loss: 0.3229 - acc: 0.8800 - val_loss: 0.0749 - val_acc: 0.9220\n",
            "Epoch 24/100\n",
            "10/10 [==============================] - 4s 422ms/step - loss: 0.3176 - acc: 0.8450 - val_loss: 0.1314 - val_acc: 0.9260\n",
            "Epoch 25/100\n",
            "10/10 [==============================] - 4s 420ms/step - loss: 0.2774 - acc: 0.8850 - val_loss: 0.3688 - val_acc: 0.9420\n",
            "Epoch 26/100\n",
            "10/10 [==============================] - 4s 416ms/step - loss: 0.3726 - acc: 0.8300 - val_loss: 0.1444 - val_acc: 0.9240\n",
            "Epoch 27/100\n",
            "10/10 [==============================] - 4s 437ms/step - loss: 0.3246 - acc: 0.8800 - val_loss: 0.2967 - val_acc: 0.9320\n",
            "Epoch 28/100\n",
            "10/10 [==============================] - 4s 422ms/step - loss: 0.2939 - acc: 0.8550 - val_loss: 0.1411 - val_acc: 0.9480\n",
            "Epoch 29/100\n",
            "10/10 [==============================] - 4s 418ms/step - loss: 0.3341 - acc: 0.8450 - val_loss: 0.2091 - val_acc: 0.9440\n",
            "Epoch 30/100\n",
            "10/10 [==============================] - 4s 428ms/step - loss: 0.2936 - acc: 0.8600 - val_loss: 0.0996 - val_acc: 0.9480\n",
            "Epoch 31/100\n",
            "10/10 [==============================] - 4s 424ms/step - loss: 0.3630 - acc: 0.8600 - val_loss: 0.1450 - val_acc: 0.9410\n",
            "Epoch 32/100\n",
            "10/10 [==============================] - 4s 440ms/step - loss: 0.2958 - acc: 0.8450 - val_loss: 0.2375 - val_acc: 0.9090\n",
            "Epoch 33/100\n",
            "10/10 [==============================] - 4s 429ms/step - loss: 0.3144 - acc: 0.8800 - val_loss: 0.2048 - val_acc: 0.9110\n",
            "Epoch 34/100\n",
            "10/10 [==============================] - 4s 425ms/step - loss: 0.2669 - acc: 0.8700 - val_loss: 0.1023 - val_acc: 0.9310\n",
            "Epoch 35/100\n",
            "10/10 [==============================] - 4s 428ms/step - loss: 0.3011 - acc: 0.8700 - val_loss: 0.1579 - val_acc: 0.9320\n",
            "Epoch 36/100\n",
            "10/10 [==============================] - 4s 425ms/step - loss: 0.3164 - acc: 0.8550 - val_loss: 0.2096 - val_acc: 0.9300\n",
            "Epoch 37/100\n",
            "10/10 [==============================] - 4s 421ms/step - loss: 0.2846 - acc: 0.8500 - val_loss: 0.1143 - val_acc: 0.9370\n",
            "Epoch 38/100\n",
            "10/10 [==============================] - 4s 426ms/step - loss: 0.3082 - acc: 0.8600 - val_loss: 0.2412 - val_acc: 0.9240\n",
            "Epoch 39/100\n",
            "10/10 [==============================] - 4s 432ms/step - loss: 0.2768 - acc: 0.9000 - val_loss: 0.2882 - val_acc: 0.9230\n",
            "Epoch 40/100\n",
            "10/10 [==============================] - 4s 433ms/step - loss: 0.3075 - acc: 0.8500 - val_loss: 0.1867 - val_acc: 0.9350\n",
            "Epoch 41/100\n",
            "10/10 [==============================] - 4s 426ms/step - loss: 0.2597 - acc: 0.8700 - val_loss: 0.1604 - val_acc: 0.9330\n",
            "Epoch 42/100\n",
            "10/10 [==============================] - 4s 428ms/step - loss: 0.2909 - acc: 0.8700 - val_loss: 0.0885 - val_acc: 0.9070\n",
            "Epoch 43/100\n",
            "10/10 [==============================] - 4s 434ms/step - loss: 0.3312 - acc: 0.8350 - val_loss: 0.0826 - val_acc: 0.9340\n",
            "Epoch 44/100\n",
            "10/10 [==============================] - 4s 441ms/step - loss: 0.2909 - acc: 0.8950 - val_loss: 0.0698 - val_acc: 0.9370\n",
            "Epoch 45/100\n",
            "10/10 [==============================] - 4s 426ms/step - loss: 0.2430 - acc: 0.9000 - val_loss: 0.1815 - val_acc: 0.9420\n",
            "Epoch 46/100\n",
            "10/10 [==============================] - 4s 420ms/step - loss: 0.2438 - acc: 0.8950 - val_loss: 0.0706 - val_acc: 0.8920\n",
            "Epoch 47/100\n",
            "10/10 [==============================] - 4s 419ms/step - loss: 0.3259 - acc: 0.8250 - val_loss: 0.3928 - val_acc: 0.9360\n",
            "Epoch 48/100\n",
            "10/10 [==============================] - 4s 426ms/step - loss: 0.3664 - acc: 0.8050 - val_loss: 0.1961 - val_acc: 0.9050\n",
            "Epoch 49/100\n",
            "10/10 [==============================] - 4s 420ms/step - loss: 0.3200 - acc: 0.8750 - val_loss: 0.0708 - val_acc: 0.9110\n",
            "Epoch 50/100\n",
            "10/10 [==============================] - 4s 433ms/step - loss: 0.3112 - acc: 0.8550 - val_loss: 0.1827 - val_acc: 0.9320\n",
            "Epoch 51/100\n",
            "10/10 [==============================] - 4s 435ms/step - loss: 0.3512 - acc: 0.8300 - val_loss: 0.2105 - val_acc: 0.9260\n",
            "Epoch 52/100\n",
            "10/10 [==============================] - 4s 428ms/step - loss: 0.2604 - acc: 0.9050 - val_loss: 0.1061 - val_acc: 0.9260\n",
            "Epoch 53/100\n",
            "10/10 [==============================] - 4s 429ms/step - loss: 0.3235 - acc: 0.8500 - val_loss: 0.1218 - val_acc: 0.9250\n",
            "Epoch 54/100\n",
            "10/10 [==============================] - 4s 425ms/step - loss: 0.2378 - acc: 0.8950 - val_loss: 0.2418 - val_acc: 0.9310\n",
            "Epoch 55/100\n",
            "10/10 [==============================] - 4s 422ms/step - loss: 0.3367 - acc: 0.8200 - val_loss: 0.3190 - val_acc: 0.9270\n",
            "Epoch 56/100\n",
            "10/10 [==============================] - 4s 420ms/step - loss: 0.2499 - acc: 0.8850 - val_loss: 0.2110 - val_acc: 0.9070\n",
            "Epoch 57/100\n",
            "10/10 [==============================] - 4s 409ms/step - loss: 0.2149 - acc: 0.9200 - val_loss: 0.1387 - val_acc: 0.9360\n",
            "Epoch 58/100\n",
            "10/10 [==============================] - 4s 413ms/step - loss: 0.2897 - acc: 0.8400 - val_loss: 0.1902 - val_acc: 0.9240\n",
            "Epoch 59/100\n",
            "10/10 [==============================] - 4s 399ms/step - loss: 0.3667 - acc: 0.8300 - val_loss: 0.0171 - val_acc: 0.9220\n",
            "Epoch 60/100\n",
            "10/10 [==============================] - 4s 430ms/step - loss: 0.3758 - acc: 0.8450 - val_loss: 0.0920 - val_acc: 0.9200\n",
            "Epoch 61/100\n",
            "10/10 [==============================] - 4s 418ms/step - loss: 0.2681 - acc: 0.8800 - val_loss: 0.3854 - val_acc: 0.9250\n",
            "Epoch 62/100\n",
            "10/10 [==============================] - 4s 409ms/step - loss: 0.2630 - acc: 0.8750 - val_loss: 0.0995 - val_acc: 0.9200\n",
            "Epoch 63/100\n",
            "10/10 [==============================] - 4s 415ms/step - loss: 0.3619 - acc: 0.8300 - val_loss: 0.1784 - val_acc: 0.9180\n",
            "Epoch 64/100\n",
            "10/10 [==============================] - 4s 412ms/step - loss: 0.2245 - acc: 0.8900 - val_loss: 0.2346 - val_acc: 0.9370\n",
            "Epoch 65/100\n",
            "10/10 [==============================] - 4s 415ms/step - loss: 0.3255 - acc: 0.8700 - val_loss: 0.0703 - val_acc: 0.9160\n",
            "Epoch 66/100\n",
            "10/10 [==============================] - 4s 406ms/step - loss: 0.3014 - acc: 0.8700 - val_loss: 0.1661 - val_acc: 0.9280\n",
            "Epoch 67/100\n",
            "10/10 [==============================] - 4s 414ms/step - loss: 0.2545 - acc: 0.8850 - val_loss: 0.0878 - val_acc: 0.9390\n",
            "Epoch 68/100\n",
            "10/10 [==============================] - 4s 412ms/step - loss: 0.2657 - acc: 0.8800 - val_loss: 0.1818 - val_acc: 0.9410\n",
            "Epoch 69/100\n",
            "10/10 [==============================] - 4s 403ms/step - loss: 0.3730 - acc: 0.8400 - val_loss: 0.3313 - val_acc: 0.9430\n",
            "Epoch 70/100\n",
            "10/10 [==============================] - 4s 416ms/step - loss: 0.3137 - acc: 0.8550 - val_loss: 0.1067 - val_acc: 0.9260\n",
            "Epoch 71/100\n",
            "10/10 [==============================] - 4s 416ms/step - loss: 0.3323 - acc: 0.8400 - val_loss: 0.1385 - val_acc: 0.9290\n",
            "Epoch 72/100\n",
            "10/10 [==============================] - 4s 414ms/step - loss: 0.2133 - acc: 0.9250 - val_loss: 0.1500 - val_acc: 0.9290\n",
            "Epoch 73/100\n",
            "10/10 [==============================] - 4s 411ms/step - loss: 0.3084 - acc: 0.8750 - val_loss: 0.2108 - val_acc: 0.9360\n",
            "Epoch 74/100\n",
            "10/10 [==============================] - 4s 413ms/step - loss: 0.2822 - acc: 0.8800 - val_loss: 0.1027 - val_acc: 0.9280\n",
            "Epoch 75/100\n",
            "10/10 [==============================] - 4s 418ms/step - loss: 0.2505 - acc: 0.8800 - val_loss: 0.3066 - val_acc: 0.9330\n",
            "Epoch 76/100\n",
            "10/10 [==============================] - 4s 412ms/step - loss: 0.3218 - acc: 0.8600 - val_loss: 0.1130 - val_acc: 0.9370\n",
            "Epoch 77/100\n",
            "10/10 [==============================] - 4s 410ms/step - loss: 0.2957 - acc: 0.8600 - val_loss: 0.3961 - val_acc: 0.9350\n",
            "Epoch 78/100\n",
            "10/10 [==============================] - 4s 412ms/step - loss: 0.3117 - acc: 0.8400 - val_loss: 0.1892 - val_acc: 0.9320\n",
            "Epoch 79/100\n",
            "10/10 [==============================] - 4s 407ms/step - loss: 0.2707 - acc: 0.8700 - val_loss: 0.3834 - val_acc: 0.8930\n",
            "Epoch 80/100\n",
            "10/10 [==============================] - 4s 420ms/step - loss: 0.2804 - acc: 0.8800 - val_loss: 0.3684 - val_acc: 0.9180\n",
            "Epoch 81/100\n",
            "10/10 [==============================] - 4s 418ms/step - loss: 0.2132 - acc: 0.9300 - val_loss: 0.1052 - val_acc: 0.9380\n",
            "Epoch 82/100\n",
            "10/10 [==============================] - 4s 411ms/step - loss: 0.3352 - acc: 0.8500 - val_loss: 0.0840 - val_acc: 0.9260\n",
            "Epoch 83/100\n",
            "10/10 [==============================] - 4s 414ms/step - loss: 0.3314 - acc: 0.8350 - val_loss: 0.4795 - val_acc: 0.9220\n",
            "Epoch 84/100\n",
            "10/10 [==============================] - 4s 418ms/step - loss: 0.3618 - acc: 0.8650 - val_loss: 0.3478 - val_acc: 0.9260\n",
            "Epoch 85/100\n",
            "10/10 [==============================] - 4s 411ms/step - loss: 0.2455 - acc: 0.8750 - val_loss: 0.0495 - val_acc: 0.9360\n",
            "Epoch 86/100\n",
            "10/10 [==============================] - 4s 409ms/step - loss: 0.3219 - acc: 0.8450 - val_loss: 0.0984 - val_acc: 0.9170\n",
            "Epoch 87/100\n",
            "10/10 [==============================] - 4s 418ms/step - loss: 0.2509 - acc: 0.8850 - val_loss: 0.2885 - val_acc: 0.9350\n",
            "Epoch 88/100\n",
            "10/10 [==============================] - 4s 409ms/step - loss: 0.2989 - acc: 0.8450 - val_loss: 0.1752 - val_acc: 0.9090\n",
            "Epoch 89/100\n",
            "10/10 [==============================] - 4s 404ms/step - loss: 0.2998 - acc: 0.8650 - val_loss: 0.0604 - val_acc: 0.9340\n",
            "Epoch 90/100\n",
            "10/10 [==============================] - 4s 420ms/step - loss: 0.3047 - acc: 0.8800 - val_loss: 0.0894 - val_acc: 0.9150\n",
            "Epoch 91/100\n",
            "10/10 [==============================] - 4s 410ms/step - loss: 0.2787 - acc: 0.8750 - val_loss: 0.1044 - val_acc: 0.8840\n",
            "Epoch 92/100\n",
            "10/10 [==============================] - 4s 420ms/step - loss: 0.2795 - acc: 0.8850 - val_loss: 0.1761 - val_acc: 0.9350\n",
            "Epoch 93/100\n",
            "10/10 [==============================] - 4s 419ms/step - loss: 0.3258 - acc: 0.8300 - val_loss: 0.1196 - val_acc: 0.9070\n",
            "Epoch 94/100\n",
            "10/10 [==============================] - 4s 410ms/step - loss: 0.2896 - acc: 0.8850 - val_loss: 0.0781 - val_acc: 0.9380\n",
            "Epoch 95/100\n",
            "10/10 [==============================] - 4s 414ms/step - loss: 0.3114 - acc: 0.8700 - val_loss: 0.1875 - val_acc: 0.9140\n",
            "Epoch 96/100\n",
            "10/10 [==============================] - 4s 409ms/step - loss: 0.2901 - acc: 0.8550 - val_loss: 0.1449 - val_acc: 0.9340\n",
            "Epoch 97/100\n",
            "10/10 [==============================] - 4s 414ms/step - loss: 0.3667 - acc: 0.8300 - val_loss: 0.1047 - val_acc: 0.9360\n",
            "Epoch 98/100\n",
            "10/10 [==============================] - 4s 417ms/step - loss: 0.2926 - acc: 0.8850 - val_loss: 0.1809 - val_acc: 0.9170\n",
            "Epoch 99/100\n",
            "10/10 [==============================] - 4s 418ms/step - loss: 0.2266 - acc: 0.9000 - val_loss: 0.0563 - val_acc: 0.9360\n",
            "Epoch 100/100\n",
            "10/10 [==============================] - 4s 431ms/step - loss: 0.2749 - acc: 0.8700 - val_loss: 0.0794 - val_acc: 0.9360\n"
          ],
          "name": "stdout"
        }
      ]
    },
    {
      "cell_type": "markdown",
      "metadata": {
        "id": "eVBQgh5M-Rtz",
        "colab_type": "text"
      },
      "source": [
        "## Display learning curves during fine-tuning"
      ]
    },
    {
      "cell_type": "code",
      "metadata": {
        "id": "mbkIw7Ie-NP4",
        "colab_type": "code",
        "outputId": "d27527ea-184f-4af3-8b4b-c88157f53951",
        "colab": {
          "base_uri": "https://localhost:8080/",
          "height": 545
        }
      },
      "source": [
        "%matplotlib inline\n",
        "\n",
        "import matplotlib.pyplot as plt\n",
        "\n",
        "acc = history.history['acc']\n",
        "val_acc = history.history['val_acc']\n",
        "\n",
        "loss = history.history['loss']\n",
        "val_loss = history.history['val_loss']\n",
        "\n",
        "epochs = range(1, len(acc) + 1)\n",
        "\n",
        "# training and validation accuracy\n",
        "\n",
        "plt.plot(epochs, acc, 'bo', label='training acc')\n",
        "plt.plot(epochs, val_acc, 'b', label='validation acc')\n",
        "plt.title('training and validation accuracy')\n",
        "plt.legend()\n",
        "\n",
        "plt.figure()\n",
        "\n",
        "# training and validation loss\n",
        "\n",
        "plt.plot(epochs, loss, 'bo', label='training loss')\n",
        "plt.plot(epochs, val_loss, 'b', label='validation loss')\n",
        "plt.title('training and validation loss')\n",
        "plt.legend()\n",
        "\n",
        "plt.show()"
      ],
      "execution_count": 12,
      "outputs": [
        {
          "output_type": "display_data",
          "data": {
            "image/png": "[encoded data removed]",
            "text/plain": [
              "<Figure size 432x288 with 1 Axes>"
            ]
          },
          "metadata": {
            "tags": [],
            "needs_background": "light"
          }
        },
        {
          "output_type": "display_data",
          "data": {
            "image/png": "[encoded data removed]",
            "text/plain": [
              "<Figure size 432x288 with 1 Axes>"
            ]
          },
          "metadata": {
            "tags": [],
            "needs_background": "light"
          }
        }
      ]
    },
    {
      "cell_type": "markdown",
      "metadata": {
        "id": "he3Nw6TOJwjx",
        "colab_type": "text"
      },
      "source": [
        "## Print out validation loss and accuracy"
      ]
    },
    {
      "cell_type": "code",
      "metadata": {
        "id": "SVQtrk7uJdhl",
        "colab_type": "code",
        "colab": {}
      },
      "source": [
        "val_loss, val_acc = model.evaluate_generator(validation_generator, steps=50)"
      ],
      "execution_count": 0,
      "outputs": []
    },
    {
      "cell_type": "code",
      "metadata": {
        "id": "HpdddLi1SUMe",
        "colab_type": "code",
        "outputId": "28a80ff1-1271-4935-faba-ce9e4a7dffe9",
        "colab": {
          "base_uri": "https://localhost:8080/",
          "height": 51
        }
      },
      "source": [
        "print(\"Validation loss:\", val_loss)\n",
        "print(\"Validation accuracy:\", val_acc)"
      ],
      "execution_count": 14,
      "outputs": [
        {
          "output_type": "stream",
          "text": [
            "Validation loss: 0.20645663142204285\n",
            "Validation accuracy: 0.9359999895095825\n"
          ],
          "name": "stdout"
        }
      ]
    },
    {
      "cell_type": "markdown",
      "metadata": {
        "id": "7Ww756WToby8",
        "colab_type": "text"
      },
      "source": [
        "## Save the model"
      ]
    },
    {
      "cell_type": "code",
      "metadata": {
        "id": "0lTUpUdwobKW",
        "colab_type": "code",
        "colab": {}
      },
      "source": [
        "model_fname = 'cats_and_dogs_small_4.h5' \n",
        "model.save(model_fname)"
      ],
      "execution_count": 0,
      "outputs": []
    },
    {
      "cell_type": "code",
      "metadata": {
        "id": "YhEoI8ZTok-X",
        "colab_type": "code",
        "colab": {
          "base_uri": "https://localhost:8080/",
          "height": 442
        },
        "outputId": "167f57c0-6b02-432a-f60e-6612245d16b7"
      },
      "source": [
        "from google.colab import files\n",
        "\n",
        "with open(model_fname, 'r') as f:\n",
        "  files.download(model_fname)"
      ],
      "execution_count": 16,
      "outputs": [
        {
          "output_type": "stream",
          "text": [
            "----------------------------------------\n",
            "Exception happened during processing of request from ('::ffff:127.0.0.1', 47176, 0, 0)\n",
            "Traceback (most recent call last):\n",
            "  File \"/usr/lib/python3.6/socketserver.py\", line 320, in _handle_request_noblock\n",
            "    self.process_request(request, client_address)\n",
            "  File \"/usr/lib/python3.6/socketserver.py\", line 351, in process_request\n",
            "    self.finish_request(request, client_address)\n",
            "  File \"/usr/lib/python3.6/socketserver.py\", line 364, in finish_request\n",
            "    self.RequestHandlerClass(request, client_address, self)\n",
            "  File \"/usr/lib/python3.6/socketserver.py\", line 724, in __init__\n",
            "    self.handle()\n",
            "  File \"/usr/lib/python3.6/http/server.py\", line 418, in handle\n",
            "    self.handle_one_request()\n",
            "  File \"/usr/lib/python3.6/http/server.py\", line 406, in handle_one_request\n",
            "    method()\n",
            "  File \"/usr/lib/python3.6/http/server.py\", line 639, in do_GET\n",
            "    self.copyfile(f, self.wfile)\n",
            "  File \"/usr/lib/python3.6/http/server.py\", line 800, in copyfile\n",
            "    shutil.copyfileobj(source, outputfile)\n",
            "  File \"/usr/lib/python3.6/shutil.py\", line 82, in copyfileobj\n",
            "    fdst.write(buf)\n",
            "  File \"/usr/lib/python3.6/socketserver.py\", line 803, in write\n",
            "    self._sock.sendall(b)\n",
            "ConnectionResetError: [Errno 104] Connection reset by peer\n",
            "----------------------------------------\n"
          ],
          "name": "stderr"
        }
      ]
    }
  ]
}