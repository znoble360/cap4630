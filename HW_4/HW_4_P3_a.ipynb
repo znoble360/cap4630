{
  "nbformat": 4,
  "nbformat_minor": 0,
  "metadata": {
    "colab": {
      "name": "HW_4_P3_a.ipynb",
      "provenance": [],
      "collapsed_sections": [],
      "include_colab_link": true
    },
    "kernelspec": {
      "name": "python3",
      "display_name": "Python 3"
    },
    "accelerator": "GPU"
  },
  "cells": [
    {
      "cell_type": "markdown",
      "metadata": {
        "id": "view-in-github",
        "colab_type": "text"
      },
      "source": [
        "<a href=\"https://colab.research.google.com/github/znoble360/cap4630/blob/master/HW_4/HW_4_P3_a.ipynb\" target=\"_parent\"><img src=\"https://colab.research.google.com/assets/colab-badge.svg\" alt=\"Open In Colab\"/></a>"
      ]
    },
    {
      "cell_type": "markdown",
      "metadata": {
        "id": "wobpiBHoitgO",
        "colab_type": "text"
      },
      "source": [
        "#Resources:"
      ]
    },
    {
      "cell_type": "markdown",
      "metadata": {
        "id": "pk5oy7NAiysO",
        "colab_type": "text"
      },
      "source": [
        "code derived from https://colab.research.google.com/drive/1F-RWvoxH8MmT7c1UmNy41iuOp-ejiLoF"
      ]
    },
    {
      "cell_type": "markdown",
      "metadata": {
        "id": "KSrgMJ5vKFzQ",
        "colab_type": "text"
      },
      "source": [
        "# Fine-tuning Xception "
      ]
    },
    {
      "cell_type": "markdown",
      "metadata": {
        "id": "nsBq__dVo2pj",
        "colab_type": "text"
      },
      "source": [
        "## Feature extraction"
      ]
    },
    {
      "cell_type": "markdown",
      "metadata": {
        "id": "BqIG8QHMLNOn",
        "colab_type": "text"
      },
      "source": [
        "## Download the data"
      ]
    },
    {
      "cell_type": "markdown",
      "metadata": {
        "id": "t3I1jd7cKV6_",
        "colab_type": "text"
      },
      "source": [
        "Download the example data, a zip. of 2,000 JPG pictures of cats and dogs and extract it locally in ```/tmp```.\n",
        "\n"
      ]
    },
    {
      "cell_type": "code",
      "metadata": {
        "id": "JWjprHEXJ5Qi",
        "colab_type": "code",
        "outputId": "3b29b4e2-28c9-4f64-dd09-bec3b20125f1",
        "colab": {
          "base_uri": "https://localhost:8080/",
          "height": 204
        }
      },
      "source": [
        "!wget --no-check-certificate \\\n",
        "    https://storage.googleapis.com/mledu-datasets/cats_and_dogs_filtered.zip \\\n",
        "    -O /tmp/cats_and_dogs_filtered.zip"
      ],
      "execution_count": 1,
      "outputs": [
        {
          "output_type": "stream",
          "text": [
            "--2020-04-21 03:20:00--  https://storage.googleapis.com/mledu-datasets/cats_and_dogs_filtered.zip\n",
            "Resolving storage.googleapis.com (storage.googleapis.com)... 74.125.195.128, 2607:f8b0:400e:c09::80\n",
            "Connecting to storage.googleapis.com (storage.googleapis.com)|74.125.195.128|:443... connected.\n",
            "HTTP request sent, awaiting response... 200 OK\n",
            "Length: 68606236 (65M) [application/zip]\n",
            "Saving to: ‘/tmp/cats_and_dogs_filtered.zip’\n",
            "\n",
            "/tmp/cats_and_dogs_ 100%[===================>]  65.43M   110MB/s    in 0.6s    \n",
            "\n",
            "2020-04-21 03:20:01 (110 MB/s) - ‘/tmp/cats_and_dogs_filtered.zip’ saved [68606236/68606236]\n",
            "\n"
          ],
          "name": "stdout"
        }
      ]
    },
    {
      "cell_type": "code",
      "metadata": {
        "id": "WvoHtdA-K6Rw",
        "colab_type": "code",
        "colab": {}
      },
      "source": [
        "import os\n",
        "import zipfile\n",
        "\n",
        "local_zip = '/tmp/cats_and_dogs_filtered.zip'\n",
        "zip_ref = zipfile.ZipFile(local_zip, 'r')\n",
        "zip_ref.extractall('/tmp')\n",
        "zip_ref.close()"
      ],
      "execution_count": 0,
      "outputs": []
    },
    {
      "cell_type": "markdown",
      "metadata": {
        "id": "shZiOBnJMyy_",
        "colab_type": "text"
      },
      "source": [
        "Note that the data provided by Google does not have a test set."
      ]
    },
    {
      "cell_type": "code",
      "metadata": {
        "id": "dL8ikM89LlsH",
        "colab_type": "code",
        "colab": {}
      },
      "source": [
        "base_dir = '/tmp/cats_and_dogs_filtered'\n",
        "train_dir = os.path.join(base_dir, 'train')\n",
        "validation_dir = os.path.join(base_dir, 'validation')\n",
        "\n",
        "# Directory with our training cat pictures\n",
        "train_cats_dir = os.path.join(train_dir, 'cats')\n",
        "\n",
        "# Directory with our training dog pictures\n",
        "train_dogs_dir = os.path.join(train_dir, 'dogs')\n",
        "\n",
        "# Directory with our validation cat pictures\n",
        "validation_cats_dir = os.path.join(validation_dir, 'cats')\n",
        "\n",
        "# Directory with our validation dog pictures\n",
        "validation_dogs_dir = os.path.join(validation_dir, 'dogs')"
      ],
      "execution_count": 0,
      "outputs": []
    },
    {
      "cell_type": "markdown",
      "metadata": {
        "id": "inyP8bcdXnn-",
        "colab_type": "text"
      },
      "source": [
        "## Build network with Xception convolution base and custom densely connected layers"
      ]
    },
    {
      "cell_type": "markdown",
      "metadata": {
        "id": "kQ48W5T9rHWu",
        "colab_type": "text"
      },
      "source": [
        "### Load the convolutional base"
      ]
    },
    {
      "cell_type": "code",
      "metadata": {
        "id": "Y0FgtANCXm_H",
        "colab_type": "code",
        "outputId": "277281a3-c238-450e-d8ff-75f3ec3bb8b5",
        "colab": {
          "base_uri": "https://localhost:8080/",
          "height": 68
        }
      },
      "source": [
        "from keras.applications import Xception\n",
        "\n",
        "conv_base = Xception(\n",
        "    weights='imagenet', \n",
        "    include_top=False, \n",
        "    input_shape=(150, 150, 3))"
      ],
      "execution_count": 4,
      "outputs": [
        {
          "output_type": "stream",
          "text": [
            "Using TensorFlow backend.\n"
          ],
          "name": "stderr"
        },
        {
          "output_type": "stream",
          "text": [
            "Downloading data from https://github.com/fchollet/deep-learning-models/releases/download/v0.4/xception_weights_tf_dim_ordering_tf_kernels_notop.h5\n",
            "83689472/83683744 [==============================] - 18s 0us/step\n"
          ],
          "name": "stdout"
        }
      ]
    },
    {
      "cell_type": "markdown",
      "metadata": {
        "id": "D6OBHOO9q1ou",
        "colab_type": "text"
      },
      "source": [
        "### Freeze the convolutional base"
      ]
    },
    {
      "cell_type": "code",
      "metadata": {
        "id": "UleRo4Dpq6Ld",
        "colab_type": "code",
        "colab": {}
      },
      "source": [
        "conv_base.trainable = False"
      ],
      "execution_count": 0,
      "outputs": []
    },
    {
      "cell_type": "markdown",
      "metadata": {
        "id": "Qfx6PqhPrb7Q",
        "colab_type": "text"
      },
      "source": [
        "### Concatenate the convolutional base and densely connected layers"
      ]
    },
    {
      "cell_type": "code",
      "metadata": {
        "id": "qUpmocDAO3xm",
        "colab_type": "code",
        "colab": {}
      },
      "source": [
        "from keras import layers\n",
        "from keras import models\n",
        "from keras import optimizers\n",
        "\n",
        "model = models.Sequential()\n",
        "model.add(conv_base)\n",
        "model.add(layers.Flatten())\n",
        "model.add(layers.Dense(256, activation='relu'))\n",
        "#model.add(layers.Dropout(0.1))\n",
        "model.add(layers.Dense(1, activation='sigmoid'))"
      ],
      "execution_count": 0,
      "outputs": []
    },
    {
      "cell_type": "code",
      "metadata": {
        "id": "Fh6gZSeAjF7c",
        "colab_type": "code",
        "outputId": "2a64a164-2b13-4ee0-904c-6afb20f6a262",
        "colab": {
          "base_uri": "https://localhost:8080/",
          "height": 289
        }
      },
      "source": [
        "model.summary()"
      ],
      "execution_count": 7,
      "outputs": [
        {
          "output_type": "stream",
          "text": [
            "Model: \"sequential_1\"\n",
            "_________________________________________________________________\n",
            "Layer (type)                 Output Shape              Param #   \n",
            "=================================================================\n",
            "xception (Model)             (None, 5, 5, 2048)        20861480  \n",
            "_________________________________________________________________\n",
            "flatten_1 (Flatten)          (None, 51200)             0         \n",
            "_________________________________________________________________\n",
            "dense_1 (Dense)              (None, 256)               13107456  \n",
            "_________________________________________________________________\n",
            "dense_2 (Dense)              (None, 1)                 257       \n",
            "=================================================================\n",
            "Total params: 33,969,193\n",
            "Trainable params: 13,107,713\n",
            "Non-trainable params: 20,861,480\n",
            "_________________________________________________________________\n"
          ],
          "name": "stdout"
        }
      ]
    },
    {
      "cell_type": "markdown",
      "metadata": {
        "id": "eZjBiddhi5Qj",
        "colab_type": "text"
      },
      "source": [
        "## Train the model end to end with frozen convolutional base"
      ]
    },
    {
      "cell_type": "code",
      "metadata": {
        "id": "tfAQlC2Oi41L",
        "colab_type": "code",
        "outputId": "3f824b76-fb4f-4c9a-9929-92ee93755aae",
        "colab": {
          "base_uri": "https://localhost:8080/",
          "height": 1000
        }
      },
      "source": [
        "from keras.preprocessing.image import ImageDataGenerator\n",
        "from keras import optimizers\n",
        "\n",
        "# data augmentation\n",
        "\n",
        "train_datagen = ImageDataGenerator(\n",
        "    rescale=1./255, \n",
        "    rotation_range=40,\n",
        "    width_shift_range=0.2,\n",
        "    height_shift_range=0.2,\n",
        "    shear_range=0.2,\n",
        "    zoom_range=0.2,\n",
        "    horizontal_flip=True,\n",
        "    fill_mode='nearest'\n",
        ")\n",
        "\n",
        "train_generator = train_datagen.flow_from_directory(\n",
        "    train_dir,\n",
        "    target_size=(150, 150),\n",
        "    batch_size=20,\n",
        "    class_mode='binary')\n",
        "\n",
        "validation_datagen = ImageDataGenerator(rescale=1./255)\n",
        "\n",
        "validation_generator = validation_datagen.flow_from_directory(\n",
        "    validation_dir,\n",
        "    target_size=(150, 150),\n",
        "    batch_size=20,\n",
        "    class_mode='binary')\n",
        "\n",
        "# compile model\n",
        "\n",
        "model.compile(\n",
        "    loss='binary_crossentropy', \n",
        "    optimizer=optimizers.RMSprop(lr=2e-5), \n",
        "    metrics=['acc'])\n",
        "\n",
        "# train\n",
        "\n",
        "history = model.fit_generator(\n",
        "    train_generator,\n",
        "    steps_per_epoch=10,\n",
        "    epochs=30,\n",
        "    validation_data=validation_generator,\n",
        "    validation_steps=50\n",
        ")"
      ],
      "execution_count": 8,
      "outputs": [
        {
          "output_type": "stream",
          "text": [
            "Found 2000 images belonging to 2 classes.\n",
            "Found 1000 images belonging to 2 classes.\n",
            "Epoch 1/30\n",
            "10/10 [==============================] - 12s 1s/step - loss: 0.6885 - acc: 0.6500 - val_loss: 0.3232 - val_acc: 0.9340\n",
            "Epoch 2/30\n",
            "10/10 [==============================] - 4s 399ms/step - loss: 0.6334 - acc: 0.6600 - val_loss: 0.2987 - val_acc: 0.9190\n",
            "Epoch 3/30\n",
            "10/10 [==============================] - 4s 402ms/step - loss: 0.4247 - acc: 0.8550 - val_loss: 0.2372 - val_acc: 0.9440\n",
            "Epoch 4/30\n",
            "10/10 [==============================] - 4s 405ms/step - loss: 0.4021 - acc: 0.7700 - val_loss: 0.2760 - val_acc: 0.9230\n",
            "Epoch 5/30\n",
            "10/10 [==============================] - 4s 404ms/step - loss: 0.4267 - acc: 0.7900 - val_loss: 0.0660 - val_acc: 0.9460\n",
            "Epoch 6/30\n",
            "10/10 [==============================] - 4s 398ms/step - loss: 0.5561 - acc: 0.7250 - val_loss: 0.0532 - val_acc: 0.9370\n",
            "Epoch 7/30\n",
            "10/10 [==============================] - 4s 403ms/step - loss: 0.4118 - acc: 0.7900 - val_loss: 0.1266 - val_acc: 0.9570\n",
            "Epoch 8/30\n",
            "10/10 [==============================] - 4s 403ms/step - loss: 0.4330 - acc: 0.7600 - val_loss: 0.0585 - val_acc: 0.9560\n",
            "Epoch 9/30\n",
            "10/10 [==============================] - 4s 392ms/step - loss: 0.3923 - acc: 0.7900 - val_loss: 0.0695 - val_acc: 0.9340\n",
            "Epoch 10/30\n",
            "10/10 [==============================] - 4s 416ms/step - loss: 0.3221 - acc: 0.8700 - val_loss: 0.0449 - val_acc: 0.9530\n",
            "Epoch 11/30\n",
            "10/10 [==============================] - 4s 399ms/step - loss: 0.3852 - acc: 0.7900 - val_loss: 0.0293 - val_acc: 0.9590\n",
            "Epoch 12/30\n",
            "10/10 [==============================] - 4s 402ms/step - loss: 0.3161 - acc: 0.8550 - val_loss: 0.2227 - val_acc: 0.9440\n",
            "Epoch 13/30\n",
            "10/10 [==============================] - 4s 403ms/step - loss: 0.3542 - acc: 0.8250 - val_loss: 0.4449 - val_acc: 0.9400\n",
            "Epoch 14/30\n",
            "10/10 [==============================] - 4s 401ms/step - loss: 0.3135 - acc: 0.8650 - val_loss: 0.1225 - val_acc: 0.9390\n",
            "Epoch 15/30\n",
            "10/10 [==============================] - 4s 405ms/step - loss: 0.3459 - acc: 0.8400 - val_loss: 0.1549 - val_acc: 0.9630\n",
            "Epoch 16/30\n",
            "10/10 [==============================] - 4s 409ms/step - loss: 0.3416 - acc: 0.8600 - val_loss: 0.3085 - val_acc: 0.9420\n",
            "Epoch 17/30\n",
            "10/10 [==============================] - 4s 403ms/step - loss: 0.4182 - acc: 0.8150 - val_loss: 0.0093 - val_acc: 0.9540\n",
            "Epoch 18/30\n",
            "10/10 [==============================] - 4s 405ms/step - loss: 0.4250 - acc: 0.8150 - val_loss: 0.0506 - val_acc: 0.9610\n",
            "Epoch 19/30\n",
            "10/10 [==============================] - 4s 394ms/step - loss: 0.3739 - acc: 0.8050 - val_loss: 0.7965 - val_acc: 0.9520\n",
            "Epoch 20/30\n",
            "10/10 [==============================] - 4s 411ms/step - loss: 0.3422 - acc: 0.8400 - val_loss: 0.2190 - val_acc: 0.9340\n",
            "Epoch 21/30\n",
            "10/10 [==============================] - 4s 404ms/step - loss: 0.4383 - acc: 0.7700 - val_loss: 0.4359 - val_acc: 0.9490\n",
            "Epoch 22/30\n",
            "10/10 [==============================] - 4s 402ms/step - loss: 0.3782 - acc: 0.8300 - val_loss: 0.0688 - val_acc: 0.9630\n",
            "Epoch 23/30\n",
            "10/10 [==============================] - 4s 406ms/step - loss: 0.3309 - acc: 0.8200 - val_loss: 0.2296 - val_acc: 0.9620\n",
            "Epoch 24/30\n",
            "10/10 [==============================] - 4s 404ms/step - loss: 0.4120 - acc: 0.8150 - val_loss: 0.0021 - val_acc: 0.9600\n",
            "Epoch 25/30\n",
            "10/10 [==============================] - 4s 405ms/step - loss: 0.3320 - acc: 0.8500 - val_loss: 0.0698 - val_acc: 0.9630\n",
            "Epoch 26/30\n",
            "10/10 [==============================] - 4s 401ms/step - loss: 0.2781 - acc: 0.8950 - val_loss: 0.1789 - val_acc: 0.9590\n",
            "Epoch 27/30\n",
            "10/10 [==============================] - 4s 397ms/step - loss: 0.3524 - acc: 0.8450 - val_loss: 0.0892 - val_acc: 0.9590\n",
            "Epoch 28/30\n",
            "10/10 [==============================] - 4s 402ms/step - loss: 0.3318 - acc: 0.8050 - val_loss: 0.2619 - val_acc: 0.9440\n",
            "Epoch 29/30\n",
            "10/10 [==============================] - 4s 390ms/step - loss: 0.3585 - acc: 0.8450 - val_loss: 0.0920 - val_acc: 0.9650\n",
            "Epoch 30/30\n",
            "10/10 [==============================] - 4s 414ms/step - loss: 0.3134 - acc: 0.8800 - val_loss: 0.1753 - val_acc: 0.9630\n"
          ],
          "name": "stdout"
        }
      ]
    },
    {
      "cell_type": "markdown",
      "metadata": {
        "id": "xqRc_vHKc92U",
        "colab_type": "text"
      },
      "source": [
        "## Display curves of loss and accuracy during training"
      ]
    },
    {
      "cell_type": "code",
      "metadata": {
        "id": "ybWwdzz9bwuQ",
        "colab_type": "code",
        "outputId": "cd1f08ae-d772-49b8-9969-76d52f78293d",
        "colab": {
          "base_uri": "https://localhost:8080/",
          "height": 545
        }
      },
      "source": [
        "%matplotlib inline\n",
        "\n",
        "import matplotlib.pyplot as plt\n",
        "\n",
        "acc = history.history['acc']\n",
        "val_acc = history.history['val_acc']\n",
        "\n",
        "loss = history.history['loss']\n",
        "val_loss = history.history['val_loss']\n",
        "\n",
        "epochs = range(1, len(acc) + 1)\n",
        "\n",
        "# training and validation accuracy\n",
        "\n",
        "plt.plot(epochs, acc, 'bo', label='training acc')\n",
        "plt.plot(epochs, val_acc, 'b', label='validation acc')\n",
        "plt.title('training and validation accuracy')\n",
        "plt.legend()\n",
        "\n",
        "plt.figure()\n",
        "\n",
        "# training and validation loss\n",
        "\n",
        "plt.plot(epochs, loss, 'bo', label='training loss')\n",
        "plt.plot(epochs, val_loss, 'b', label='validation loss')\n",
        "plt.title('training and validation loss')\n",
        "plt.legend()\n",
        "\n",
        "plt.show()"
      ],
      "execution_count": 9,
      "outputs": [
        {
          "output_type": "display_data",
          "data": {
            "image/png": "[encoded data removed]",
            "text/plain": [
              "<Figure size 432x288 with 1 Axes>"
            ]
          },
          "metadata": {
            "tags": [],
            "needs_background": "light"
          }
        },
        {
          "output_type": "display_data",
          "data": {
            "image/png": "[encoded data removed]",
            "text/plain": [
              "<Figure size 432x288 with 1 Axes>"
            ]
          },
          "metadata": {
            "tags": [],
            "needs_background": "light"
          }
        }
      ]
    },
    {
      "cell_type": "markdown",
      "metadata": {
        "id": "lOWsxpey8lN0",
        "colab_type": "text"
      },
      "source": [
        "## Fine-tuning"
      ]
    },
    {
      "cell_type": "code",
      "metadata": {
        "id": "PwkVMx8N8qMw",
        "colab_type": "code",
        "colab": {}
      },
      "source": [
        "#conv_base.trainable = True\n",
        "#\n",
        "#set_trainable = False\n",
        "#for layer in conv_base.layers:\n",
        "#  if layer.name == 'block5_conv1':\n",
        "#    set_trainable = True\n",
        "#  if set_trainable:\n",
        "#    layer.trainable = True\n",
        "#  else:\n",
        "#    layer.trainable = False\n",
        "\n",
        "conv_base.trainable = True\n",
        "\n",
        "set_trainable = False\n",
        "for layer in conv_base.layers:\n",
        "  if layer.name == 'block12_sepconv1_act':\n",
        "    set_trainable = True\n",
        "  if set_trainable:\n",
        "    layer.trainable = True\n",
        "  if layer.name == 'block12_sepconv3_bn':\n",
        "    set_trainable = True\n",
        "  else:\n",
        "    layer.trainable = False"
      ],
      "execution_count": 0,
      "outputs": []
    },
    {
      "cell_type": "code",
      "metadata": {
        "id": "DyN-J7rs9cvo",
        "colab_type": "code",
        "outputId": "a100270f-c243-41cf-d801-02ef64d84a86",
        "colab": {
          "base_uri": "https://localhost:8080/",
          "height": 1000
        }
      },
      "source": [
        "# compile model\n",
        "\n",
        "model.compile(\n",
        "    loss='binary_crossentropy',\n",
        "    #\n",
        "    # choose a smaller learning rate\n",
        "    #\n",
        "    optimizer=optimizers.RMSprop(lr=1e-5), \n",
        "    metrics=['acc'])\n",
        "\n",
        "# train\n",
        "\n",
        "history = model.fit_generator(\n",
        "    train_generator,\n",
        "    steps_per_epoch=10,\n",
        "    epochs=100,\n",
        "    validation_data=validation_generator,\n",
        "    validation_steps=50)"
      ],
      "execution_count": 11,
      "outputs": [
        {
          "output_type": "stream",
          "text": [
            "Epoch 1/100\n",
            "10/10 [==============================] - 7s 747ms/step - loss: 0.3365 - acc: 0.8550 - val_loss: 0.1842 - val_acc: 0.9600\n",
            "Epoch 2/100\n",
            "10/10 [==============================] - 4s 410ms/step - loss: 0.2658 - acc: 0.8950 - val_loss: 0.0113 - val_acc: 0.9560\n",
            "Epoch 3/100\n",
            "10/10 [==============================] - 4s 414ms/step - loss: 0.3134 - acc: 0.8300 - val_loss: 0.0191 - val_acc: 0.9530\n",
            "Epoch 4/100\n",
            "10/10 [==============================] - 4s 411ms/step - loss: 0.2819 - acc: 0.8900 - val_loss: 0.0303 - val_acc: 0.9530\n",
            "Epoch 5/100\n",
            "10/10 [==============================] - 4s 410ms/step - loss: 0.2909 - acc: 0.8450 - val_loss: 0.4912 - val_acc: 0.9480\n",
            "Epoch 6/100\n",
            "10/10 [==============================] - 4s 412ms/step - loss: 0.2891 - acc: 0.8600 - val_loss: 0.1548 - val_acc: 0.9460\n",
            "Epoch 7/100\n",
            "10/10 [==============================] - 4s 408ms/step - loss: 0.3193 - acc: 0.8500 - val_loss: 0.3897 - val_acc: 0.9300\n",
            "Epoch 8/100\n",
            "10/10 [==============================] - 4s 412ms/step - loss: 0.3123 - acc: 0.8800 - val_loss: 0.0352 - val_acc: 0.9560\n",
            "Epoch 9/100\n",
            "10/10 [==============================] - 4s 405ms/step - loss: 0.3092 - acc: 0.8650 - val_loss: 0.0170 - val_acc: 0.9560\n",
            "Epoch 10/100\n",
            "10/10 [==============================] - 4s 410ms/step - loss: 0.3730 - acc: 0.8350 - val_loss: 0.1280 - val_acc: 0.9320\n",
            "Epoch 11/100\n",
            "10/10 [==============================] - 4s 415ms/step - loss: 0.2381 - acc: 0.9250 - val_loss: 0.0964 - val_acc: 0.9250\n",
            "Epoch 12/100\n",
            "10/10 [==============================] - 4s 412ms/step - loss: 0.3021 - acc: 0.8800 - val_loss: 0.0549 - val_acc: 0.9440\n",
            "Epoch 13/100\n",
            "10/10 [==============================] - 4s 415ms/step - loss: 0.3260 - acc: 0.8600 - val_loss: 0.3187 - val_acc: 0.9390\n",
            "Epoch 14/100\n",
            "10/10 [==============================] - 4s 412ms/step - loss: 0.3765 - acc: 0.7950 - val_loss: 0.0772 - val_acc: 0.9470\n",
            "Epoch 15/100\n",
            "10/10 [==============================] - 4s 413ms/step - loss: 0.3352 - acc: 0.8400 - val_loss: 0.0289 - val_acc: 0.9420\n",
            "Epoch 16/100\n",
            "10/10 [==============================] - 4s 413ms/step - loss: 0.3684 - acc: 0.8400 - val_loss: 0.1272 - val_acc: 0.9460\n",
            "Epoch 17/100\n",
            "10/10 [==============================] - 4s 413ms/step - loss: 0.3336 - acc: 0.8700 - val_loss: 0.2544 - val_acc: 0.9360\n",
            "Epoch 18/100\n",
            "10/10 [==============================] - 4s 412ms/step - loss: 0.3788 - acc: 0.8150 - val_loss: 0.0367 - val_acc: 0.9220\n",
            "Epoch 19/100\n",
            "10/10 [==============================] - 4s 404ms/step - loss: 0.3378 - acc: 0.8350 - val_loss: 0.2103 - val_acc: 0.9320\n",
            "Epoch 20/100\n",
            "10/10 [==============================] - 4s 420ms/step - loss: 0.2722 - acc: 0.8950 - val_loss: 0.4075 - val_acc: 0.9210\n",
            "Epoch 21/100\n",
            "10/10 [==============================] - 4s 413ms/step - loss: 0.3355 - acc: 0.8400 - val_loss: 0.4690 - val_acc: 0.9340\n",
            "Epoch 22/100\n",
            "10/10 [==============================] - 4s 414ms/step - loss: 0.3294 - acc: 0.8500 - val_loss: 0.1196 - val_acc: 0.9250\n",
            "Epoch 23/100\n",
            "10/10 [==============================] - 4s 412ms/step - loss: 0.2558 - acc: 0.9100 - val_loss: 0.2460 - val_acc: 0.9380\n",
            "Epoch 24/100\n",
            "10/10 [==============================] - 4s 411ms/step - loss: 0.2685 - acc: 0.8850 - val_loss: 0.1657 - val_acc: 0.9220\n",
            "Epoch 25/100\n",
            "10/10 [==============================] - 4s 410ms/step - loss: 0.3146 - acc: 0.8550 - val_loss: 0.3087 - val_acc: 0.9240\n",
            "Epoch 26/100\n",
            "10/10 [==============================] - 4s 415ms/step - loss: 0.3227 - acc: 0.8600 - val_loss: 0.4556 - val_acc: 0.9190\n",
            "Epoch 27/100\n",
            "10/10 [==============================] - 4s 408ms/step - loss: 0.2623 - acc: 0.8750 - val_loss: 0.1732 - val_acc: 0.9170\n",
            "Epoch 28/100\n",
            "10/10 [==============================] - 4s 410ms/step - loss: 0.2877 - acc: 0.8800 - val_loss: 0.0285 - val_acc: 0.9300\n",
            "Epoch 29/100\n",
            "10/10 [==============================] - 4s 404ms/step - loss: 0.3915 - acc: 0.8150 - val_loss: 0.1365 - val_acc: 0.9350\n",
            "Epoch 30/100\n",
            "10/10 [==============================] - 4s 415ms/step - loss: 0.3269 - acc: 0.8350 - val_loss: 0.1558 - val_acc: 0.9230\n",
            "Epoch 31/100\n",
            "10/10 [==============================] - 4s 415ms/step - loss: 0.2683 - acc: 0.8700 - val_loss: 0.2227 - val_acc: 0.9250\n",
            "Epoch 32/100\n",
            "10/10 [==============================] - 4s 416ms/step - loss: 0.3220 - acc: 0.8650 - val_loss: 0.1053 - val_acc: 0.9240\n",
            "Epoch 33/100\n",
            "10/10 [==============================] - 4s 417ms/step - loss: 0.3178 - acc: 0.8600 - val_loss: 0.1169 - val_acc: 0.9300\n",
            "Epoch 34/100\n",
            "10/10 [==============================] - 4s 410ms/step - loss: 0.3131 - acc: 0.8900 - val_loss: 0.1126 - val_acc: 0.9180\n",
            "Epoch 35/100\n",
            "10/10 [==============================] - 4s 415ms/step - loss: 0.3820 - acc: 0.8350 - val_loss: 0.2110 - val_acc: 0.9270\n",
            "Epoch 36/100\n",
            "10/10 [==============================] - 4s 418ms/step - loss: 0.3305 - acc: 0.8600 - val_loss: 0.1087 - val_acc: 0.9270\n",
            "Epoch 37/100\n",
            "10/10 [==============================] - 4s 425ms/step - loss: 0.2683 - acc: 0.8800 - val_loss: 0.1375 - val_acc: 0.9260\n",
            "Epoch 38/100\n",
            "10/10 [==============================] - 4s 423ms/step - loss: 0.2540 - acc: 0.8850 - val_loss: 0.1673 - val_acc: 0.9330\n",
            "Epoch 39/100\n",
            "10/10 [==============================] - 4s 401ms/step - loss: 0.2889 - acc: 0.8850 - val_loss: 0.1660 - val_acc: 0.9310\n",
            "Epoch 40/100\n",
            "10/10 [==============================] - 4s 413ms/step - loss: 0.3054 - acc: 0.8900 - val_loss: 0.0663 - val_acc: 0.9250\n",
            "Epoch 41/100\n",
            "10/10 [==============================] - 4s 406ms/step - loss: 0.3327 - acc: 0.8800 - val_loss: 0.1613 - val_acc: 0.9030\n",
            "Epoch 42/100\n",
            "10/10 [==============================] - 4s 410ms/step - loss: 0.2450 - acc: 0.9050 - val_loss: 0.1276 - val_acc: 0.9140\n",
            "Epoch 43/100\n",
            "10/10 [==============================] - 4s 412ms/step - loss: 0.2365 - acc: 0.8900 - val_loss: 0.1388 - val_acc: 0.9340\n",
            "Epoch 44/100\n",
            "10/10 [==============================] - 4s 409ms/step - loss: 0.3125 - acc: 0.8700 - val_loss: 0.3071 - val_acc: 0.9250\n",
            "Epoch 45/100\n",
            "10/10 [==============================] - 4s 412ms/step - loss: 0.2886 - acc: 0.8650 - val_loss: 0.0883 - val_acc: 0.9230\n",
            "Epoch 46/100\n",
            "10/10 [==============================] - 4s 411ms/step - loss: 0.2461 - acc: 0.9100 - val_loss: 0.1598 - val_acc: 0.9220\n",
            "Epoch 47/100\n",
            "10/10 [==============================] - 4s 418ms/step - loss: 0.2723 - acc: 0.8700 - val_loss: 0.0613 - val_acc: 0.9280\n",
            "Epoch 48/100\n",
            "10/10 [==============================] - 4s 418ms/step - loss: 0.3137 - acc: 0.8800 - val_loss: 0.0941 - val_acc: 0.9280\n",
            "Epoch 49/100\n",
            "10/10 [==============================] - 4s 402ms/step - loss: 0.3676 - acc: 0.8200 - val_loss: 0.1895 - val_acc: 0.9320\n",
            "Epoch 50/100\n",
            "10/10 [==============================] - 4s 413ms/step - loss: 0.2600 - acc: 0.8700 - val_loss: 0.2205 - val_acc: 0.9310\n",
            "Epoch 51/100\n",
            "10/10 [==============================] - 4s 411ms/step - loss: 0.3448 - acc: 0.8500 - val_loss: 0.2129 - val_acc: 0.9150\n",
            "Epoch 52/100\n",
            "10/10 [==============================] - 4s 416ms/step - loss: 0.2808 - acc: 0.8750 - val_loss: 0.1205 - val_acc: 0.9310\n",
            "Epoch 53/100\n",
            "10/10 [==============================] - 4s 409ms/step - loss: 0.2819 - acc: 0.8700 - val_loss: 0.3574 - val_acc: 0.8970\n",
            "Epoch 54/100\n",
            "10/10 [==============================] - 4s 408ms/step - loss: 0.2750 - acc: 0.8800 - val_loss: 0.1021 - val_acc: 0.9220\n",
            "Epoch 55/100\n",
            "10/10 [==============================] - 4s 411ms/step - loss: 0.2131 - acc: 0.9200 - val_loss: 0.1275 - val_acc: 0.9340\n",
            "Epoch 56/100\n",
            "10/10 [==============================] - 4s 410ms/step - loss: 0.2332 - acc: 0.8650 - val_loss: 0.1570 - val_acc: 0.9180\n",
            "Epoch 57/100\n",
            "10/10 [==============================] - 4s 414ms/step - loss: 0.2595 - acc: 0.8850 - val_loss: 0.4271 - val_acc: 0.9310\n",
            "Epoch 58/100\n",
            "10/10 [==============================] - 4s 409ms/step - loss: 0.3088 - acc: 0.8600 - val_loss: 0.0797 - val_acc: 0.9280\n",
            "Epoch 59/100\n",
            "10/10 [==============================] - 4s 404ms/step - loss: 0.2686 - acc: 0.8700 - val_loss: 0.4289 - val_acc: 0.9270\n",
            "Epoch 60/100\n",
            "10/10 [==============================] - 4s 416ms/step - loss: 0.3069 - acc: 0.8550 - val_loss: 0.1068 - val_acc: 0.9200\n",
            "Epoch 61/100\n",
            "10/10 [==============================] - 4s 409ms/step - loss: 0.2825 - acc: 0.8700 - val_loss: 0.2053 - val_acc: 0.9220\n",
            "Epoch 62/100\n",
            "10/10 [==============================] - 4s 414ms/step - loss: 0.2666 - acc: 0.9000 - val_loss: 0.1546 - val_acc: 0.9280\n",
            "Epoch 63/100\n",
            "10/10 [==============================] - 4s 412ms/step - loss: 0.2634 - acc: 0.8650 - val_loss: 0.0837 - val_acc: 0.9190\n",
            "Epoch 64/100\n",
            "10/10 [==============================] - 4s 414ms/step - loss: 0.3352 - acc: 0.8150 - val_loss: 0.1301 - val_acc: 0.9190\n",
            "Epoch 65/100\n",
            "10/10 [==============================] - 4s 414ms/step - loss: 0.3052 - acc: 0.8400 - val_loss: 0.4439 - val_acc: 0.9300\n",
            "Epoch 66/100\n",
            "10/10 [==============================] - 4s 409ms/step - loss: 0.2342 - acc: 0.8850 - val_loss: 0.1168 - val_acc: 0.9370\n",
            "Epoch 67/100\n",
            "10/10 [==============================] - 4s 414ms/step - loss: 0.2668 - acc: 0.8700 - val_loss: 0.1083 - val_acc: 0.9360\n",
            "Epoch 68/100\n",
            "10/10 [==============================] - 4s 412ms/step - loss: 0.2509 - acc: 0.9050 - val_loss: 0.0456 - val_acc: 0.9240\n",
            "Epoch 69/100\n",
            "10/10 [==============================] - 4s 405ms/step - loss: 0.3032 - acc: 0.8600 - val_loss: 0.1419 - val_acc: 0.9250\n",
            "Epoch 70/100\n",
            "10/10 [==============================] - 4s 415ms/step - loss: 0.2847 - acc: 0.8400 - val_loss: 0.2637 - val_acc: 0.9330\n",
            "Epoch 71/100\n",
            "10/10 [==============================] - 4s 419ms/step - loss: 0.3080 - acc: 0.8800 - val_loss: 0.0680 - val_acc: 0.9280\n",
            "Epoch 72/100\n",
            "10/10 [==============================] - 4s 412ms/step - loss: 0.2890 - acc: 0.8700 - val_loss: 0.1639 - val_acc: 0.9260\n",
            "Epoch 73/100\n",
            "10/10 [==============================] - 4s 409ms/step - loss: 0.3133 - acc: 0.8500 - val_loss: 0.0989 - val_acc: 0.9270\n",
            "Epoch 74/100\n",
            "10/10 [==============================] - 4s 414ms/step - loss: 0.2842 - acc: 0.8600 - val_loss: 0.2239 - val_acc: 0.9330\n",
            "Epoch 75/100\n",
            "10/10 [==============================] - 4s 411ms/step - loss: 0.2786 - acc: 0.8950 - val_loss: 0.1154 - val_acc: 0.9210\n",
            "Epoch 76/100\n",
            "10/10 [==============================] - 4s 412ms/step - loss: 0.2595 - acc: 0.8800 - val_loss: 0.1706 - val_acc: 0.9240\n",
            "Epoch 77/100\n",
            "10/10 [==============================] - 4s 410ms/step - loss: 0.3245 - acc: 0.8650 - val_loss: 0.4477 - val_acc: 0.9050\n",
            "Epoch 78/100\n",
            "10/10 [==============================] - 4s 407ms/step - loss: 0.2450 - acc: 0.8850 - val_loss: 0.1027 - val_acc: 0.9230\n",
            "Epoch 79/100\n",
            "10/10 [==============================] - 4s 407ms/step - loss: 0.2793 - acc: 0.8700 - val_loss: 0.2317 - val_acc: 0.9220\n",
            "Epoch 80/100\n",
            "10/10 [==============================] - 4s 411ms/step - loss: 0.2177 - acc: 0.9050 - val_loss: 0.0668 - val_acc: 0.9310\n",
            "Epoch 81/100\n",
            "10/10 [==============================] - 4s 410ms/step - loss: 0.2380 - acc: 0.9050 - val_loss: 0.2254 - val_acc: 0.9110\n",
            "Epoch 82/100\n",
            "10/10 [==============================] - 4s 414ms/step - loss: 0.2470 - acc: 0.9200 - val_loss: 0.2448 - val_acc: 0.9220\n",
            "Epoch 83/100\n",
            "10/10 [==============================] - 4s 414ms/step - loss: 0.2809 - acc: 0.8800 - val_loss: 0.1888 - val_acc: 0.9270\n",
            "Epoch 84/100\n",
            "10/10 [==============================] - 4s 411ms/step - loss: 0.3109 - acc: 0.8900 - val_loss: 0.2037 - val_acc: 0.9190\n",
            "Epoch 85/100\n",
            "10/10 [==============================] - 4s 415ms/step - loss: 0.2865 - acc: 0.8950 - val_loss: 0.2791 - val_acc: 0.9340\n",
            "Epoch 86/100\n",
            "10/10 [==============================] - 4s 414ms/step - loss: 0.2510 - acc: 0.9150 - val_loss: 0.1403 - val_acc: 0.9140\n",
            "Epoch 87/100\n",
            "10/10 [==============================] - 4s 415ms/step - loss: 0.3219 - acc: 0.8550 - val_loss: 0.1947 - val_acc: 0.9330\n",
            "Epoch 88/100\n",
            "10/10 [==============================] - 4s 410ms/step - loss: 0.2873 - acc: 0.8750 - val_loss: 0.1776 - val_acc: 0.9250\n",
            "Epoch 89/100\n",
            "10/10 [==============================] - 4s 403ms/step - loss: 0.2977 - acc: 0.8600 - val_loss: 0.2141 - val_acc: 0.9300\n",
            "Epoch 90/100\n",
            "10/10 [==============================] - 4s 425ms/step - loss: 0.2361 - acc: 0.9400 - val_loss: 0.2925 - val_acc: 0.9240\n",
            "Epoch 91/100\n",
            "10/10 [==============================] - 4s 418ms/step - loss: 0.2777 - acc: 0.8800 - val_loss: 0.2284 - val_acc: 0.9190\n",
            "Epoch 92/100\n",
            "10/10 [==============================] - 4s 412ms/step - loss: 0.3345 - acc: 0.8750 - val_loss: 0.2500 - val_acc: 0.9090\n",
            "Epoch 93/100\n",
            "10/10 [==============================] - 4s 411ms/step - loss: 0.3165 - acc: 0.8650 - val_loss: 0.2085 - val_acc: 0.9310\n",
            "Epoch 94/100\n",
            "10/10 [==============================] - 4s 409ms/step - loss: 0.2156 - acc: 0.9000 - val_loss: 0.0596 - val_acc: 0.9180\n",
            "Epoch 95/100\n",
            "10/10 [==============================] - 4s 411ms/step - loss: 0.3348 - acc: 0.8600 - val_loss: 0.2979 - val_acc: 0.9270\n",
            "Epoch 96/100\n",
            "10/10 [==============================] - 4s 417ms/step - loss: 0.2118 - acc: 0.9100 - val_loss: 0.3250 - val_acc: 0.9270\n",
            "Epoch 97/100\n",
            "10/10 [==============================] - 4s 410ms/step - loss: 0.3283 - acc: 0.8550 - val_loss: 0.2706 - val_acc: 0.9180\n",
            "Epoch 98/100\n",
            "10/10 [==============================] - 4s 414ms/step - loss: 0.2783 - acc: 0.8950 - val_loss: 0.0758 - val_acc: 0.9320\n",
            "Epoch 99/100\n",
            "10/10 [==============================] - 4s 403ms/step - loss: 0.2832 - acc: 0.8950 - val_loss: 0.1837 - val_acc: 0.9250\n",
            "Epoch 100/100\n",
            "10/10 [==============================] - 4s 416ms/step - loss: 0.2896 - acc: 0.8700 - val_loss: 0.2160 - val_acc: 0.9240\n"
          ],
          "name": "stdout"
        }
      ]
    },
    {
      "cell_type": "markdown",
      "metadata": {
        "id": "eVBQgh5M-Rtz",
        "colab_type": "text"
      },
      "source": [
        "## Display learning curves during fine-tuning"
      ]
    },
    {
      "cell_type": "code",
      "metadata": {
        "id": "mbkIw7Ie-NP4",
        "colab_type": "code",
        "outputId": "1e804948-715a-4a0d-82d6-2234fa6ea0de",
        "colab": {
          "base_uri": "https://localhost:8080/",
          "height": 545
        }
      },
      "source": [
        "%matplotlib inline\n",
        "\n",
        "import matplotlib.pyplot as plt\n",
        "\n",
        "acc = history.history['acc']\n",
        "val_acc = history.history['val_acc']\n",
        "\n",
        "loss = history.history['loss']\n",
        "val_loss = history.history['val_loss']\n",
        "\n",
        "epochs = range(1, len(acc) + 1)\n",
        "\n",
        "# training and validation accuracy\n",
        "\n",
        "plt.plot(epochs, acc, 'bo', label='training acc')\n",
        "plt.plot(epochs, val_acc, 'b', label='validation acc')\n",
        "plt.title('training and validation accuracy')\n",
        "plt.legend()\n",
        "\n",
        "plt.figure()\n",
        "\n",
        "# training and validation loss\n",
        "\n",
        "plt.plot(epochs, loss, 'bo', label='training loss')\n",
        "plt.plot(epochs, val_loss, 'b', label='validation loss')\n",
        "plt.title('training and validation loss')\n",
        "plt.legend()\n",
        "\n",
        "plt.show()"
      ],
      "execution_count": 12,
      "outputs": [
        {
          "output_type": "display_data",
          "data": {
            "image/png": "[encoded data removed]",
            "text/plain": [
              "<Figure size 432x288 with 1 Axes>"
            ]
          },
          "metadata": {
            "tags": [],
            "needs_background": "light"
          }
        },
        {
          "output_type": "display_data",
          "data": {
            "image/png": "[encoded data removed]",
            "text/plain": [
              "<Figure size 432x288 with 1 Axes>"
            ]
          },
          "metadata": {
            "tags": [],
            "needs_background": "light"
          }
        }
      ]
    },
    {
      "cell_type": "markdown",
      "metadata": {
        "id": "he3Nw6TOJwjx",
        "colab_type": "text"
      },
      "source": [
        "## Print out validation loss and accuracy"
      ]
    },
    {
      "cell_type": "code",
      "metadata": {
        "id": "SVQtrk7uJdhl",
        "colab_type": "code",
        "colab": {}
      },
      "source": [
        "val_loss, val_acc = model.evaluate_generator(validation_generator, steps=50)"
      ],
      "execution_count": 0,
      "outputs": []
    },
    {
      "cell_type": "code",
      "metadata": {
        "id": "HpdddLi1SUMe",
        "colab_type": "code",
        "outputId": "48cd2379-a06b-4079-e2b5-ff56de48716e",
        "colab": {
          "base_uri": "https://localhost:8080/",
          "height": 51
        }
      },
      "source": [
        "print(\"Validation loss:\", val_loss)\n",
        "print(\"Validation accuracy:\", val_acc)"
      ],
      "execution_count": 14,
      "outputs": [
        {
          "output_type": "stream",
          "text": [
            "Validation loss: 0.21596463024616241\n",
            "Validation accuracy: 0.9240000247955322\n"
          ],
          "name": "stdout"
        }
      ]
    },
    {
      "cell_type": "markdown",
      "metadata": {
        "id": "7Ww756WToby8",
        "colab_type": "text"
      },
      "source": [
        "## Save the model"
      ]
    },
    {
      "cell_type": "code",
      "metadata": {
        "id": "0lTUpUdwobKW",
        "colab_type": "code",
        "colab": {}
      },
      "source": [
        "model_fname = 'cats_and_dogs_small_4.h5' \n",
        "model.save(model_fname)"
      ],
      "execution_count": 0,
      "outputs": []
    }
  ]
}