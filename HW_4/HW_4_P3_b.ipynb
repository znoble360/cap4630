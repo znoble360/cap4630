{
  "nbformat": 4,
  "nbformat_minor": 0,
  "metadata": {
    "colab": {
      "name": "HW_4_P3_b.ipynb",
      "provenance": [],
      "collapsed_sections": [],
      "include_colab_link": true
    },
    "kernelspec": {
      "name": "python3",
      "display_name": "Python 3"
    },
    "accelerator": "GPU"
  },
  "cells": [
    {
      "cell_type": "markdown",
      "metadata": {
        "id": "view-in-github",
        "colab_type": "text"
      },
      "source": [
        "<a href=\"https://colab.research.google.com/github/znoble360/cap4630/blob/master/HW_4/HW_4_P3_b.ipynb\" target=\"_parent\"><img src=\"https://colab.research.google.com/assets/colab-badge.svg\" alt=\"Open In Colab\"/></a>"
      ]
    },
    {
      "cell_type": "markdown",
      "metadata": {
        "id": "wobpiBHoitgO",
        "colab_type": "text"
      },
      "source": [
        "#Resources:"
      ]
    },
    {
      "cell_type": "markdown",
      "metadata": {
        "id": "pk5oy7NAiysO",
        "colab_type": "text"
      },
      "source": [
        "code derived from https://colab.research.google.com/drive/1F-RWvoxH8MmT7c1UmNy41iuOp-ejiLoF"
      ]
    },
    {
      "cell_type": "markdown",
      "metadata": {
        "id": "s9kRQMRN00tA",
        "colab_type": "text"
      },
      "source": [
        "I improved the validation accuracy for the final model from 92.4 to 93.9 by doubling the number of nodes in the classifier layer."
      ]
    },
    {
      "cell_type": "markdown",
      "metadata": {
        "id": "KSrgMJ5vKFzQ",
        "colab_type": "text"
      },
      "source": [
        "# Fine-tuning Xception "
      ]
    },
    {
      "cell_type": "markdown",
      "metadata": {
        "id": "nsBq__dVo2pj",
        "colab_type": "text"
      },
      "source": [
        "## Feature extraction"
      ]
    },
    {
      "cell_type": "markdown",
      "metadata": {
        "id": "BqIG8QHMLNOn",
        "colab_type": "text"
      },
      "source": [
        "## Download the data"
      ]
    },
    {
      "cell_type": "markdown",
      "metadata": {
        "id": "t3I1jd7cKV6_",
        "colab_type": "text"
      },
      "source": [
        "Download the example data, a zip. of 2,000 JPG pictures of cats and dogs and extract it locally in ```/tmp```.\n",
        "\n"
      ]
    },
    {
      "cell_type": "code",
      "metadata": {
        "id": "JWjprHEXJ5Qi",
        "colab_type": "code",
        "outputId": "cad789e2-e693-4e0d-f78e-f2ef7bc9a1ca",
        "colab": {
          "base_uri": "https://localhost:8080/",
          "height": 204
        }
      },
      "source": [
        "!wget --no-check-certificate \\\n",
        "    https://storage.googleapis.com/mledu-datasets/cats_and_dogs_filtered.zip \\\n",
        "    -O /tmp/cats_and_dogs_filtered.zip"
      ],
      "execution_count": 1,
      "outputs": [
        {
          "output_type": "stream",
          "text": [
            "--2020-04-21 03:25:41--  https://storage.googleapis.com/mledu-datasets/cats_and_dogs_filtered.zip\n",
            "Resolving storage.googleapis.com (storage.googleapis.com)... 74.125.195.128, 2607:f8b0:400e:c09::80\n",
            "Connecting to storage.googleapis.com (storage.googleapis.com)|74.125.195.128|:443... connected.\n",
            "HTTP request sent, awaiting response... 200 OK\n",
            "Length: 68606236 (65M) [application/zip]\n",
            "Saving to: ‘/tmp/cats_and_dogs_filtered.zip’\n",
            "\n",
            "/tmp/cats_and_dogs_ 100%[===================>]  65.43M   109MB/s    in 0.6s    \n",
            "\n",
            "2020-04-21 03:25:41 (109 MB/s) - ‘/tmp/cats_and_dogs_filtered.zip’ saved [68606236/68606236]\n",
            "\n"
          ],
          "name": "stdout"
        }
      ]
    },
    {
      "cell_type": "code",
      "metadata": {
        "id": "WvoHtdA-K6Rw",
        "colab_type": "code",
        "colab": {}
      },
      "source": [
        "import os\n",
        "import zipfile\n",
        "\n",
        "local_zip = '/tmp/cats_and_dogs_filtered.zip'\n",
        "zip_ref = zipfile.ZipFile(local_zip, 'r')\n",
        "zip_ref.extractall('/tmp')\n",
        "zip_ref.close()"
      ],
      "execution_count": 0,
      "outputs": []
    },
    {
      "cell_type": "markdown",
      "metadata": {
        "id": "shZiOBnJMyy_",
        "colab_type": "text"
      },
      "source": [
        "Note that the data provided by Google does not have a test set."
      ]
    },
    {
      "cell_type": "code",
      "metadata": {
        "id": "dL8ikM89LlsH",
        "colab_type": "code",
        "colab": {}
      },
      "source": [
        "base_dir = '/tmp/cats_and_dogs_filtered'\n",
        "train_dir = os.path.join(base_dir, 'train')\n",
        "validation_dir = os.path.join(base_dir, 'validation')\n",
        "\n",
        "# Directory with our training cat pictures\n",
        "train_cats_dir = os.path.join(train_dir, 'cats')\n",
        "\n",
        "# Directory with our training dog pictures\n",
        "train_dogs_dir = os.path.join(train_dir, 'dogs')\n",
        "\n",
        "# Directory with our validation cat pictures\n",
        "validation_cats_dir = os.path.join(validation_dir, 'cats')\n",
        "\n",
        "# Directory with our validation dog pictures\n",
        "validation_dogs_dir = os.path.join(validation_dir, 'dogs')"
      ],
      "execution_count": 0,
      "outputs": []
    },
    {
      "cell_type": "markdown",
      "metadata": {
        "id": "inyP8bcdXnn-",
        "colab_type": "text"
      },
      "source": [
        "## Build network with Xception convolution base and custom densely connected layers"
      ]
    },
    {
      "cell_type": "markdown",
      "metadata": {
        "id": "kQ48W5T9rHWu",
        "colab_type": "text"
      },
      "source": [
        "### Load the convolutional base"
      ]
    },
    {
      "cell_type": "code",
      "metadata": {
        "id": "Y0FgtANCXm_H",
        "colab_type": "code",
        "outputId": "7bc85afb-8d3d-4eac-e5cf-4d091a8b296a",
        "colab": {
          "base_uri": "https://localhost:8080/",
          "height": 34
        }
      },
      "source": [
        "from keras.applications import Xception\n",
        "\n",
        "conv_base = Xception(\n",
        "    weights='imagenet', \n",
        "    include_top=False, \n",
        "    input_shape=(150, 150, 3))"
      ],
      "execution_count": 4,
      "outputs": [
        {
          "output_type": "stream",
          "text": [
            "Using TensorFlow backend.\n"
          ],
          "name": "stderr"
        }
      ]
    },
    {
      "cell_type": "markdown",
      "metadata": {
        "id": "D6OBHOO9q1ou",
        "colab_type": "text"
      },
      "source": [
        "### Freeze the convolutional base"
      ]
    },
    {
      "cell_type": "code",
      "metadata": {
        "id": "UleRo4Dpq6Ld",
        "colab_type": "code",
        "colab": {}
      },
      "source": [
        "conv_base.trainable = False"
      ],
      "execution_count": 0,
      "outputs": []
    },
    {
      "cell_type": "markdown",
      "metadata": {
        "id": "Qfx6PqhPrb7Q",
        "colab_type": "text"
      },
      "source": [
        "### Concatenate the convolutional base and densely connected layers"
      ]
    },
    {
      "cell_type": "code",
      "metadata": {
        "id": "qUpmocDAO3xm",
        "colab_type": "code",
        "colab": {}
      },
      "source": [
        "from keras import layers\n",
        "from keras import models\n",
        "from keras import optimizers\n",
        "\n",
        "model = models.Sequential()\n",
        "model.add(conv_base)\n",
        "model.add(layers.Flatten())\n",
        "model.add(layers.Dense(512, activation='relu'))\n",
        "#model.add(layers.Dropout(0.1))\n",
        "model.add(layers.Dense(1, activation='sigmoid'))"
      ],
      "execution_count": 0,
      "outputs": []
    },
    {
      "cell_type": "code",
      "metadata": {
        "id": "Fh6gZSeAjF7c",
        "colab_type": "code",
        "outputId": "bf4d7a38-6199-4cef-81c4-06a8f21683ca",
        "colab": {
          "base_uri": "https://localhost:8080/",
          "height": 289
        }
      },
      "source": [
        "model.summary()"
      ],
      "execution_count": 7,
      "outputs": [
        {
          "output_type": "stream",
          "text": [
            "Model: \"sequential_1\"\n",
            "_________________________________________________________________\n",
            "Layer (type)                 Output Shape              Param #   \n",
            "=================================================================\n",
            "xception (Model)             (None, 5, 5, 2048)        20861480  \n",
            "_________________________________________________________________\n",
            "flatten_1 (Flatten)          (None, 51200)             0         \n",
            "_________________________________________________________________\n",
            "dense_1 (Dense)              (None, 512)               26214912  \n",
            "_________________________________________________________________\n",
            "dense_2 (Dense)              (None, 1)                 513       \n",
            "=================================================================\n",
            "Total params: 47,076,905\n",
            "Trainable params: 26,215,425\n",
            "Non-trainable params: 20,861,480\n",
            "_________________________________________________________________\n"
          ],
          "name": "stdout"
        }
      ]
    },
    {
      "cell_type": "markdown",
      "metadata": {
        "id": "eZjBiddhi5Qj",
        "colab_type": "text"
      },
      "source": [
        "## Train the model end to end with frozen convolutional base"
      ]
    },
    {
      "cell_type": "code",
      "metadata": {
        "id": "tfAQlC2Oi41L",
        "colab_type": "code",
        "outputId": "753d0548-07aa-49d0-835d-730edceb7f88",
        "colab": {
          "base_uri": "https://localhost:8080/",
          "height": 1000
        }
      },
      "source": [
        "from keras.preprocessing.image import ImageDataGenerator\n",
        "from keras import optimizers\n",
        "\n",
        "# data augmentation\n",
        "\n",
        "train_datagen = ImageDataGenerator(\n",
        "    rescale=1./255, \n",
        "    rotation_range=40,\n",
        "    width_shift_range=0.2,\n",
        "    height_shift_range=0.2,\n",
        "    shear_range=0.2,\n",
        "    zoom_range=0.2,\n",
        "    horizontal_flip=True,\n",
        "    fill_mode='nearest'\n",
        ")\n",
        "\n",
        "train_generator = train_datagen.flow_from_directory(\n",
        "    train_dir,\n",
        "    target_size=(150, 150),\n",
        "    batch_size=20,\n",
        "    class_mode='binary')\n",
        "\n",
        "validation_datagen = ImageDataGenerator(rescale=1./255)\n",
        "\n",
        "validation_generator = validation_datagen.flow_from_directory(\n",
        "    validation_dir,\n",
        "    target_size=(150, 150),\n",
        "    batch_size=20,\n",
        "    class_mode='binary')\n",
        "\n",
        "# compile model\n",
        "\n",
        "model.compile(\n",
        "    loss='binary_crossentropy', \n",
        "    optimizer=optimizers.RMSprop(lr=2e-5), \n",
        "    metrics=['acc'])\n",
        "\n",
        "# train\n",
        "\n",
        "history = model.fit_generator(\n",
        "    train_generator,\n",
        "    steps_per_epoch=10,\n",
        "    epochs=30,\n",
        "    validation_data=validation_generator,\n",
        "    validation_steps=50\n",
        ")"
      ],
      "execution_count": 8,
      "outputs": [
        {
          "output_type": "stream",
          "text": [
            "Found 2000 images belonging to 2 classes.\n",
            "Found 1000 images belonging to 2 classes.\n",
            "Epoch 1/30\n",
            "10/10 [==============================] - 8s 818ms/step - loss: 0.6020 - acc: 0.6700 - val_loss: 0.1353 - val_acc: 0.8430\n",
            "Epoch 2/30\n",
            "10/10 [==============================] - 4s 399ms/step - loss: 0.4949 - acc: 0.7250 - val_loss: 0.0734 - val_acc: 0.9470\n",
            "Epoch 3/30\n",
            "10/10 [==============================] - 4s 399ms/step - loss: 0.5485 - acc: 0.7000 - val_loss: 0.0349 - val_acc: 0.9450\n",
            "Epoch 4/30\n",
            "10/10 [==============================] - 4s 400ms/step - loss: 0.3701 - acc: 0.8250 - val_loss: 0.3233 - val_acc: 0.9340\n",
            "Epoch 5/30\n",
            "10/10 [==============================] - 4s 403ms/step - loss: 0.4332 - acc: 0.7800 - val_loss: 0.0972 - val_acc: 0.9320\n",
            "Epoch 6/30\n",
            "10/10 [==============================] - 4s 398ms/step - loss: 0.4226 - acc: 0.8050 - val_loss: 0.0756 - val_acc: 0.9530\n",
            "Epoch 7/30\n",
            "10/10 [==============================] - 4s 404ms/step - loss: 0.4016 - acc: 0.8050 - val_loss: 0.3306 - val_acc: 0.9600\n",
            "Epoch 8/30\n",
            "10/10 [==============================] - 4s 405ms/step - loss: 0.3671 - acc: 0.8150 - val_loss: 0.2662 - val_acc: 0.9550\n",
            "Epoch 9/30\n",
            "10/10 [==============================] - 4s 391ms/step - loss: 0.4314 - acc: 0.7800 - val_loss: 0.1561 - val_acc: 0.9580\n",
            "Epoch 10/30\n",
            "10/10 [==============================] - 4s 413ms/step - loss: 0.3757 - acc: 0.8150 - val_loss: 0.2786 - val_acc: 0.9090\n",
            "Epoch 11/30\n",
            "10/10 [==============================] - 4s 397ms/step - loss: 0.3407 - acc: 0.8400 - val_loss: 0.1630 - val_acc: 0.9400\n",
            "Epoch 12/30\n",
            "10/10 [==============================] - 4s 401ms/step - loss: 0.3441 - acc: 0.8650 - val_loss: 0.0214 - val_acc: 0.9630\n",
            "Epoch 13/30\n",
            "10/10 [==============================] - 4s 406ms/step - loss: 0.3976 - acc: 0.7950 - val_loss: 0.9383 - val_acc: 0.9510\n",
            "Epoch 14/30\n",
            "10/10 [==============================] - 4s 397ms/step - loss: 0.3838 - acc: 0.8250 - val_loss: 0.1238 - val_acc: 0.9400\n",
            "Epoch 15/30\n",
            "10/10 [==============================] - 4s 400ms/step - loss: 0.3698 - acc: 0.8250 - val_loss: 0.1047 - val_acc: 0.9610\n",
            "Epoch 16/30\n",
            "10/10 [==============================] - 4s 410ms/step - loss: 0.3478 - acc: 0.8550 - val_loss: 0.0409 - val_acc: 0.9520\n",
            "Epoch 17/30\n",
            "10/10 [==============================] - 4s 406ms/step - loss: 0.3894 - acc: 0.7800 - val_loss: 0.2527 - val_acc: 0.9390\n",
            "Epoch 18/30\n",
            "10/10 [==============================] - 4s 402ms/step - loss: 0.3955 - acc: 0.8250 - val_loss: 0.3088 - val_acc: 0.9530\n",
            "Epoch 19/30\n",
            "10/10 [==============================] - 4s 389ms/step - loss: 0.5274 - acc: 0.7900 - val_loss: 0.1388 - val_acc: 0.9480\n",
            "Epoch 20/30\n",
            "10/10 [==============================] - 4s 417ms/step - loss: 0.4572 - acc: 0.7800 - val_loss: 0.0015 - val_acc: 0.9580\n",
            "Epoch 21/30\n",
            "10/10 [==============================] - 4s 408ms/step - loss: 0.4341 - acc: 0.8100 - val_loss: 0.1341 - val_acc: 0.9580\n",
            "Epoch 22/30\n",
            "10/10 [==============================] - 4s 399ms/step - loss: 0.3081 - acc: 0.8550 - val_loss: 0.0071 - val_acc: 0.9660\n",
            "Epoch 23/30\n",
            "10/10 [==============================] - 4s 401ms/step - loss: 0.3991 - acc: 0.8450 - val_loss: 0.0150 - val_acc: 0.9640\n",
            "Epoch 24/30\n",
            "10/10 [==============================] - 4s 405ms/step - loss: 0.3416 - acc: 0.8500 - val_loss: 0.0322 - val_acc: 0.9600\n",
            "Epoch 25/30\n",
            "10/10 [==============================] - 4s 405ms/step - loss: 0.4913 - acc: 0.7500 - val_loss: 0.0118 - val_acc: 0.9590\n",
            "Epoch 26/30\n",
            "10/10 [==============================] - 4s 400ms/step - loss: 0.2807 - acc: 0.8800 - val_loss: 0.0104 - val_acc: 0.9620\n",
            "Epoch 27/30\n",
            "10/10 [==============================] - 4s 401ms/step - loss: 0.3828 - acc: 0.7850 - val_loss: 0.0899 - val_acc: 0.9630\n",
            "Epoch 28/30\n",
            "10/10 [==============================] - 4s 407ms/step - loss: 0.3460 - acc: 0.8450 - val_loss: 0.4706 - val_acc: 0.9520\n",
            "Epoch 29/30\n",
            "10/10 [==============================] - 4s 395ms/step - loss: 0.3278 - acc: 0.8050 - val_loss: 0.0108 - val_acc: 0.9650\n",
            "Epoch 30/30\n",
            "10/10 [==============================] - 4s 413ms/step - loss: 0.3470 - acc: 0.8250 - val_loss: 0.1029 - val_acc: 0.9660\n"
          ],
          "name": "stdout"
        }
      ]
    },
    {
      "cell_type": "markdown",
      "metadata": {
        "id": "xqRc_vHKc92U",
        "colab_type": "text"
      },
      "source": [
        "## Display curves of loss and accuracy during training"
      ]
    },
    {
      "cell_type": "code",
      "metadata": {
        "id": "ybWwdzz9bwuQ",
        "colab_type": "code",
        "outputId": "6fbf3bf1-678a-4f22-f304-3a628598f3ca",
        "colab": {
          "base_uri": "https://localhost:8080/",
          "height": 545
        }
      },
      "source": [
        "%matplotlib inline\n",
        "\n",
        "import matplotlib.pyplot as plt\n",
        "\n",
        "acc = history.history['acc']\n",
        "val_acc = history.history['val_acc']\n",
        "\n",
        "loss = history.history['loss']\n",
        "val_loss = history.history['val_loss']\n",
        "\n",
        "epochs = range(1, len(acc) + 1)\n",
        "\n",
        "# training and validation accuracy\n",
        "\n",
        "plt.plot(epochs, acc, 'bo', label='training acc')\n",
        "plt.plot(epochs, val_acc, 'b', label='validation acc')\n",
        "plt.title('training and validation accuracy')\n",
        "plt.legend()\n",
        "\n",
        "plt.figure()\n",
        "\n",
        "# training and validation loss\n",
        "\n",
        "plt.plot(epochs, loss, 'bo', label='training loss')\n",
        "plt.plot(epochs, val_loss, 'b', label='validation loss')\n",
        "plt.title('training and validation loss')\n",
        "plt.legend()\n",
        "\n",
        "plt.show()"
      ],
      "execution_count": 9,
      "outputs": [
        {
          "output_type": "display_data",
          "data": {
            "image/png": "[encoded data removed]",
            "text/plain": [
              "<Figure size 432x288 with 1 Axes>"
            ]
          },
          "metadata": {
            "tags": [],
            "needs_background": "light"
          }
        },
        {
          "output_type": "display_data",
          "data": {
            "image/png": "[encoded data removed]",
            "text/plain": [
              "<Figure size 432x288 with 1 Axes>"
            ]
          },
          "metadata": {
            "tags": [],
            "needs_background": "light"
          }
        }
      ]
    },
    {
      "cell_type": "markdown",
      "metadata": {
        "id": "lOWsxpey8lN0",
        "colab_type": "text"
      },
      "source": [
        "## Fine-tuning"
      ]
    },
    {
      "cell_type": "code",
      "metadata": {
        "id": "_MApTSSmpXQl",
        "colab_type": "code",
        "colab": {
          "base_uri": "https://localhost:8080/",
          "height": 1000
        },
        "outputId": "a79a0353-1ed4-4b9e-c49c-6318b826f242"
      },
      "source": [
        "conv_base.summary()"
      ],
      "execution_count": 10,
      "outputs": [
        {
          "output_type": "stream",
          "text": [
            "Model: \"xception\"\n",
            "__________________________________________________________________________________________________\n",
            "Layer (type)                    Output Shape         Param #     Connected to                     \n",
            "==================================================================================================\n",
            "input_1 (InputLayer)            (None, 150, 150, 3)  0                                            \n",
            "__________________________________________________________________________________________________\n",
            "block1_conv1 (Conv2D)           (None, 74, 74, 32)   864         input_1[0][0]                    \n",
            "__________________________________________________________________________________________________\n",
            "block1_conv1_bn (BatchNormaliza (None, 74, 74, 32)   128         block1_conv1[0][0]               \n",
            "__________________________________________________________________________________________________\n",
            "block1_conv1_act (Activation)   (None, 74, 74, 32)   0           block1_conv1_bn[0][0]            \n",
            "__________________________________________________________________________________________________\n",
            "block1_conv2 (Conv2D)           (None, 72, 72, 64)   18432       block1_conv1_act[0][0]           \n",
            "__________________________________________________________________________________________________\n",
            "block1_conv2_bn (BatchNormaliza (None, 72, 72, 64)   256         block1_conv2[0][0]               \n",
            "__________________________________________________________________________________________________\n",
            "block1_conv2_act (Activation)   (None, 72, 72, 64)   0           block1_conv2_bn[0][0]            \n",
            "__________________________________________________________________________________________________\n",
            "block2_sepconv1 (SeparableConv2 (None, 72, 72, 128)  8768        block1_conv2_act[0][0]           \n",
            "__________________________________________________________________________________________________\n",
            "block2_sepconv1_bn (BatchNormal (None, 72, 72, 128)  512         block2_sepconv1[0][0]            \n",
            "__________________________________________________________________________________________________\n",
            "block2_sepconv2_act (Activation (None, 72, 72, 128)  0           block2_sepconv1_bn[0][0]         \n",
            "__________________________________________________________________________________________________\n",
            "block2_sepconv2 (SeparableConv2 (None, 72, 72, 128)  17536       block2_sepconv2_act[0][0]        \n",
            "__________________________________________________________________________________________________\n",
            "block2_sepconv2_bn (BatchNormal (None, 72, 72, 128)  512         block2_sepconv2[0][0]            \n",
            "__________________________________________________________________________________________________\n",
            "conv2d_1 (Conv2D)               (None, 36, 36, 128)  8192        block1_conv2_act[0][0]           \n",
            "__________________________________________________________________________________________________\n",
            "block2_pool (MaxPooling2D)      (None, 36, 36, 128)  0           block2_sepconv2_bn[0][0]         \n",
            "__________________________________________________________________________________________________\n",
            "batch_normalization_1 (BatchNor (None, 36, 36, 128)  512         conv2d_1[0][0]                   \n",
            "__________________________________________________________________________________________________\n",
            "add_1 (Add)                     (None, 36, 36, 128)  0           block2_pool[0][0]                \n",
            "                                                                 batch_normalization_1[0][0]      \n",
            "__________________________________________________________________________________________________\n",
            "block3_sepconv1_act (Activation (None, 36, 36, 128)  0           add_1[0][0]                      \n",
            "__________________________________________________________________________________________________\n",
            "block3_sepconv1 (SeparableConv2 (None, 36, 36, 256)  33920       block3_sepconv1_act[0][0]        \n",
            "__________________________________________________________________________________________________\n",
            "block3_sepconv1_bn (BatchNormal (None, 36, 36, 256)  1024        block3_sepconv1[0][0]            \n",
            "__________________________________________________________________________________________________\n",
            "block3_sepconv2_act (Activation (None, 36, 36, 256)  0           block3_sepconv1_bn[0][0]         \n",
            "__________________________________________________________________________________________________\n",
            "block3_sepconv2 (SeparableConv2 (None, 36, 36, 256)  67840       block3_sepconv2_act[0][0]        \n",
            "__________________________________________________________________________________________________\n",
            "block3_sepconv2_bn (BatchNormal (None, 36, 36, 256)  1024        block3_sepconv2[0][0]            \n",
            "__________________________________________________________________________________________________\n",
            "conv2d_2 (Conv2D)               (None, 18, 18, 256)  32768       add_1[0][0]                      \n",
            "__________________________________________________________________________________________________\n",
            "block3_pool (MaxPooling2D)      (None, 18, 18, 256)  0           block3_sepconv2_bn[0][0]         \n",
            "__________________________________________________________________________________________________\n",
            "batch_normalization_2 (BatchNor (None, 18, 18, 256)  1024        conv2d_2[0][0]                   \n",
            "__________________________________________________________________________________________________\n",
            "add_2 (Add)                     (None, 18, 18, 256)  0           block3_pool[0][0]                \n",
            "                                                                 batch_normalization_2[0][0]      \n",
            "__________________________________________________________________________________________________\n",
            "block4_sepconv1_act (Activation (None, 18, 18, 256)  0           add_2[0][0]                      \n",
            "__________________________________________________________________________________________________\n",
            "block4_sepconv1 (SeparableConv2 (None, 18, 18, 728)  188672      block4_sepconv1_act[0][0]        \n",
            "__________________________________________________________________________________________________\n",
            "block4_sepconv1_bn (BatchNormal (None, 18, 18, 728)  2912        block4_sepconv1[0][0]            \n",
            "__________________________________________________________________________________________________\n",
            "block4_sepconv2_act (Activation (None, 18, 18, 728)  0           block4_sepconv1_bn[0][0]         \n",
            "__________________________________________________________________________________________________\n",
            "block4_sepconv2 (SeparableConv2 (None, 18, 18, 728)  536536      block4_sepconv2_act[0][0]        \n",
            "__________________________________________________________________________________________________\n",
            "block4_sepconv2_bn (BatchNormal (None, 18, 18, 728)  2912        block4_sepconv2[0][0]            \n",
            "__________________________________________________________________________________________________\n",
            "conv2d_3 (Conv2D)               (None, 9, 9, 728)    186368      add_2[0][0]                      \n",
            "__________________________________________________________________________________________________\n",
            "block4_pool (MaxPooling2D)      (None, 9, 9, 728)    0           block4_sepconv2_bn[0][0]         \n",
            "__________________________________________________________________________________________________\n",
            "batch_normalization_3 (BatchNor (None, 9, 9, 728)    2912        conv2d_3[0][0]                   \n",
            "__________________________________________________________________________________________________\n",
            "add_3 (Add)                     (None, 9, 9, 728)    0           block4_pool[0][0]                \n",
            "                                                                 batch_normalization_3[0][0]      \n",
            "__________________________________________________________________________________________________\n",
            "block5_sepconv1_act (Activation (None, 9, 9, 728)    0           add_3[0][0]                      \n",
            "__________________________________________________________________________________________________\n",
            "block5_sepconv1 (SeparableConv2 (None, 9, 9, 728)    536536      block5_sepconv1_act[0][0]        \n",
            "__________________________________________________________________________________________________\n",
            "block5_sepconv1_bn (BatchNormal (None, 9, 9, 728)    2912        block5_sepconv1[0][0]            \n",
            "__________________________________________________________________________________________________\n",
            "block5_sepconv2_act (Activation (None, 9, 9, 728)    0           block5_sepconv1_bn[0][0]         \n",
            "__________________________________________________________________________________________________\n",
            "block5_sepconv2 (SeparableConv2 (None, 9, 9, 728)    536536      block5_sepconv2_act[0][0]        \n",
            "__________________________________________________________________________________________________\n",
            "block5_sepconv2_bn (BatchNormal (None, 9, 9, 728)    2912        block5_sepconv2[0][0]            \n",
            "__________________________________________________________________________________________________\n",
            "block5_sepconv3_act (Activation (None, 9, 9, 728)    0           block5_sepconv2_bn[0][0]         \n",
            "__________________________________________________________________________________________________\n",
            "block5_sepconv3 (SeparableConv2 (None, 9, 9, 728)    536536      block5_sepconv3_act[0][0]        \n",
            "__________________________________________________________________________________________________\n",
            "block5_sepconv3_bn (BatchNormal (None, 9, 9, 728)    2912        block5_sepconv3[0][0]            \n",
            "__________________________________________________________________________________________________\n",
            "add_4 (Add)                     (None, 9, 9, 728)    0           block5_sepconv3_bn[0][0]         \n",
            "                                                                 add_3[0][0]                      \n",
            "__________________________________________________________________________________________________\n",
            "block6_sepconv1_act (Activation (None, 9, 9, 728)    0           add_4[0][0]                      \n",
            "__________________________________________________________________________________________________\n",
            "block6_sepconv1 (SeparableConv2 (None, 9, 9, 728)    536536      block6_sepconv1_act[0][0]        \n",
            "__________________________________________________________________________________________________\n",
            "block6_sepconv1_bn (BatchNormal (None, 9, 9, 728)    2912        block6_sepconv1[0][0]            \n",
            "__________________________________________________________________________________________________\n",
            "block6_sepconv2_act (Activation (None, 9, 9, 728)    0           block6_sepconv1_bn[0][0]         \n",
            "__________________________________________________________________________________________________\n",
            "block6_sepconv2 (SeparableConv2 (None, 9, 9, 728)    536536      block6_sepconv2_act[0][0]        \n",
            "__________________________________________________________________________________________________\n",
            "block6_sepconv2_bn (BatchNormal (None, 9, 9, 728)    2912        block6_sepconv2[0][0]            \n",
            "__________________________________________________________________________________________________\n",
            "block6_sepconv3_act (Activation (None, 9, 9, 728)    0           block6_sepconv2_bn[0][0]         \n",
            "__________________________________________________________________________________________________\n",
            "block6_sepconv3 (SeparableConv2 (None, 9, 9, 728)    536536      block6_sepconv3_act[0][0]        \n",
            "__________________________________________________________________________________________________\n",
            "block6_sepconv3_bn (BatchNormal (None, 9, 9, 728)    2912        block6_sepconv3[0][0]            \n",
            "__________________________________________________________________________________________________\n",
            "add_5 (Add)                     (None, 9, 9, 728)    0           block6_sepconv3_bn[0][0]         \n",
            "                                                                 add_4[0][0]                      \n",
            "__________________________________________________________________________________________________\n",
            "block7_sepconv1_act (Activation (None, 9, 9, 728)    0           add_5[0][0]                      \n",
            "__________________________________________________________________________________________________\n",
            "block7_sepconv1 (SeparableConv2 (None, 9, 9, 728)    536536      block7_sepconv1_act[0][0]        \n",
            "__________________________________________________________________________________________________\n",
            "block7_sepconv1_bn (BatchNormal (None, 9, 9, 728)    2912        block7_sepconv1[0][0]            \n",
            "__________________________________________________________________________________________________\n",
            "block7_sepconv2_act (Activation (None, 9, 9, 728)    0           block7_sepconv1_bn[0][0]         \n",
            "__________________________________________________________________________________________________\n",
            "block7_sepconv2 (SeparableConv2 (None, 9, 9, 728)    536536      block7_sepconv2_act[0][0]        \n",
            "__________________________________________________________________________________________________\n",
            "block7_sepconv2_bn (BatchNormal (None, 9, 9, 728)    2912        block7_sepconv2[0][0]            \n",
            "__________________________________________________________________________________________________\n",
            "block7_sepconv3_act (Activation (None, 9, 9, 728)    0           block7_sepconv2_bn[0][0]         \n",
            "__________________________________________________________________________________________________\n",
            "block7_sepconv3 (SeparableConv2 (None, 9, 9, 728)    536536      block7_sepconv3_act[0][0]        \n",
            "__________________________________________________________________________________________________\n",
            "block7_sepconv3_bn (BatchNormal (None, 9, 9, 728)    2912        block7_sepconv3[0][0]            \n",
            "__________________________________________________________________________________________________\n",
            "add_6 (Add)                     (None, 9, 9, 728)    0           block7_sepconv3_bn[0][0]         \n",
            "                                                                 add_5[0][0]                      \n",
            "__________________________________________________________________________________________________\n",
            "block8_sepconv1_act (Activation (None, 9, 9, 728)    0           add_6[0][0]                      \n",
            "__________________________________________________________________________________________________\n",
            "block8_sepconv1 (SeparableConv2 (None, 9, 9, 728)    536536      block8_sepconv1_act[0][0]        \n",
            "__________________________________________________________________________________________________\n",
            "block8_sepconv1_bn (BatchNormal (None, 9, 9, 728)    2912        block8_sepconv1[0][0]            \n",
            "__________________________________________________________________________________________________\n",
            "block8_sepconv2_act (Activation (None, 9, 9, 728)    0           block8_sepconv1_bn[0][0]         \n",
            "__________________________________________________________________________________________________\n",
            "block8_sepconv2 (SeparableConv2 (None, 9, 9, 728)    536536      block8_sepconv2_act[0][0]        \n",
            "__________________________________________________________________________________________________\n",
            "block8_sepconv2_bn (BatchNormal (None, 9, 9, 728)    2912        block8_sepconv2[0][0]            \n",
            "__________________________________________________________________________________________________\n",
            "block8_sepconv3_act (Activation (None, 9, 9, 728)    0           block8_sepconv2_bn[0][0]         \n",
            "__________________________________________________________________________________________________\n",
            "block8_sepconv3 (SeparableConv2 (None, 9, 9, 728)    536536      block8_sepconv3_act[0][0]        \n",
            "__________________________________________________________________________________________________\n",
            "block8_sepconv3_bn (BatchNormal (None, 9, 9, 728)    2912        block8_sepconv3[0][0]            \n",
            "__________________________________________________________________________________________________\n",
            "add_7 (Add)                     (None, 9, 9, 728)    0           block8_sepconv3_bn[0][0]         \n",
            "                                                                 add_6[0][0]                      \n",
            "__________________________________________________________________________________________________\n",
            "block9_sepconv1_act (Activation (None, 9, 9, 728)    0           add_7[0][0]                      \n",
            "__________________________________________________________________________________________________\n",
            "block9_sepconv1 (SeparableConv2 (None, 9, 9, 728)    536536      block9_sepconv1_act[0][0]        \n",
            "__________________________________________________________________________________________________\n",
            "block9_sepconv1_bn (BatchNormal (None, 9, 9, 728)    2912        block9_sepconv1[0][0]            \n",
            "__________________________________________________________________________________________________\n",
            "block9_sepconv2_act (Activation (None, 9, 9, 728)    0           block9_sepconv1_bn[0][0]         \n",
            "__________________________________________________________________________________________________\n",
            "block9_sepconv2 (SeparableConv2 (None, 9, 9, 728)    536536      block9_sepconv2_act[0][0]        \n",
            "__________________________________________________________________________________________________\n",
            "block9_sepconv2_bn (BatchNormal (None, 9, 9, 728)    2912        block9_sepconv2[0][0]            \n",
            "__________________________________________________________________________________________________\n",
            "block9_sepconv3_act (Activation (None, 9, 9, 728)    0           block9_sepconv2_bn[0][0]         \n",
            "__________________________________________________________________________________________________\n",
            "block9_sepconv3 (SeparableConv2 (None, 9, 9, 728)    536536      block9_sepconv3_act[0][0]        \n",
            "__________________________________________________________________________________________________\n",
            "block9_sepconv3_bn (BatchNormal (None, 9, 9, 728)    2912        block9_sepconv3[0][0]            \n",
            "__________________________________________________________________________________________________\n",
            "add_8 (Add)                     (None, 9, 9, 728)    0           block9_sepconv3_bn[0][0]         \n",
            "                                                                 add_7[0][0]                      \n",
            "__________________________________________________________________________________________________\n",
            "block10_sepconv1_act (Activatio (None, 9, 9, 728)    0           add_8[0][0]                      \n",
            "__________________________________________________________________________________________________\n",
            "block10_sepconv1 (SeparableConv (None, 9, 9, 728)    536536      block10_sepconv1_act[0][0]       \n",
            "__________________________________________________________________________________________________\n",
            "block10_sepconv1_bn (BatchNorma (None, 9, 9, 728)    2912        block10_sepconv1[0][0]           \n",
            "__________________________________________________________________________________________________\n",
            "block10_sepconv2_act (Activatio (None, 9, 9, 728)    0           block10_sepconv1_bn[0][0]        \n",
            "__________________________________________________________________________________________________\n",
            "block10_sepconv2 (SeparableConv (None, 9, 9, 728)    536536      block10_sepconv2_act[0][0]       \n",
            "__________________________________________________________________________________________________\n",
            "block10_sepconv2_bn (BatchNorma (None, 9, 9, 728)    2912        block10_sepconv2[0][0]           \n",
            "__________________________________________________________________________________________________\n",
            "block10_sepconv3_act (Activatio (None, 9, 9, 728)    0           block10_sepconv2_bn[0][0]        \n",
            "__________________________________________________________________________________________________\n",
            "block10_sepconv3 (SeparableConv (None, 9, 9, 728)    536536      block10_sepconv3_act[0][0]       \n",
            "__________________________________________________________________________________________________\n",
            "block10_sepconv3_bn (BatchNorma (None, 9, 9, 728)    2912        block10_sepconv3[0][0]           \n",
            "__________________________________________________________________________________________________\n",
            "add_9 (Add)                     (None, 9, 9, 728)    0           block10_sepconv3_bn[0][0]        \n",
            "                                                                 add_8[0][0]                      \n",
            "__________________________________________________________________________________________________\n",
            "block11_sepconv1_act (Activatio (None, 9, 9, 728)    0           add_9[0][0]                      \n",
            "__________________________________________________________________________________________________\n",
            "block11_sepconv1 (SeparableConv (None, 9, 9, 728)    536536      block11_sepconv1_act[0][0]       \n",
            "__________________________________________________________________________________________________\n",
            "block11_sepconv1_bn (BatchNorma (None, 9, 9, 728)    2912        block11_sepconv1[0][0]           \n",
            "__________________________________________________________________________________________________\n",
            "block11_sepconv2_act (Activatio (None, 9, 9, 728)    0           block11_sepconv1_bn[0][0]        \n",
            "__________________________________________________________________________________________________\n",
            "block11_sepconv2 (SeparableConv (None, 9, 9, 728)    536536      block11_sepconv2_act[0][0]       \n",
            "__________________________________________________________________________________________________\n",
            "block11_sepconv2_bn (BatchNorma (None, 9, 9, 728)    2912        block11_sepconv2[0][0]           \n",
            "__________________________________________________________________________________________________\n",
            "block11_sepconv3_act (Activatio (None, 9, 9, 728)    0           block11_sepconv2_bn[0][0]        \n",
            "__________________________________________________________________________________________________\n",
            "block11_sepconv3 (SeparableConv (None, 9, 9, 728)    536536      block11_sepconv3_act[0][0]       \n",
            "__________________________________________________________________________________________________\n",
            "block11_sepconv3_bn (BatchNorma (None, 9, 9, 728)    2912        block11_sepconv3[0][0]           \n",
            "__________________________________________________________________________________________________\n",
            "add_10 (Add)                    (None, 9, 9, 728)    0           block11_sepconv3_bn[0][0]        \n",
            "                                                                 add_9[0][0]                      \n",
            "__________________________________________________________________________________________________\n",
            "block12_sepconv1_act (Activatio (None, 9, 9, 728)    0           add_10[0][0]                     \n",
            "__________________________________________________________________________________________________\n",
            "block12_sepconv1 (SeparableConv (None, 9, 9, 728)    536536      block12_sepconv1_act[0][0]       \n",
            "__________________________________________________________________________________________________\n",
            "block12_sepconv1_bn (BatchNorma (None, 9, 9, 728)    2912        block12_sepconv1[0][0]           \n",
            "__________________________________________________________________________________________________\n",
            "block12_sepconv2_act (Activatio (None, 9, 9, 728)    0           block12_sepconv1_bn[0][0]        \n",
            "__________________________________________________________________________________________________\n",
            "block12_sepconv2 (SeparableConv (None, 9, 9, 728)    536536      block12_sepconv2_act[0][0]       \n",
            "__________________________________________________________________________________________________\n",
            "block12_sepconv2_bn (BatchNorma (None, 9, 9, 728)    2912        block12_sepconv2[0][0]           \n",
            "__________________________________________________________________________________________________\n",
            "block12_sepconv3_act (Activatio (None, 9, 9, 728)    0           block12_sepconv2_bn[0][0]        \n",
            "__________________________________________________________________________________________________\n",
            "block12_sepconv3 (SeparableConv (None, 9, 9, 728)    536536      block12_sepconv3_act[0][0]       \n",
            "__________________________________________________________________________________________________\n",
            "block12_sepconv3_bn (BatchNorma (None, 9, 9, 728)    2912        block12_sepconv3[0][0]           \n",
            "__________________________________________________________________________________________________\n",
            "add_11 (Add)                    (None, 9, 9, 728)    0           block12_sepconv3_bn[0][0]        \n",
            "                                                                 add_10[0][0]                     \n",
            "__________________________________________________________________________________________________\n",
            "block13_sepconv1_act (Activatio (None, 9, 9, 728)    0           add_11[0][0]                     \n",
            "__________________________________________________________________________________________________\n",
            "block13_sepconv1 (SeparableConv (None, 9, 9, 728)    536536      block13_sepconv1_act[0][0]       \n",
            "__________________________________________________________________________________________________\n",
            "block13_sepconv1_bn (BatchNorma (None, 9, 9, 728)    2912        block13_sepconv1[0][0]           \n",
            "__________________________________________________________________________________________________\n",
            "block13_sepconv2_act (Activatio (None, 9, 9, 728)    0           block13_sepconv1_bn[0][0]        \n",
            "__________________________________________________________________________________________________\n",
            "block13_sepconv2 (SeparableConv (None, 9, 9, 1024)   752024      block13_sepconv2_act[0][0]       \n",
            "__________________________________________________________________________________________________\n",
            "block13_sepconv2_bn (BatchNorma (None, 9, 9, 1024)   4096        block13_sepconv2[0][0]           \n",
            "__________________________________________________________________________________________________\n",
            "conv2d_4 (Conv2D)               (None, 5, 5, 1024)   745472      add_11[0][0]                     \n",
            "__________________________________________________________________________________________________\n",
            "block13_pool (MaxPooling2D)     (None, 5, 5, 1024)   0           block13_sepconv2_bn[0][0]        \n",
            "__________________________________________________________________________________________________\n",
            "batch_normalization_4 (BatchNor (None, 5, 5, 1024)   4096        conv2d_4[0][0]                   \n",
            "__________________________________________________________________________________________________\n",
            "add_12 (Add)                    (None, 5, 5, 1024)   0           block13_pool[0][0]               \n",
            "                                                                 batch_normalization_4[0][0]      \n",
            "__________________________________________________________________________________________________\n",
            "block14_sepconv1 (SeparableConv (None, 5, 5, 1536)   1582080     add_12[0][0]                     \n",
            "__________________________________________________________________________________________________\n",
            "block14_sepconv1_bn (BatchNorma (None, 5, 5, 1536)   6144        block14_sepconv1[0][0]           \n",
            "__________________________________________________________________________________________________\n",
            "block14_sepconv1_act (Activatio (None, 5, 5, 1536)   0           block14_sepconv1_bn[0][0]        \n",
            "__________________________________________________________________________________________________\n",
            "block14_sepconv2 (SeparableConv (None, 5, 5, 2048)   3159552     block14_sepconv1_act[0][0]       \n",
            "__________________________________________________________________________________________________\n",
            "block14_sepconv2_bn (BatchNorma (None, 5, 5, 2048)   8192        block14_sepconv2[0][0]           \n",
            "__________________________________________________________________________________________________\n",
            "block14_sepconv2_act (Activatio (None, 5, 5, 2048)   0           block14_sepconv2_bn[0][0]        \n",
            "==================================================================================================\n",
            "Total params: 20,861,480\n",
            "Trainable params: 0\n",
            "Non-trainable params: 20,861,480\n",
            "__________________________________________________________________________________________________\n"
          ],
          "name": "stdout"
        }
      ]
    },
    {
      "cell_type": "code",
      "metadata": {
        "id": "PwkVMx8N8qMw",
        "colab_type": "code",
        "colab": {}
      },
      "source": [
        "conv_base.trainable = True\n",
        "\n",
        "set_trainable = False\n",
        "for layer in conv_base.layers:\n",
        "  if layer.name == 'block12_sepconv1_act':\n",
        "    set_trainable = True\n",
        "  if set_trainable:\n",
        "    layer.trainable = True\n",
        "  if layer.name == 'block12_sepconv3_bn':\n",
        "    set_trainable = True\n",
        "  else:\n",
        "    layer.trainable = False"
      ],
      "execution_count": 0,
      "outputs": []
    },
    {
      "cell_type": "code",
      "metadata": {
        "id": "DyN-J7rs9cvo",
        "colab_type": "code",
        "outputId": "fd365373-2b3a-4236-ea1e-f975624d6a18",
        "colab": {
          "base_uri": "https://localhost:8080/",
          "height": 1000
        }
      },
      "source": [
        "# compile model\n",
        "\n",
        "model.compile(\n",
        "    loss='binary_crossentropy',\n",
        "    #\n",
        "    # choose a smaller learning rate\n",
        "    #\n",
        "    optimizer=optimizers.RMSprop(lr=1e-5), \n",
        "    metrics=['acc'])\n",
        "\n",
        "# train\n",
        "\n",
        "history = model.fit_generator(\n",
        "    train_generator,\n",
        "    steps_per_epoch=10,\n",
        "    epochs=100,\n",
        "    validation_data=validation_generator,\n",
        "    validation_steps=50)"
      ],
      "execution_count": 12,
      "outputs": [
        {
          "output_type": "stream",
          "text": [
            "Epoch 1/100\n",
            "10/10 [==============================] - 8s 751ms/step - loss: 0.2733 - acc: 0.8600 - val_loss: 0.1357 - val_acc: 0.9670\n",
            "Epoch 2/100\n",
            "10/10 [==============================] - 4s 410ms/step - loss: 0.3492 - acc: 0.8750 - val_loss: 0.1321 - val_acc: 0.9610\n",
            "Epoch 3/100\n",
            "10/10 [==============================] - 4s 415ms/step - loss: 0.3128 - acc: 0.8700 - val_loss: 0.2676 - val_acc: 0.9610\n",
            "Epoch 4/100\n",
            "10/10 [==============================] - 4s 414ms/step - loss: 0.2841 - acc: 0.8800 - val_loss: 0.0143 - val_acc: 0.9330\n",
            "Epoch 5/100\n",
            "10/10 [==============================] - 4s 412ms/step - loss: 0.2872 - acc: 0.8500 - val_loss: 0.1988 - val_acc: 0.9570\n",
            "Epoch 6/100\n",
            "10/10 [==============================] - 4s 416ms/step - loss: 0.2821 - acc: 0.8400 - val_loss: 0.0099 - val_acc: 0.9430\n",
            "Epoch 7/100\n",
            "10/10 [==============================] - 4s 411ms/step - loss: 0.2689 - acc: 0.8700 - val_loss: 0.0112 - val_acc: 0.9620\n",
            "Epoch 8/100\n",
            "10/10 [==============================] - 4s 418ms/step - loss: 0.3282 - acc: 0.8600 - val_loss: 0.0589 - val_acc: 0.9570\n",
            "Epoch 9/100\n",
            "10/10 [==============================] - 4s 408ms/step - loss: 0.2991 - acc: 0.8700 - val_loss: 0.0308 - val_acc: 0.9530\n",
            "Epoch 10/100\n",
            "10/10 [==============================] - 4s 419ms/step - loss: 0.3091 - acc: 0.8600 - val_loss: 0.1578 - val_acc: 0.9520\n",
            "Epoch 11/100\n",
            "10/10 [==============================] - 4s 413ms/step - loss: 0.2904 - acc: 0.8750 - val_loss: 0.0232 - val_acc: 0.9490\n",
            "Epoch 12/100\n",
            "10/10 [==============================] - 4s 416ms/step - loss: 0.3244 - acc: 0.8750 - val_loss: 0.0945 - val_acc: 0.9360\n",
            "Epoch 13/100\n",
            "10/10 [==============================] - 4s 413ms/step - loss: 0.2828 - acc: 0.8700 - val_loss: 0.3631 - val_acc: 0.9450\n",
            "Epoch 14/100\n",
            "10/10 [==============================] - 4s 412ms/step - loss: 0.2842 - acc: 0.8800 - val_loss: 0.1762 - val_acc: 0.9430\n",
            "Epoch 15/100\n",
            "10/10 [==============================] - 4s 407ms/step - loss: 0.3347 - acc: 0.8400 - val_loss: 0.1142 - val_acc: 0.9200\n",
            "Epoch 16/100\n",
            "10/10 [==============================] - 4s 414ms/step - loss: 0.3519 - acc: 0.8350 - val_loss: 0.0342 - val_acc: 0.9430\n",
            "Epoch 17/100\n",
            "10/10 [==============================] - 4s 409ms/step - loss: 0.3152 - acc: 0.8200 - val_loss: 0.1044 - val_acc: 0.9410\n",
            "Epoch 18/100\n",
            "10/10 [==============================] - 4s 414ms/step - loss: 0.2753 - acc: 0.8750 - val_loss: 0.1234 - val_acc: 0.9470\n",
            "Epoch 19/100\n",
            "10/10 [==============================] - 4s 402ms/step - loss: 0.3817 - acc: 0.8250 - val_loss: 0.0330 - val_acc: 0.9430\n",
            "Epoch 20/100\n",
            "10/10 [==============================] - 4s 415ms/step - loss: 0.2738 - acc: 0.9100 - val_loss: 0.1945 - val_acc: 0.9450\n",
            "Epoch 21/100\n",
            "10/10 [==============================] - 4s 412ms/step - loss: 0.2510 - acc: 0.9050 - val_loss: 0.3416 - val_acc: 0.9310\n",
            "Epoch 22/100\n",
            "10/10 [==============================] - 4s 409ms/step - loss: 0.3117 - acc: 0.8350 - val_loss: 0.2717 - val_acc: 0.9430\n",
            "Epoch 23/100\n",
            "10/10 [==============================] - 4s 411ms/step - loss: 0.3431 - acc: 0.8600 - val_loss: 0.1074 - val_acc: 0.8920\n",
            "Epoch 24/100\n",
            "10/10 [==============================] - 4s 412ms/step - loss: 0.3627 - acc: 0.8500 - val_loss: 0.0398 - val_acc: 0.9390\n",
            "Epoch 25/100\n",
            "10/10 [==============================] - 4s 411ms/step - loss: 0.2766 - acc: 0.8900 - val_loss: 0.1146 - val_acc: 0.9300\n",
            "Epoch 26/100\n",
            "10/10 [==============================] - 4s 412ms/step - loss: 0.2573 - acc: 0.8900 - val_loss: 0.1044 - val_acc: 0.9410\n",
            "Epoch 27/100\n",
            "10/10 [==============================] - 4s 413ms/step - loss: 0.2785 - acc: 0.8750 - val_loss: 0.1251 - val_acc: 0.9400\n",
            "Epoch 28/100\n",
            "10/10 [==============================] - 4s 421ms/step - loss: 0.3412 - acc: 0.8600 - val_loss: 0.0851 - val_acc: 0.9400\n",
            "Epoch 29/100\n",
            "10/10 [==============================] - 4s 410ms/step - loss: 0.2778 - acc: 0.8900 - val_loss: 0.1989 - val_acc: 0.8980\n",
            "Epoch 30/100\n",
            "10/10 [==============================] - 4s 411ms/step - loss: 0.3255 - acc: 0.8350 - val_loss: 0.2430 - val_acc: 0.9280\n",
            "Epoch 31/100\n",
            "10/10 [==============================] - 4s 411ms/step - loss: 0.3111 - acc: 0.8650 - val_loss: 0.3964 - val_acc: 0.8980\n",
            "Epoch 32/100\n",
            "10/10 [==============================] - 4s 413ms/step - loss: 0.4072 - acc: 0.8100 - val_loss: 0.2785 - val_acc: 0.9340\n",
            "Epoch 33/100\n",
            "10/10 [==============================] - 4s 411ms/step - loss: 0.2784 - acc: 0.8850 - val_loss: 0.0807 - val_acc: 0.9360\n",
            "Epoch 34/100\n",
            "10/10 [==============================] - 4s 411ms/step - loss: 0.3284 - acc: 0.8400 - val_loss: 0.1590 - val_acc: 0.9160\n",
            "Epoch 35/100\n",
            "10/10 [==============================] - 4s 412ms/step - loss: 0.2647 - acc: 0.8800 - val_loss: 0.0388 - val_acc: 0.9400\n",
            "Epoch 36/100\n",
            "10/10 [==============================] - 4s 420ms/step - loss: 0.3110 - acc: 0.8350 - val_loss: 0.0699 - val_acc: 0.9340\n",
            "Epoch 37/100\n",
            "10/10 [==============================] - 4s 417ms/step - loss: 0.2819 - acc: 0.8800 - val_loss: 0.1637 - val_acc: 0.9320\n",
            "Epoch 38/100\n",
            "10/10 [==============================] - 4s 415ms/step - loss: 0.3419 - acc: 0.8500 - val_loss: 0.0587 - val_acc: 0.9350\n",
            "Epoch 39/100\n",
            "10/10 [==============================] - 4s 406ms/step - loss: 0.2813 - acc: 0.8700 - val_loss: 0.3776 - val_acc: 0.9200\n",
            "Epoch 40/100\n",
            "10/10 [==============================] - 4s 417ms/step - loss: 0.2655 - acc: 0.8850 - val_loss: 0.1611 - val_acc: 0.9060\n",
            "Epoch 41/100\n",
            "10/10 [==============================] - 4s 415ms/step - loss: 0.2641 - acc: 0.9000 - val_loss: 0.1601 - val_acc: 0.9290\n",
            "Epoch 42/100\n",
            "10/10 [==============================] - 4s 409ms/step - loss: 0.2349 - acc: 0.9150 - val_loss: 0.0469 - val_acc: 0.9250\n",
            "Epoch 43/100\n",
            "10/10 [==============================] - 4s 416ms/step - loss: 0.3023 - acc: 0.8600 - val_loss: 0.2276 - val_acc: 0.9090\n",
            "Epoch 44/100\n",
            "10/10 [==============================] - 4s 412ms/step - loss: 0.3179 - acc: 0.8600 - val_loss: 0.2541 - val_acc: 0.9260\n",
            "Epoch 45/100\n",
            "10/10 [==============================] - 4s 409ms/step - loss: 0.3059 - acc: 0.8350 - val_loss: 0.2993 - val_acc: 0.9270\n",
            "Epoch 46/100\n",
            "10/10 [==============================] - 4s 411ms/step - loss: 0.2954 - acc: 0.8850 - val_loss: 0.1933 - val_acc: 0.9280\n",
            "Epoch 47/100\n",
            "10/10 [==============================] - 4s 420ms/step - loss: 0.2811 - acc: 0.8700 - val_loss: 0.0596 - val_acc: 0.9260\n",
            "Epoch 48/100\n",
            "10/10 [==============================] - 4s 419ms/step - loss: 0.2449 - acc: 0.8800 - val_loss: 0.1003 - val_acc: 0.9300\n",
            "Epoch 49/100\n",
            "10/10 [==============================] - 4s 404ms/step - loss: 0.2957 - acc: 0.8600 - val_loss: 0.2090 - val_acc: 0.9360\n",
            "Epoch 50/100\n",
            "10/10 [==============================] - 4s 419ms/step - loss: 0.3618 - acc: 0.8350 - val_loss: 0.0651 - val_acc: 0.9390\n",
            "Epoch 51/100\n",
            "10/10 [==============================] - 4s 415ms/step - loss: 0.2964 - acc: 0.8700 - val_loss: 0.2202 - val_acc: 0.9300\n",
            "Epoch 52/100\n",
            "10/10 [==============================] - 4s 412ms/step - loss: 0.3209 - acc: 0.8700 - val_loss: 0.0524 - val_acc: 0.9400\n",
            "Epoch 53/100\n",
            "10/10 [==============================] - 4s 416ms/step - loss: 0.2515 - acc: 0.8700 - val_loss: 0.1973 - val_acc: 0.9110\n",
            "Epoch 54/100\n",
            "10/10 [==============================] - 4s 408ms/step - loss: 0.3072 - acc: 0.8550 - val_loss: 0.1103 - val_acc: 0.9310\n",
            "Epoch 55/100\n",
            "10/10 [==============================] - 4s 416ms/step - loss: 0.2241 - acc: 0.9050 - val_loss: 0.0898 - val_acc: 0.9010\n",
            "Epoch 56/100\n",
            "10/10 [==============================] - 4s 412ms/step - loss: 0.2240 - acc: 0.9000 - val_loss: 0.0557 - val_acc: 0.9150\n",
            "Epoch 57/100\n",
            "10/10 [==============================] - 4s 410ms/step - loss: 0.2959 - acc: 0.8900 - val_loss: 0.4619 - val_acc: 0.9310\n",
            "Epoch 58/100\n",
            "10/10 [==============================] - 4s 413ms/step - loss: 0.3158 - acc: 0.8450 - val_loss: 0.2692 - val_acc: 0.9360\n",
            "Epoch 59/100\n",
            "10/10 [==============================] - 4s 404ms/step - loss: 0.2796 - acc: 0.9050 - val_loss: 0.2115 - val_acc: 0.9300\n",
            "Epoch 60/100\n",
            "10/10 [==============================] - 4s 424ms/step - loss: 0.3218 - acc: 0.8650 - val_loss: 0.1324 - val_acc: 0.9340\n",
            "Epoch 61/100\n",
            "10/10 [==============================] - 4s 418ms/step - loss: 0.2557 - acc: 0.8650 - val_loss: 0.3559 - val_acc: 0.9080\n",
            "Epoch 62/100\n",
            "10/10 [==============================] - 4s 417ms/step - loss: 0.3000 - acc: 0.8750 - val_loss: 0.2071 - val_acc: 0.9180\n",
            "Epoch 63/100\n",
            "10/10 [==============================] - 4s 413ms/step - loss: 0.3047 - acc: 0.8600 - val_loss: 0.0846 - val_acc: 0.9330\n",
            "Epoch 64/100\n",
            "10/10 [==============================] - 4s 419ms/step - loss: 0.3504 - acc: 0.8500 - val_loss: 0.1234 - val_acc: 0.9180\n",
            "Epoch 65/100\n",
            "10/10 [==============================] - 4s 418ms/step - loss: 0.3474 - acc: 0.8550 - val_loss: 0.1522 - val_acc: 0.9340\n",
            "Epoch 66/100\n",
            "10/10 [==============================] - 4s 415ms/step - loss: 0.3623 - acc: 0.8700 - val_loss: 0.0852 - val_acc: 0.9340\n",
            "Epoch 67/100\n",
            "10/10 [==============================] - 4s 414ms/step - loss: 0.3133 - acc: 0.8500 - val_loss: 0.1560 - val_acc: 0.9340\n",
            "Epoch 68/100\n",
            "10/10 [==============================] - 4s 421ms/step - loss: 0.2562 - acc: 0.9000 - val_loss: 0.2120 - val_acc: 0.9340\n",
            "Epoch 69/100\n",
            "10/10 [==============================] - 4s 407ms/step - loss: 0.2950 - acc: 0.8650 - val_loss: 0.2176 - val_acc: 0.9230\n",
            "Epoch 70/100\n",
            "10/10 [==============================] - 4s 420ms/step - loss: 0.3178 - acc: 0.8500 - val_loss: 0.0805 - val_acc: 0.9120\n",
            "Epoch 71/100\n",
            "10/10 [==============================] - 4s 413ms/step - loss: 0.2259 - acc: 0.9000 - val_loss: 0.2125 - val_acc: 0.9270\n",
            "Epoch 72/100\n",
            "10/10 [==============================] - 4s 412ms/step - loss: 0.2738 - acc: 0.8650 - val_loss: 0.3180 - val_acc: 0.9310\n",
            "Epoch 73/100\n",
            "10/10 [==============================] - 4s 414ms/step - loss: 0.2832 - acc: 0.9000 - val_loss: 0.1570 - val_acc: 0.9360\n",
            "Epoch 74/100\n",
            "10/10 [==============================] - 4s 416ms/step - loss: 0.2390 - acc: 0.9200 - val_loss: 0.1089 - val_acc: 0.9330\n",
            "Epoch 75/100\n",
            "10/10 [==============================] - 4s 417ms/step - loss: 0.3075 - acc: 0.8400 - val_loss: 0.2690 - val_acc: 0.9230\n",
            "Epoch 76/100\n",
            "10/10 [==============================] - 4s 414ms/step - loss: 0.2560 - acc: 0.8900 - val_loss: 0.6852 - val_acc: 0.8920\n",
            "Epoch 77/100\n",
            "10/10 [==============================] - 4s 411ms/step - loss: 0.2263 - acc: 0.9000 - val_loss: 0.1024 - val_acc: 0.8810\n",
            "Epoch 78/100\n",
            "10/10 [==============================] - 4s 411ms/step - loss: 0.2560 - acc: 0.8900 - val_loss: 0.2452 - val_acc: 0.9340\n",
            "Epoch 79/100\n",
            "10/10 [==============================] - 4s 408ms/step - loss: 0.2830 - acc: 0.8850 - val_loss: 0.5307 - val_acc: 0.9260\n",
            "Epoch 80/100\n",
            "10/10 [==============================] - 4s 419ms/step - loss: 0.2890 - acc: 0.8750 - val_loss: 0.3431 - val_acc: 0.9100\n",
            "Epoch 81/100\n",
            "10/10 [==============================] - 4s 411ms/step - loss: 0.2615 - acc: 0.8850 - val_loss: 0.2994 - val_acc: 0.9210\n",
            "Epoch 82/100\n",
            "10/10 [==============================] - 4s 420ms/step - loss: 0.3356 - acc: 0.8700 - val_loss: 0.0622 - val_acc: 0.9370\n",
            "Epoch 83/100\n",
            "10/10 [==============================] - 4s 412ms/step - loss: 0.3468 - acc: 0.8500 - val_loss: 0.1335 - val_acc: 0.9240\n",
            "Epoch 84/100\n",
            "10/10 [==============================] - 4s 411ms/step - loss: 0.3779 - acc: 0.8500 - val_loss: 0.1288 - val_acc: 0.9380\n",
            "Epoch 85/100\n",
            "10/10 [==============================] - 4s 414ms/step - loss: 0.2790 - acc: 0.8700 - val_loss: 0.3517 - val_acc: 0.9090\n",
            "Epoch 86/100\n",
            "10/10 [==============================] - 4s 415ms/step - loss: 0.3137 - acc: 0.8350 - val_loss: 0.0449 - val_acc: 0.9310\n",
            "Epoch 87/100\n",
            "10/10 [==============================] - 4s 419ms/step - loss: 0.1912 - acc: 0.9350 - val_loss: 0.4402 - val_acc: 0.8960\n",
            "Epoch 88/100\n",
            "10/10 [==============================] - 4s 412ms/step - loss: 0.2351 - acc: 0.8850 - val_loss: 0.1667 - val_acc: 0.9250\n",
            "Epoch 89/100\n",
            "10/10 [==============================] - 4s 408ms/step - loss: 0.2942 - acc: 0.8600 - val_loss: 0.1087 - val_acc: 0.9350\n",
            "Epoch 90/100\n",
            "10/10 [==============================] - 4s 420ms/step - loss: 0.2723 - acc: 0.8650 - val_loss: 0.2291 - val_acc: 0.9080\n",
            "Epoch 91/100\n",
            "10/10 [==============================] - 4s 412ms/step - loss: 0.2343 - acc: 0.9000 - val_loss: 0.0705 - val_acc: 0.8930\n",
            "Epoch 92/100\n",
            "10/10 [==============================] - 4s 410ms/step - loss: 0.2826 - acc: 0.8800 - val_loss: 0.4505 - val_acc: 0.9340\n",
            "Epoch 93/100\n",
            "10/10 [==============================] - 4s 411ms/step - loss: 0.3133 - acc: 0.8750 - val_loss: 0.0566 - val_acc: 0.9120\n",
            "Epoch 94/100\n",
            "10/10 [==============================] - 4s 413ms/step - loss: 0.2733 - acc: 0.8700 - val_loss: 0.2103 - val_acc: 0.9330\n",
            "Epoch 95/100\n",
            "10/10 [==============================] - 4s 416ms/step - loss: 0.3049 - acc: 0.8750 - val_loss: 0.1429 - val_acc: 0.9050\n",
            "Epoch 96/100\n",
            "10/10 [==============================] - 4s 415ms/step - loss: 0.3008 - acc: 0.8800 - val_loss: 0.2536 - val_acc: 0.9220\n",
            "Epoch 97/100\n",
            "10/10 [==============================] - 4s 422ms/step - loss: 0.3560 - acc: 0.8500 - val_loss: 0.1876 - val_acc: 0.9410\n",
            "Epoch 98/100\n",
            "10/10 [==============================] - 4s 416ms/step - loss: 0.3248 - acc: 0.8600 - val_loss: 0.0475 - val_acc: 0.9410\n",
            "Epoch 99/100\n",
            "10/10 [==============================] - 4s 403ms/step - loss: 0.2497 - acc: 0.8800 - val_loss: 0.2994 - val_acc: 0.9330\n",
            "Epoch 100/100\n",
            "10/10 [==============================] - 4s 422ms/step - loss: 0.2306 - acc: 0.8900 - val_loss: 0.1594 - val_acc: 0.9390\n"
          ],
          "name": "stdout"
        }
      ]
    },
    {
      "cell_type": "markdown",
      "metadata": {
        "id": "eVBQgh5M-Rtz",
        "colab_type": "text"
      },
      "source": [
        "## Display learning curves during fine-tuning"
      ]
    },
    {
      "cell_type": "code",
      "metadata": {
        "id": "mbkIw7Ie-NP4",
        "colab_type": "code",
        "outputId": "e435fc14-bb9f-4120-97c7-40d49c09fc26",
        "colab": {
          "base_uri": "https://localhost:8080/",
          "height": 545
        }
      },
      "source": [
        "%matplotlib inline\n",
        "\n",
        "import matplotlib.pyplot as plt\n",
        "\n",
        "acc = history.history['acc']\n",
        "val_acc = history.history['val_acc']\n",
        "\n",
        "loss = history.history['loss']\n",
        "val_loss = history.history['val_loss']\n",
        "\n",
        "epochs = range(1, len(acc) + 1)\n",
        "\n",
        "# training and validation accuracy\n",
        "\n",
        "plt.plot(epochs, acc, 'bo', label='training acc')\n",
        "plt.plot(epochs, val_acc, 'b', label='validation acc')\n",
        "plt.title('training and validation accuracy')\n",
        "plt.legend()\n",
        "\n",
        "plt.figure()\n",
        "\n",
        "# training and validation loss\n",
        "\n",
        "plt.plot(epochs, loss, 'bo', label='training loss')\n",
        "plt.plot(epochs, val_loss, 'b', label='validation loss')\n",
        "plt.title('training and validation loss')\n",
        "plt.legend()\n",
        "\n",
        "plt.show()"
      ],
      "execution_count": 13,
      "outputs": [
        {
          "output_type": "display_data",
          "data": {
            "image/png": "[encoded data removed]",
            "text/plain": [
              "<Figure size 432x288 with 1 Axes>"
            ]
          },
          "metadata": {
            "tags": [],
            "needs_background": "light"
          }
        },
        {
          "output_type": "display_data",
          "data": {
            "image/png": "[encoded data removed]",
            "text/plain": [
              "<Figure size 432x288 with 1 Axes>"
            ]
          },
          "metadata": {
            "tags": [],
            "needs_background": "light"
          }
        }
      ]
    },
    {
      "cell_type": "markdown",
      "metadata": {
        "id": "he3Nw6TOJwjx",
        "colab_type": "text"
      },
      "source": [
        "## Print out validation loss and accuracy"
      ]
    },
    {
      "cell_type": "code",
      "metadata": {
        "id": "SVQtrk7uJdhl",
        "colab_type": "code",
        "colab": {}
      },
      "source": [
        "val_loss, val_acc = model.evaluate_generator(validation_generator, steps=50)"
      ],
      "execution_count": 0,
      "outputs": []
    },
    {
      "cell_type": "code",
      "metadata": {
        "id": "HpdddLi1SUMe",
        "colab_type": "code",
        "outputId": "557bb9fa-1e6d-4769-eab3-b49e71aa0965",
        "colab": {
          "base_uri": "https://localhost:8080/",
          "height": 51
        }
      },
      "source": [
        "print(\"Validation loss:\", val_loss)\n",
        "print(\"Validation accuracy:\", val_acc)"
      ],
      "execution_count": 15,
      "outputs": [
        {
          "output_type": "stream",
          "text": [
            "Validation loss: 0.15944518148899078\n",
            "Validation accuracy: 0.9390000104904175\n"
          ],
          "name": "stdout"
        }
      ]
    },
    {
      "cell_type": "markdown",
      "metadata": {
        "id": "7Ww756WToby8",
        "colab_type": "text"
      },
      "source": [
        "## Save the model"
      ]
    },
    {
      "cell_type": "code",
      "metadata": {
        "id": "0lTUpUdwobKW",
        "colab_type": "code",
        "colab": {}
      },
      "source": [
        "model_fname = 'cats_and_dogs_small_4.h5' \n",
        "model.save(model_fname)"
      ],
      "execution_count": 0,
      "outputs": []
    }
  ]
}