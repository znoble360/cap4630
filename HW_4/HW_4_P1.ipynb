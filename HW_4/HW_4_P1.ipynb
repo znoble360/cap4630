{
  "nbformat": 4,
  "nbformat_minor": 0,
  "metadata": {
    "colab": {
      "name": "HW_4_P1.ipynb",
      "provenance": [],
      "collapsed_sections": [],
      "authorship_tag": "ABX9TyPLEQ6LkWEcK4Q8SuReEASF",
      "include_colab_link": true
    },
    "kernelspec": {
      "name": "python3",
      "display_name": "Python 3"
    },
    "accelerator": "GPU"
  },
  "cells": [
    {
      "cell_type": "markdown",
      "metadata": {
        "id": "view-in-github",
        "colab_type": "text"
      },
      "source": [
        "<a href=\"https://colab.research.google.com/github/znoble360/cap4630/blob/master/HW_4/HW_4_P1.ipynb\" target=\"_parent\"><img src=\"https://colab.research.google.com/assets/colab-badge.svg\" alt=\"Open In Colab\"/></a>"
      ]
    },
    {
      "cell_type": "markdown",
      "metadata": {
        "id": "PECunp2FIBhg",
        "colab_type": "text"
      },
      "source": [
        "#Problem 1:"
      ]
    },
    {
      "cell_type": "markdown",
      "metadata": {
        "id": "y370iWiVdQ6n",
        "colab_type": "text"
      },
      "source": [
        "##Imports and References"
      ]
    },
    {
      "cell_type": "markdown",
      "metadata": {
        "id": "u4vuV6C9OYJx",
        "colab_type": "text"
      },
      "source": [
        "test cases from https://github.com/schneider128k/machine_learning_course/blob/master/homework/2020_spring/test_cases_for_problems_1_2_homework_4.ipynb"
      ]
    },
    {
      "cell_type": "code",
      "metadata": {
        "id": "X1rSjJb7HUDU",
        "colab_type": "code",
        "colab": {}
      },
      "source": [
        "import numpy as np"
      ],
      "execution_count": 0,
      "outputs": []
    },
    {
      "cell_type": "code",
      "metadata": {
        "id": "TsQTcvw_4c3v",
        "colab_type": "code",
        "colab": {}
      },
      "source": [
        "# takes 2 2d numpy arrays input_mat and kernel_mat and multiplies element input_mat[x][y] with kernel_mat[x][y]\n",
        "# returns a 2d numpy array with the results\n",
        "def filter_mat(input_mat, kernel_mat):\n",
        "    result = np.empty((input_mat.shape[0], input_mat.shape[1]))\n",
        "\n",
        "    for i in range(input_mat.shape[0]):\n",
        "        for j in range(input_mat.shape[1]):\n",
        "            result[i][j] = input_mat[i][j] * kernel_mat[i][j]\n",
        "            \n",
        "    return result"
      ],
      "execution_count": 0,
      "outputs": []
    },
    {
      "cell_type": "markdown",
      "metadata": {
        "id": "TNnHP4asdueu",
        "colab_type": "text"
      },
      "source": [
        "##conv2d"
      ]
    },
    {
      "cell_type": "code",
      "metadata": {
        "id": "6okBKwnhdU2P",
        "colab_type": "code",
        "colab": {}
      },
      "source": [
        "def conv2d(input_mat, kernel_mat):\n",
        "    if kernel_mat.shape[0] > input_mat.shape[0]:\n",
        "        return []\n",
        "\n",
        "    # flip the kernel 180 degrees\n",
        "    #fliped_kernel_mat = np.rot90(kernel_mat, 2)\n",
        "   \n",
        "    # size of the kernel on the x and y axes\n",
        "    #kernel_x = fliped_kernel_mat.shape[0]\n",
        "    #kernel_y = fliped_kernel_mat.shape[1]\n",
        "\n",
        "    # size of the kernel on the x and y axes\n",
        "    kernel_x = kernel_mat.shape[0]\n",
        "    kernel_y = kernel_mat.shape[1]\n",
        " \n",
        "    #   \n",
        " \n",
        "    # size of the output_mat on the x and y axes\n",
        "    output_mat_x = input_mat.shape[0] - kernel_x + 1\n",
        "    output_mat_y = input_mat.shape[1] - kernel_y + 1\n",
        "\n",
        "    # empty matrix to hold the results to return\n",
        "    output_mat = np.empty((output_mat_x, output_mat_y))\n",
        "\n",
        "    # while the fliped_kernel_mat is still in the bounds of the input_mat, slide the kernel down\n",
        "    for i in range(output_mat_x):\n",
        "        # while fliped_kernel_mat is still in the bounds of the input_mat, slide the kernel right\n",
        "        for j in range(output_mat_y):\n",
        "            # applies the kernel to the input_mat and stores the summation of the result to output_mat[i][j]\n",
        "            input_slice = input_mat[i:i+kernel_x,j:j+kernel_y]\n",
        "            output_mat[i][j] = np.sum(filter_mat(input_slice, kernel_mat))\n",
        "    \n",
        "    return output_mat"
      ],
      "execution_count": 0,
      "outputs": []
    },
    {
      "cell_type": "code",
      "metadata": {
        "id": "Zcwhq8W4WM1A",
        "colab_type": "code",
        "outputId": "3da7d9d9-6d99-4645-976f-6a6a8cc4d717",
        "colab": {
          "base_uri": "https://localhost:8080/",
          "height": 374
        }
      },
      "source": [
        "#from scipy import signal\n",
        "\n",
        "input_mat = []\n",
        "kernel_mat = []\n",
        "expected_mat = []\n",
        "\n",
        "# test case 1\n",
        "input_mat.append(np.array([[1, 2, 1, 2],\n",
        "                           [2, 1, 2, 1],\n",
        "                           [1, 2, 1, 2],\n",
        "                           [2, 1, 2, 1]]))\n",
        "\n",
        "kernel_mat.append(np.array([[1, 0],\n",
        "                            [0, 1]]))\n",
        "\n",
        "expected_mat.append(np.array([[2, 4, 2],\n",
        "                              [4, 2, 4],\n",
        "                              [2, 4, 2]]))\n",
        "\n",
        "# test case 2\n",
        "input_mat.append(np.array([[1, 0, 0, 0],\n",
        "                           [0, 1, 0, 0],\n",
        "                           [0, 0, 1, 0],\n",
        "                           [0, 0, 0, 1]]))\n",
        "\n",
        "kernel_mat.append(np.array([[1, 0], \n",
        "                            [0, 1]]))\n",
        "\n",
        "expected_mat.append(np.array([[2, 0, 0],\n",
        "                              [0, 2, 0],\n",
        "                              [0, 0, 2]]))\n",
        "\n",
        "\n",
        "# test case 3\n",
        "input_mat.append(np.array([[1, 0, 0, 0],\n",
        "                           [0, 1, 0, 0],\n",
        "                           [0, 0, 1, 0],\n",
        "                           [0, 0, 0, 1]]))\n",
        "\n",
        "kernel_mat.append(np.array([[1, -1],\n",
        "                            [-1, 0]]))\n",
        "\n",
        "expected_mat.append(np.array([[ 1, -1,  0],\n",
        "                              [-1,  1, -1],\n",
        "                              [ 0, -1,  1]]))\n",
        "\n",
        "\n",
        "# test case 4\n",
        "input_mat.append(np.array([[1, 0, 0, 0],\n",
        "                           [0, 1, 0, 0],\n",
        "                           [0, 0, 1, 0],\n",
        "                           [0, 0, 0, 1]]))\n",
        "\n",
        "kernel_mat.append(np.array([[1, 0, 0, 0],\n",
        "                           [0, 1, 0, 0],\n",
        "                           [0, 0, 1, 0],\n",
        "                           [0, 0, 0, 1]]))\n",
        "\n",
        "expected_mat.append(np.array([[4]]))\n",
        "\n",
        "\n",
        "# test case 5 - should either through an error, or return empty matrix\n",
        "input_mat.append(np.array([[1, -1],\n",
        "                           [-1, 0]]))\n",
        "\n",
        "kernel_mat.append(np.array([[1, 0, 0, 0],\n",
        "                            [0, 1, 0, 0],\n",
        "                            [0, 0, 1, 0],\n",
        "                            [0, 0, 0, 1]]))\n",
        "\n",
        "expected_mat.append([])\n",
        "\n",
        "\n",
        "\n",
        "for i in range(len(input_mat)):\n",
        "  # uncomment line for student code testing\n",
        "  output_mat = conv2d(input_mat[i], kernel_mat[i])\n",
        "\n",
        "  # uncomment lines below (and comment line above) for generating test cases.\n",
        "  #if input_mat[i].shape[0] < kernel_mat[i].shape[0]:\n",
        "  #  output_mat = []\n",
        "  #else:\n",
        "  #  output_mat = signal.convolve2d(input_mat[i], kernel_mat[i], mode='valid')\n",
        "\n",
        "  print(output_mat)\n",
        "  if np.array_equal(output_mat, expected_mat[i]):\n",
        "    print(\"Correct output!\\n\")\n",
        "  else:\n",
        "    print(\"Incorrect output!\\n\")\n"
      ],
      "execution_count": 0,
      "outputs": [
        {
          "output_type": "stream",
          "text": [
            "[[2. 4. 2.]\n",
            " [4. 2. 4.]\n",
            " [2. 4. 2.]]\n",
            "Correct output!\n",
            "\n",
            "[[2. 0. 0.]\n",
            " [0. 2. 0.]\n",
            " [0. 0. 2.]]\n",
            "Correct output!\n",
            "\n",
            "[[ 1. -1.  0.]\n",
            " [-1.  1. -1.]\n",
            " [ 0. -1.  1.]]\n",
            "Correct output!\n",
            "\n",
            "[[4.]]\n",
            "Correct output!\n",
            "\n",
            "[]\n",
            "Correct output!\n",
            "\n"
          ],
          "name": "stdout"
        }
      ]
    }
  ]
}