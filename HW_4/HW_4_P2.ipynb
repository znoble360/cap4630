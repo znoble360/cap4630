{
  "nbformat": 4,
  "nbformat_minor": 0,
  "metadata": {
    "colab": {
      "name": "HW_4_P2.ipynb",
      "provenance": [],
      "collapsed_sections": [],
      "authorship_tag": "ABX9TyNyWGDy6P6pqutOGdCinGWw",
      "include_colab_link": true
    },
    "kernelspec": {
      "name": "python3",
      "display_name": "Python 3"
    }
  },
  "cells": [
    {
      "cell_type": "markdown",
      "metadata": {
        "id": "view-in-github",
        "colab_type": "text"
      },
      "source": [
        "<a href=\"https://colab.research.google.com/github/znoble360/cap4630/blob/master/HW_4/HW_4_P2.ipynb\" target=\"_parent\"><img src=\"https://colab.research.google.com/assets/colab-badge.svg\" alt=\"Open In Colab\"/></a>"
      ]
    },
    {
      "cell_type": "markdown",
      "metadata": {
        "id": "f4nVJ5ciDXRZ",
        "colab_type": "text"
      },
      "source": [
        "#Problem 2"
      ]
    },
    {
      "cell_type": "markdown",
      "metadata": {
        "id": "_fj5lW2CDgxA",
        "colab_type": "text"
      },
      "source": [
        "##Imports and references"
      ]
    },
    {
      "cell_type": "markdown",
      "metadata": {
        "id": "L0_04wFoaJSz",
        "colab_type": "text"
      },
      "source": [
        "test cases from https://github.com/schneider128k/machine_learning_course/blob/master/homework/2020_spring/test_cases_for_problems_1_2_homework_4.ipynb"
      ]
    },
    {
      "cell_type": "code",
      "metadata": {
        "id": "RL5PxDngBa0p",
        "colab_type": "code",
        "colab": {}
      },
      "source": [
        "import numpy as np"
      ],
      "execution_count": 0,
      "outputs": []
    },
    {
      "cell_type": "markdown",
      "metadata": {
        "id": "CdMmgQpFG6Ai",
        "colab_type": "text"
      },
      "source": [
        "##maxpooling2d"
      ]
    },
    {
      "cell_type": "markdown",
      "metadata": {
        "id": "Wenzp8dMlXBT",
        "colab_type": "text"
      },
      "source": [
        "assumes valid padding"
      ]
    },
    {
      "cell_type": "code",
      "metadata": {
        "id": "edHozgrMHQ6k",
        "colab_type": "code",
        "colab": {}
      },
      "source": [
        "def maxpooling2d(input_mat, s):\n",
        "    if s > input_mat.shape[0]:\n",
        "        return []\n",
        "   \n",
        "    #size of the output_mat on the x and y axes\n",
        "    output_mat_x = int(input_mat.shape[0] / s)\n",
        "    output_mat_y = int(input_mat.shape[1] / s)\n",
        "    \n",
        "    # empty matrix to hold the results to return\n",
        "    output_mat = np.empty((output_mat_x, output_mat_y))\n",
        "\n",
        "    # while the kernel_mat is still in the bounds of the input_mat, slide the kernel down\n",
        "    for i in range(output_mat_x):\n",
        "        # while kernel_mat is still in the bounds of the input_mat, slide the kernel right\n",
        "        for j in range(output_mat_y):\n",
        "            # applies the kernel to the input_mat and stores the summation of the result to output_mat[i][j]\n",
        "            input_slice = input_mat[i*s:(i+1)*s,j*s:(j+1)*s]\n",
        "            output_mat[i][j] = np.amax(input_slice)\n",
        "    \n",
        "    return output_mat"
      ],
      "execution_count": 0,
      "outputs": []
    },
    {
      "cell_type": "code",
      "metadata": {
        "id": "7Q0IRKMTd6dZ",
        "colab_type": "code",
        "outputId": "9f620368-e3f8-4801-b978-090ef79057e5",
        "colab": {
          "base_uri": "https://localhost:8080/",
          "height": 136
        }
      },
      "source": [
        "#import skimage.measure\n",
        "\n",
        "input_mat = []\n",
        "expected_mat = []\n",
        "s = []\n",
        "\n",
        "input_mat.append(np.array([[1, 2, 1, 2],\n",
        "                           [2, 4, 2, 1],\n",
        "                           [1, 2, 4, 2],\n",
        "                           [2, 1, 2, 1]]))\n",
        "s.append(2)\n",
        "\n",
        "expected_mat.append(np.array([[4, 2],\n",
        "                              [2, 4]]))\n",
        "\n",
        "input_mat.append(np.array([[1, 2, 1, 2, 4, 5],\n",
        "                           [2, 4, 2, 1, 0, 3],\n",
        "                           [1, 2, 4, 2, 4, 5],\n",
        "                           [2, 1, 2, 1, 2, 1],\n",
        "                           [1, 1, 2, 3, 1, 2],\n",
        "                           [1, 1, 2, 3, 1, 2]]))\n",
        "s.append(2)\n",
        "\n",
        "expected_mat.append([[4, 2, 5],\n",
        "                     [2, 4, 5],\n",
        "                     [1, 3, 2]])\n",
        "\n",
        "\n",
        "for i in range(len(input_mat)):\n",
        "  # uncomment top line and comment second line to test code\n",
        "  output_mat = maxpooling2d(input_mat[i], s[i])\n",
        "  #output_mat = skimage.measure.block_reduce(input_mat[i], (s[i],s[i]), np.max)\n",
        "\n",
        "  print(output_mat)\n",
        "\n",
        "  if np.array_equal(output_mat, expected_mat[i]):\n",
        "    print(\"Correct output!\")\n",
        "  else:\n",
        "    print(\"Incorrect output!\")\n"
      ],
      "execution_count": 3,
      "outputs": [
        {
          "output_type": "stream",
          "text": [
            "[[4. 2.]\n",
            " [2. 4.]]\n",
            "Correct output!\n",
            "[[4. 2. 5.]\n",
            " [2. 4. 5.]\n",
            " [1. 3. 2.]]\n",
            "Correct output!\n"
          ],
          "name": "stdout"
        }
      ]
    }
  ]
}